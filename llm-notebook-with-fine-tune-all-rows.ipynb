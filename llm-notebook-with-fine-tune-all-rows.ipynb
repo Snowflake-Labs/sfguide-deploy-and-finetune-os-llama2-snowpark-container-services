{
 "cells": [
  {
   "cell_type": "markdown",
   "metadata": {},
   "source": [
    "# Deploy Open Source Llama 2 in Snowpark Container Services "
   ]
  },
  {
   "cell_type": "markdown",
   "metadata": {},
   "source": [
    "### Import Libraries"
   ]
  },
  {
   "cell_type": "code",
   "execution_count": 1,
   "metadata": {
    "tags": []
   },
   "outputs": [],
   "source": [
    "from snowflake.snowpark.session import Session\n",
    "from snowflake.ml.model.models import llm\n",
    "from snowflake.ml.registry import model_registry\n",
    "from snowflake.ml.model import deploy_platforms\n",
    "from snowflake.snowpark import VERSION\n",
    "import snowflake.snowpark.functions as F\n",
    "\n",
    "import sys\n",
    "import os\n",
    "import json\n",
    "import pandas as pd\n",
    "pd.set_option('display.max_colwidth', None)"
   ]
  },
  {
   "cell_type": "markdown",
   "metadata": {
    "tags": []
   },
   "source": [
    "### Set Variables"
   ]
  },
  {
   "cell_type": "markdown",
   "metadata": {},
   "source": [
    "*Note: Update SNOWFLAKE_WAREHOUSE, SNOWFLAKE_COMPUTE_POOL, HUGGING_FACE_TOKEN before proceeding.*"
   ]
  },
  {
   "cell_type": "code",
   "execution_count": 2,
   "metadata": {
    "tags": []
   },
   "outputs": [],
   "source": [
    "SNOWFLAKE_DATABASE  = os.getenv(\"SNOWFLAKE_DATABASE\")\n",
    "SNOWFLAKE_SCHEMA    = os.getenv(\"SNOWFLAKE_SCHEMA\")\n",
    "SNOWFLAKE_WAREHOUSE = 'DASH_L'\n",
    "SNOWFLAKE_COMPUTE_POOL = 'DASH_GPU3'\n",
    "HUGGING_FACE_TOKEN = 'xxxxxxxxxxxxxxxxxxx'"
   ]
  },
  {
   "cell_type": "markdown",
   "metadata": {},
   "source": [
    "### Establish Secure Connection"
   ]
  },
  {
   "cell_type": "code",
   "execution_count": 3,
   "metadata": {
    "tags": []
   },
   "outputs": [
    {
     "name": "stdout",
     "output_type": "stream",
     "text": [
      "Role                        : \"DASH_SPCS\"\n",
      "Database                    : \"DASH_DB\"\n",
      "Schema                      : \"DASH_SCHEMA\"\n",
      "Warehouse                   : \"DASH_L\"\n",
      "Snowpark for Python version : 1.13.0\n"
     ]
    }
   ],
   "source": [
    "# Read the login token supplied automatically by Snowflake. These tokens are short lived and should always be read right before creating any new connection.\n",
    "def get_login_token():\n",
    "  with open(\"/snowflake/session/token\", \"r\") as f:\n",
    "    return f.read()\n",
    "\n",
    "# Construct Snowflake connection params from environment variables.\n",
    "def get_connection_params():\n",
    "  return {\n",
    "    \"account\": os.getenv(\"SNOWFLAKE_ACCOUNT\"),\n",
    "    \"host\": os.getenv(\"SNOWFLAKE_HOST\"),\n",
    "    \"warehouse\": SNOWFLAKE_WAREHOUSE,\n",
    "    \"database\": SNOWFLAKE_DATABASE,\n",
    "    \"schema\": SNOWFLAKE_SCHEMA,\n",
    "    \"authenticator\": \"oauth\",\n",
    "    \"token\": get_login_token()\n",
    "  }\n",
    "\n",
    "# Create Snowflake Session object\n",
    "session = Session.builder.configs(get_connection_params()).create()\n",
    "session.sql_simplifier_enabled = True\n",
    "snowpark_version = VERSION\n",
    "\n",
    "# Current Environment Details\n",
    "print('Role                        : {}'.format(session.get_current_role()))\n",
    "print('Database                    : {}'.format(session.get_current_database()))\n",
    "print('Schema                      : {}'.format(session.get_current_schema()))\n",
    "print('Warehouse                   : {}'.format(session.get_current_warehouse()))\n",
    "print('Snowpark for Python version : {}.{}.{}'.format(snowpark_version[0],snowpark_version[1],snowpark_version[2]))"
   ]
  },
  {
   "cell_type": "markdown",
   "metadata": {},
   "source": [
    "### Reference Llama 2 from Hugging Face"
   ]
  },
  {
   "cell_type": "code",
   "execution_count": 4,
   "metadata": {
    "tags": []
   },
   "outputs": [
    {
     "data": {
      "application/vnd.jupyter.widget-view+json": {
       "model_id": "49a5333c69d2423b87701a1430ccc488",
       "version_major": 2,
       "version_minor": 0
      },
      "text/plain": [
       "Downloading config.json:   0%|          | 0.00/614 [00:00<?, ?B/s]"
      ]
     },
     "metadata": {},
     "output_type": "display_data"
    }
   ],
   "source": [
    "# Enable INFO log level\n",
    "import logging\n",
    "logging.basicConfig()\n",
    "logging.getLogger().setLevel(logging.INFO)\n",
    "\n",
    "options = llm.LLMOptions(token=HUGGING_FACE_TOKEN,max_batch_size=100,)\n",
    "llama_model = llm.LLM(model_id_or_path=\"meta-llama/Llama-2-7b-chat-hf\",options=options)"
   ]
  },
  {
   "cell_type": "markdown",
   "metadata": {},
   "source": [
    "### Register, Log and Deploy Llama 2 into Snowpark Container Services \n",
    "\n",
    "*NOTE: Logging and deploying the same model are one time operations. Once the model is logged and deployed, use ModeReference to get the reference to the model.*"
   ]
  },
  {
   "cell_type": "code",
   "execution_count": 5,
   "metadata": {
    "tags": []
   },
   "outputs": [
    {
     "name": "stderr",
     "output_type": "stream",
     "text": [
      "/tmp/ipykernel_98/1196839145.py:4: DeprecationWarning: \n",
      "The `snowflake.ml.registry.model_registry.ModelRegistry` has been deprecated starting from version 1.2.0.\n",
      "It will stay in the Private Preview phase. For future implementations, kindly utilize `snowflake.ml.registry.Registry`,\n",
      "except when specifically required. The old model registry will be removed once all its primary functionalities are\n",
      "fully integrated into the new registry.\n",
      "        \n",
      "  registry = model_registry.ModelRegistry(\n",
      "WARNING:snowflake.snowpark:create_model_registry() is in private preview since 0.2.0. Do not use it in production. \n",
      "INFO:snowflake.connector.cursor:query: [SHOW DATABASES LIKE 'DASH_DB']\n",
      "INFO:snowflake.connector.cursor:query execution done\n",
      "INFO:snowflake.connector.cursor:Number of results in first chunk: 1\n",
      "WARNING:absl:The database DASH_DB already exists. Skipping creation.\n",
      "INFO:snowflake.connector.cursor:query: [SHOW SCHEMAS LIKE 'DASH_SCHEMA' IN DATABASE DASH_DB]\n",
      "INFO:snowflake.connector.cursor:query execution done\n",
      "INFO:snowflake.connector.cursor:Number of results in first chunk: 1\n",
      "WARNING:absl:The schema DASH_DB.DASH_SCHEMA already exists. Skipping creation.\n",
      "INFO:snowflake.connector.cursor:query: [SHOW TABLES LIKE '_SYSTEM_REGISTRY_SCHEMA_VERSION' IN DASH_DB.DASH_SCHEMA]\n",
      "INFO:snowflake.connector.cursor:query execution done\n",
      "INFO:snowflake.connector.cursor:Number of results in first chunk: 1\n",
      "INFO:snowflake.connector.cursor:query: [SELECT MAX(VERSION) AS MAX_VERSION FROM DASH_DB.DASH_SCHEMA._SYSTEM_REGISTRY_SCH...]\n",
      "INFO:snowflake.connector.cursor:query execution done\n",
      "INFO:snowflake.connector.cursor:Number of results in first chunk: 1\n",
      "INFO:snowflake.connector.cursor:query: [SHOW TABLES LIKE '_SYSTEM_REGISTRY_SCHEMA_VERSION' IN DASH_DB.DASH_SCHEMA]\n",
      "INFO:snowflake.connector.cursor:query execution done\n",
      "INFO:snowflake.connector.cursor:Number of results in first chunk: 1\n",
      "INFO:snowflake.connector.cursor:query: [SELECT MAX(VERSION) AS MAX_VERSION FROM DASH_DB.DASH_SCHEMA._SYSTEM_REGISTRY_SCH...]\n",
      "INFO:snowflake.connector.cursor:query execution done\n",
      "INFO:snowflake.connector.cursor:Number of results in first chunk: 1\n",
      "INFO:snowflake.connector.cursor:query: [DESC TABLE DASH_DB.DASH_SCHEMA._SYSTEM_REGISTRY_MODELS]\n",
      "INFO:snowflake.connector.cursor:query execution done\n",
      "INFO:snowflake.connector.cursor:Number of results in first chunk: 13\n",
      "INFO:snowflake.connector.cursor:query: [DESC TABLE DASH_DB.DASH_SCHEMA._SYSTEM_REGISTRY_METADATA]\n",
      "INFO:snowflake.connector.cursor:query execution done\n",
      "INFO:snowflake.connector.cursor:Number of results in first chunk: 8\n",
      "INFO:snowflake.connector.cursor:query: [DESC TABLE DASH_DB.DASH_SCHEMA._SYSTEM_REGISTRY_DEPLOYMENTS]\n",
      "INFO:snowflake.connector.cursor:query execution done\n",
      "INFO:snowflake.connector.cursor:Number of results in first chunk: 9\n",
      "INFO:snowflake.connector.cursor:query: [DESC TABLE DASH_DB.DASH_SCHEMA._SYSTEM_REGISTRY_ARTIFACTS]\n",
      "INFO:snowflake.connector.cursor:query execution done\n",
      "INFO:snowflake.connector.cursor:Number of results in first chunk: 7\n",
      "INFO:snowflake.connector.cursor:query: [SHOW DATABASES LIKE 'DASH_DB']\n",
      "INFO:snowflake.connector.cursor:query execution done\n",
      "INFO:snowflake.connector.cursor:Number of results in first chunk: 1\n",
      "INFO:snowflake.connector.cursor:query: [SHOW SCHEMAS LIKE 'DASH_SCHEMA' IN DATABASE DASH_DB]\n",
      "INFO:snowflake.connector.cursor:query execution done\n",
      "INFO:snowflake.connector.cursor:Number of results in first chunk: 1\n",
      "INFO:snowflake.connector.cursor:query: [SHOW TABLES LIKE '_SYSTEM_REGISTRY_MODELS' IN DASH_DB.DASH_SCHEMA]\n",
      "INFO:snowflake.connector.cursor:query execution done\n",
      "INFO:snowflake.connector.cursor:Number of results in first chunk: 1\n",
      "INFO:snowflake.connector.cursor:query: [SHOW TABLES LIKE '_SYSTEM_REGISTRY_METADATA' IN DASH_DB.DASH_SCHEMA]\n",
      "INFO:snowflake.connector.cursor:query execution done\n",
      "INFO:snowflake.connector.cursor:Number of results in first chunk: 1\n",
      "INFO:snowflake.connector.cursor:query: [SHOW TABLES LIKE '_SYSTEM_REGISTRY_DEPLOYMENTS' IN DASH_DB.DASH_SCHEMA]\n",
      "INFO:snowflake.connector.cursor:query execution done\n",
      "INFO:snowflake.connector.cursor:Number of results in first chunk: 1\n",
      "INFO:snowflake.connector.cursor:query: [SHOW TABLES LIKE '_SYSTEM_REGISTRY_SCHEMA_VERSION' IN DASH_DB.DASH_SCHEMA]\n",
      "INFO:snowflake.connector.cursor:query execution done\n",
      "INFO:snowflake.connector.cursor:Number of results in first chunk: 1\n",
      "INFO:snowflake.connector.cursor:query: [SELECT MAX(VERSION) AS MAX_VERSION FROM DASH_DB.DASH_SCHEMA._SYSTEM_REGISTRY_SCH...]\n",
      "INFO:snowflake.connector.cursor:query execution done\n",
      "INFO:snowflake.connector.cursor:Number of results in first chunk: 1\n",
      "INFO:snowflake.connector.cursor:query: [CREATE OR REPLACE TEMPORARY VIEW DASH_DB.DASH_SCHEMA._SYSTEM_REGISTRY_DEPLOYMENT...]\n",
      "INFO:snowflake.connector.cursor:query execution done\n",
      "INFO:snowflake.connector.cursor:Number of results in first chunk: 1\n",
      "INFO:snowflake.connector.cursor:query: [CREATE OR REPLACE TEMPORARY VIEW DASH_DB.DASH_SCHEMA._SYSTEM_REGISTRY_METADATA_L...]\n",
      "INFO:snowflake.connector.cursor:query execution done\n",
      "INFO:snowflake.connector.cursor:Number of results in first chunk: 1\n",
      "INFO:snowflake.connector.cursor:query: [CREATE OR REPLACE TEMPORARY VIEW DASH_DB.DASH_SCHEMA._SYSTEM_REGISTRY_METADATA_L...]\n",
      "INFO:snowflake.connector.cursor:query execution done\n",
      "INFO:snowflake.connector.cursor:Number of results in first chunk: 1\n",
      "INFO:snowflake.connector.cursor:query: [CREATE OR REPLACE TEMPORARY VIEW DASH_DB.DASH_SCHEMA._SYSTEM_REGISTRY_METADATA_L...]\n",
      "INFO:snowflake.connector.cursor:query execution done\n",
      "INFO:snowflake.connector.cursor:Number of results in first chunk: 1\n",
      "INFO:snowflake.connector.cursor:query: [CREATE OR REPLACE TEMPORARY VIEW DASH_DB.DASH_SCHEMA._SYSTEM_REGISTRY_METADATA_L...]\n",
      "INFO:snowflake.connector.cursor:query execution done\n",
      "INFO:snowflake.connector.cursor:Number of results in first chunk: 1\n",
      "INFO:snowflake.connector.cursor:query: [CREATE OR REPLACE TEMPORARY VIEW DASH_DB.DASH_SCHEMA._SYSTEM_REGISTRY_MODELS_VIE...]\n",
      "INFO:snowflake.connector.cursor:query execution done\n",
      "INFO:snowflake.connector.cursor:Number of results in first chunk: 1\n",
      "INFO:snowflake.connector.cursor:query: [CREATE OR REPLACE TEMPORARY VIEW DASH_DB.DASH_SCHEMA._SYSTEM_REGISTRY_ARTIFACTS_...]\n",
      "INFO:snowflake.connector.cursor:query execution done\n",
      "INFO:snowflake.connector.cursor:Number of results in first chunk: 1\n"
     ]
    }
   ],
   "source": [
    "MODEL_NAME    = \"LLAMA2_7b_CHAT\"\n",
    "MODEL_VERSION = \"BaseV1.1\"\n",
    "\n",
    "registry = model_registry.ModelRegistry(\n",
    "    session=session, \n",
    "    database_name=SNOWFLAKE_DATABASE, \n",
    "    schema_name=SNOWFLAKE_SCHEMA, \n",
    "    create_if_not_exists=True)"
   ]
  },
  {
   "cell_type": "code",
   "execution_count": 6,
   "metadata": {
    "tags": []
   },
   "outputs": [
    {
     "name": "stderr",
     "output_type": "stream",
     "text": [
      "WARNING:snowflake.snowpark:ModelRegistry.list_models() is in private preview since 0.2.0. Do not use it in production. \n",
      "INFO:snowflake.connector.cursor:query: [SELECT * FROM DASH_DB.DASH_SCHEMA._SYSTEM_REGISTRY_MODELS_VIEW]\n",
      "INFO:snowflake.connector.cursor:query execution done\n",
      "INFO:snowflake.connector.cursor:Number of results in first chunk: 7\n"
     ]
    },
    {
     "data": {
      "text/html": [
       "<div>\n",
       "<style scoped>\n",
       "    .dataframe tbody tr th:only-of-type {\n",
       "        vertical-align: middle;\n",
       "    }\n",
       "\n",
       "    .dataframe tbody tr th {\n",
       "        vertical-align: top;\n",
       "    }\n",
       "\n",
       "    .dataframe thead th {\n",
       "        text-align: right;\n",
       "    }\n",
       "</style>\n",
       "<table border=\"1\" class=\"dataframe\">\n",
       "  <thead>\n",
       "    <tr style=\"text-align: right;\">\n",
       "      <th></th>\n",
       "      <th>CREATION_CONTEXT</th>\n",
       "      <th>CREATION_ENVIRONMENT_SPEC</th>\n",
       "      <th>CREATION_ROLE</th>\n",
       "      <th>CREATION_TIME</th>\n",
       "      <th>ID</th>\n",
       "      <th>INPUT_SPEC</th>\n",
       "      <th>NAME</th>\n",
       "      <th>OUTPUT_SPEC</th>\n",
       "      <th>RUNTIME_ENVIRONMENT_SPEC</th>\n",
       "      <th>TYPE</th>\n",
       "      <th>URI</th>\n",
       "      <th>VERSION</th>\n",
       "      <th>ARTIFACT_IDS</th>\n",
       "      <th>DESCRIPTION</th>\n",
       "      <th>METRICS</th>\n",
       "      <th>TAGS</th>\n",
       "      <th>REGISTRATION_TIMESTAMP</th>\n",
       "    </tr>\n",
       "  </thead>\n",
       "  <tbody>\n",
       "    <tr>\n",
       "      <th>0</th>\n",
       "      <td>None</td>\n",
       "      <td>{\\n  \"python\": \"3.10.11\"\\n}</td>\n",
       "      <td>\"DASH_SPCS\"</td>\n",
       "      <td>2024-03-29 11:42:39.331000-07:00</td>\n",
       "      <td>1beb3e3aedfc11eea1690a5d91196949</td>\n",
       "      <td>None</td>\n",
       "      <td>LLAMA2_7b_CHAT</td>\n",
       "      <td>None</td>\n",
       "      <td>None</td>\n",
       "      <td>llm</td>\n",
       "      <td>sfc://DASH_DB.DASH_SCHEMA.SNOWML_MODEL_1BEB3E3AEDFC11EEA1690A5D91196949</td>\n",
       "      <td>BaseV1.1</td>\n",
       "      <td>None</td>\n",
       "      <td>None</td>\n",
       "      <td>None</td>\n",
       "      <td>None</td>\n",
       "      <td>2024-03-29 11:42:39.986000-07:00</td>\n",
       "    </tr>\n",
       "    <tr>\n",
       "      <th>1</th>\n",
       "      <td>None</td>\n",
       "      <td>{\\n  \"python\": \"3.8.16\"\\n}</td>\n",
       "      <td>\"DASH_SPCS\"</td>\n",
       "      <td>2023-11-15 11:04:42.250000-08:00</td>\n",
       "      <td>d26762d883e911ee8f5ace7db0e7935f</td>\n",
       "      <td>None</td>\n",
       "      <td>LLAMA2_7b_CHAT</td>\n",
       "      <td>None</td>\n",
       "      <td>None</td>\n",
       "      <td>llm</td>\n",
       "      <td>sfc://DASH_DB.DASH_SCHEMA.SNOWML_MODEL_D26762D883E911EE8F5ACE7DB0E7935F</td>\n",
       "      <td>BestTunedV1.0</td>\n",
       "      <td>None</td>\n",
       "      <td>None</td>\n",
       "      <td>None</td>\n",
       "      <td>None</td>\n",
       "      <td>2023-11-15 11:04:44.853000-08:00</td>\n",
       "    </tr>\n",
       "    <tr>\n",
       "      <th>2</th>\n",
       "      <td>None</td>\n",
       "      <td>{\\n  \"python\": \"3.9.18\"\\n}</td>\n",
       "      <td>\"DASH_SPCS\"</td>\n",
       "      <td>2023-11-14 16:49:14.883000-08:00</td>\n",
       "      <td>c6ca82aa835011eeac5d1204c7b8f46d</td>\n",
       "      <td>None</td>\n",
       "      <td>LLAMA2_7b_CHAT</td>\n",
       "      <td>None</td>\n",
       "      <td>None</td>\n",
       "      <td>llm</td>\n",
       "      <td>sfc://DASH_DB.DASH_SCHEMA.SNOWML_MODEL_C6CA82AA835011EEAC5D1204C7B8F46D</td>\n",
       "      <td>BaseV2.0</td>\n",
       "      <td>None</td>\n",
       "      <td>None</td>\n",
       "      <td>None</td>\n",
       "      <td>None</td>\n",
       "      <td>2023-11-14 16:49:16.186000-08:00</td>\n",
       "    </tr>\n",
       "    <tr>\n",
       "      <th>3</th>\n",
       "      <td>None</td>\n",
       "      <td>{\\n  \"python\": \"3.10.13\"\\n}</td>\n",
       "      <td>\"DASH_SPCS\"</td>\n",
       "      <td>2023-11-14 15:29:38.425000-08:00</td>\n",
       "      <td>a9b776ce834511ee9c921204c7b8f46d</td>\n",
       "      <td>None</td>\n",
       "      <td>LLAMA2_7b_CHAT</td>\n",
       "      <td>None</td>\n",
       "      <td>None</td>\n",
       "      <td>llm</td>\n",
       "      <td>sfc://DASH_DB.DASH_SCHEMA.SNOWML_MODEL_A9B776CE834511EE9C921204C7B8F46D</td>\n",
       "      <td>BaseV1.0</td>\n",
       "      <td>None</td>\n",
       "      <td>None</td>\n",
       "      <td>None</td>\n",
       "      <td>None</td>\n",
       "      <td>2023-11-14 15:29:39.837000-08:00</td>\n",
       "    </tr>\n",
       "    <tr>\n",
       "      <th>4</th>\n",
       "      <td>None</td>\n",
       "      <td>{\\n  \"python\": \"3.9.18\"\\n}</td>\n",
       "      <td>\"DASH_SPCS\"</td>\n",
       "      <td>2023-11-16 09:23:06.204000-08:00</td>\n",
       "      <td>c70d0bf284a411eebb681204c7b8f46d</td>\n",
       "      <td>None</td>\n",
       "      <td>LLAMA2_7b_CHAT</td>\n",
       "      <td>None</td>\n",
       "      <td>None</td>\n",
       "      <td>llm</td>\n",
       "      <td>sfc://DASH_DB.DASH_SCHEMA.SNOWML_MODEL_C70D0BF284A411EEBB681204C7B8F46D</td>\n",
       "      <td>NewBaseV1.0</td>\n",
       "      <td>None</td>\n",
       "      <td>None</td>\n",
       "      <td>None</td>\n",
       "      <td>None</td>\n",
       "      <td>2023-11-16 09:23:07.145000-08:00</td>\n",
       "    </tr>\n",
       "    <tr>\n",
       "      <th>5</th>\n",
       "      <td>None</td>\n",
       "      <td>{\\n  \"python\": \"3.9.18\"\\n}</td>\n",
       "      <td>\"DASH_SPCS\"</td>\n",
       "      <td>2023-11-27 06:38:13.856000-08:00</td>\n",
       "      <td>934a1d828d3211ee9d301204c7b8f46e</td>\n",
       "      <td>None</td>\n",
       "      <td>LLAMA2_7b_CHAT</td>\n",
       "      <td>None</td>\n",
       "      <td>None</td>\n",
       "      <td>llm</td>\n",
       "      <td>sfc://DASH_DB.DASH_SCHEMA.SNOWML_MODEL_934A1D828D3211EE9D301204C7B8F46E</td>\n",
       "      <td>NewBaseV2.0</td>\n",
       "      <td>None</td>\n",
       "      <td>None</td>\n",
       "      <td>None</td>\n",
       "      <td>None</td>\n",
       "      <td>2023-11-27 06:38:15.860000-08:00</td>\n",
       "    </tr>\n",
       "    <tr>\n",
       "      <th>6</th>\n",
       "      <td>None</td>\n",
       "      <td>{\\n  \"python\": \"3.10.11\"\\n}</td>\n",
       "      <td>\"DASH_SPCS\"</td>\n",
       "      <td>2024-03-29 11:32:46.792000-07:00</td>\n",
       "      <td>bc1011e4edfa11ee95890a5d91196949</td>\n",
       "      <td>None</td>\n",
       "      <td>LLAMA2_7b_CHAT</td>\n",
       "      <td>None</td>\n",
       "      <td>None</td>\n",
       "      <td>llm</td>\n",
       "      <td>sfc://DASH_DB.DASH_SCHEMA.SNOWML_MODEL_BC1011E4EDFA11EE95890A5D91196949</td>\n",
       "      <td>FineTunedV1.1</td>\n",
       "      <td>None</td>\n",
       "      <td>None</td>\n",
       "      <td>None</td>\n",
       "      <td>None</td>\n",
       "      <td>2024-03-29 11:32:48.006000-07:00</td>\n",
       "    </tr>\n",
       "  </tbody>\n",
       "</table>\n",
       "</div>"
      ],
      "text/plain": [
       "  CREATION_CONTEXT    CREATION_ENVIRONMENT_SPEC CREATION_ROLE  \\\n",
       "0             None  {\\n  \"python\": \"3.10.11\"\\n}   \"DASH_SPCS\"   \n",
       "1             None   {\\n  \"python\": \"3.8.16\"\\n}   \"DASH_SPCS\"   \n",
       "2             None   {\\n  \"python\": \"3.9.18\"\\n}   \"DASH_SPCS\"   \n",
       "3             None  {\\n  \"python\": \"3.10.13\"\\n}   \"DASH_SPCS\"   \n",
       "4             None   {\\n  \"python\": \"3.9.18\"\\n}   \"DASH_SPCS\"   \n",
       "5             None   {\\n  \"python\": \"3.9.18\"\\n}   \"DASH_SPCS\"   \n",
       "6             None  {\\n  \"python\": \"3.10.11\"\\n}   \"DASH_SPCS\"   \n",
       "\n",
       "                     CREATION_TIME                                ID  \\\n",
       "0 2024-03-29 11:42:39.331000-07:00  1beb3e3aedfc11eea1690a5d91196949   \n",
       "1 2023-11-15 11:04:42.250000-08:00  d26762d883e911ee8f5ace7db0e7935f   \n",
       "2 2023-11-14 16:49:14.883000-08:00  c6ca82aa835011eeac5d1204c7b8f46d   \n",
       "3 2023-11-14 15:29:38.425000-08:00  a9b776ce834511ee9c921204c7b8f46d   \n",
       "4 2023-11-16 09:23:06.204000-08:00  c70d0bf284a411eebb681204c7b8f46d   \n",
       "5 2023-11-27 06:38:13.856000-08:00  934a1d828d3211ee9d301204c7b8f46e   \n",
       "6 2024-03-29 11:32:46.792000-07:00  bc1011e4edfa11ee95890a5d91196949   \n",
       "\n",
       "  INPUT_SPEC            NAME OUTPUT_SPEC RUNTIME_ENVIRONMENT_SPEC TYPE  \\\n",
       "0       None  LLAMA2_7b_CHAT        None                     None  llm   \n",
       "1       None  LLAMA2_7b_CHAT        None                     None  llm   \n",
       "2       None  LLAMA2_7b_CHAT        None                     None  llm   \n",
       "3       None  LLAMA2_7b_CHAT        None                     None  llm   \n",
       "4       None  LLAMA2_7b_CHAT        None                     None  llm   \n",
       "5       None  LLAMA2_7b_CHAT        None                     None  llm   \n",
       "6       None  LLAMA2_7b_CHAT        None                     None  llm   \n",
       "\n",
       "                                                                       URI  \\\n",
       "0  sfc://DASH_DB.DASH_SCHEMA.SNOWML_MODEL_1BEB3E3AEDFC11EEA1690A5D91196949   \n",
       "1  sfc://DASH_DB.DASH_SCHEMA.SNOWML_MODEL_D26762D883E911EE8F5ACE7DB0E7935F   \n",
       "2  sfc://DASH_DB.DASH_SCHEMA.SNOWML_MODEL_C6CA82AA835011EEAC5D1204C7B8F46D   \n",
       "3  sfc://DASH_DB.DASH_SCHEMA.SNOWML_MODEL_A9B776CE834511EE9C921204C7B8F46D   \n",
       "4  sfc://DASH_DB.DASH_SCHEMA.SNOWML_MODEL_C70D0BF284A411EEBB681204C7B8F46D   \n",
       "5  sfc://DASH_DB.DASH_SCHEMA.SNOWML_MODEL_934A1D828D3211EE9D301204C7B8F46E   \n",
       "6  sfc://DASH_DB.DASH_SCHEMA.SNOWML_MODEL_BC1011E4EDFA11EE95890A5D91196949   \n",
       "\n",
       "         VERSION ARTIFACT_IDS DESCRIPTION METRICS  TAGS  \\\n",
       "0       BaseV1.1         None        None    None  None   \n",
       "1  BestTunedV1.0         None        None    None  None   \n",
       "2       BaseV2.0         None        None    None  None   \n",
       "3       BaseV1.0         None        None    None  None   \n",
       "4    NewBaseV1.0         None        None    None  None   \n",
       "5    NewBaseV2.0         None        None    None  None   \n",
       "6  FineTunedV1.1         None        None    None  None   \n",
       "\n",
       "            REGISTRATION_TIMESTAMP  \n",
       "0 2024-03-29 11:42:39.986000-07:00  \n",
       "1 2023-11-15 11:04:44.853000-08:00  \n",
       "2 2023-11-14 16:49:16.186000-08:00  \n",
       "3 2023-11-14 15:29:39.837000-08:00  \n",
       "4 2023-11-16 09:23:07.145000-08:00  \n",
       "5 2023-11-27 06:38:15.860000-08:00  \n",
       "6 2024-03-29 11:32:48.006000-07:00  "
      ]
     },
     "execution_count": 6,
     "metadata": {},
     "output_type": "execute_result"
    }
   ],
   "source": [
    "registry.list_models().to_pandas()"
   ]
  },
  {
   "cell_type": "code",
   "execution_count": 7,
   "metadata": {
    "tags": []
   },
   "outputs": [
    {
     "name": "stderr",
     "output_type": "stream",
     "text": [
      "WARNING:snowflake.snowpark:ModelRegistry.delete_model() is in private preview since 0.2.0. Do not use it in production. \n",
      "INFO:snowflake.connector.cursor:query: [SELECT * FROM DASH_DB.DASH_SCHEMA._SYSTEM_REGISTRY_MODELS_VIEW]\n",
      "INFO:snowflake.connector.cursor:query execution done\n",
      "INFO:snowflake.connector.cursor:Number of results in first chunk: 0\n",
      "INFO:snowflake.connector.cursor:query: [SELECT  *  FROM (SELECT * FROM DASH_DB.DASH_SCHEMA._SYSTEM_REGISTRY_MODELS_VIEW)...]\n",
      "INFO:snowflake.connector.cursor:query execution done\n",
      "INFO:snowflake.connector.cursor:Number of results in first chunk: 1\n",
      "INFO:snowflake.connector.cursor:query: [DELETE FROM DASH_DB.DASH_SCHEMA._SYSTEM_REGISTRY_MODELS WHERE ID='1beb3e3aedfc11...]\n",
      "INFO:snowflake.connector.cursor:query execution done\n",
      "INFO:snowflake.connector.cursor:query: [DROP STAGE DASH_DB.DASH_SCHEMA.SNOWML_MODEL_1BEB3E3AEDFC11EEA1690A5D91196949]\n",
      "INFO:snowflake.connector.cursor:query execution done\n",
      "INFO:snowflake.connector.cursor:Number of results in first chunk: 1\n",
      "INFO:snowflake.connector.cursor:query: [SELECT * FROM DASH_DB.DASH_SCHEMA._SYSTEM_REGISTRY_MODELS_VIEW]\n",
      "INFO:snowflake.connector.cursor:query execution done\n",
      "INFO:snowflake.connector.cursor:Number of results in first chunk: 0\n",
      "INFO:snowflake.connector.cursor:query: [SELECT  *  FROM (SELECT * FROM DASH_DB.DASH_SCHEMA._SYSTEM_REGISTRY_MODELS_VIEW)...]\n",
      "INFO:snowflake.connector.cursor:query execution done\n",
      "INFO:snowflake.connector.cursor:Number of results in first chunk: 0\n",
      "INFO:snowflake.connector.cursor:query: [INSERT INTO DASH_DB.DASH_SCHEMA._SYSTEM_REGISTRY_METADATA ( ATTRIBUTE_NAME,EVENT...]\n",
      "INFO:snowflake.connector.cursor:query execution done\n"
     ]
    }
   ],
   "source": [
    "registry.delete_model(model_name=MODEL_NAME,model_version='BaseV1.1',delete_artifact=True)"
   ]
  },
  {
   "cell_type": "code",
   "execution_count": 8,
   "metadata": {
    "tags": []
   },
   "outputs": [
    {
     "name": "stderr",
     "output_type": "stream",
     "text": [
      "WARNING:snowflake.snowpark:ModelRegistry.log_model() is in private preview since 0.2.0. Do not use it in production. \n",
      "INFO:snowflake.connector.cursor:query: [SHOW TABLES LIKE '_SYSTEM_REGISTRY_SCHEMA_VERSION' IN DASH_DB.DASH_SCHEMA]\n",
      "INFO:snowflake.connector.cursor:query execution done\n",
      "INFO:snowflake.connector.cursor:Number of results in first chunk: 1\n",
      "INFO:snowflake.connector.cursor:query: [SELECT MAX(VERSION) AS MAX_VERSION FROM DASH_DB.DASH_SCHEMA._SYSTEM_REGISTRY_SCH...]\n",
      "INFO:snowflake.connector.cursor:query execution done\n",
      "INFO:snowflake.connector.cursor:Number of results in first chunk: 1\n",
      "INFO:snowflake.connector.cursor:query: [SELECT * FROM DASH_DB.DASH_SCHEMA._SYSTEM_REGISTRY_MODELS_VIEW]\n",
      "INFO:snowflake.connector.cursor:query execution done\n",
      "INFO:snowflake.connector.cursor:Number of results in first chunk: 0\n",
      "INFO:snowflake.connector.cursor:query: [SELECT count(1) AS \"COUNT(LITERAL())\" FROM ( SELECT  *  FROM (SELECT * FROM DASH...]\n",
      "INFO:snowflake.connector.cursor:query execution done\n",
      "INFO:snowflake.connector.cursor:Number of results in first chunk: 1\n",
      "INFO:snowflake.connector.cursor:query: [CREATE OR REPLACE STAGE DASH_DB.DASH_SCHEMA.SNOWML_MODEL_6C48FFE2EE0211EE940DEA7...]\n",
      "INFO:snowflake.connector.cursor:query execution done\n",
      "INFO:snowflake.connector.cursor:Number of results in first chunk: 1\n",
      "INFO:absl:Model signatures are auto inferred as:\n",
      "\n",
      "{'infer': ModelSignature(\n",
      "                    inputs=[\n",
      "                        FeatureSpec(dtype=DataType.STRING, name='input')\n",
      "                    ],\n",
      "                    outputs=[\n",
      "                        FeatureSpec(dtype=DataType.STRING, name='generated_text')\n",
      "                    ]\n",
      "                )}\n",
      "INFO:snowflake.connector.cursor:query: [SELECT PACKAGE_NAME, VERSION FROM information_schema.packages WHERE (package_nam...]\n",
      "INFO:snowflake.connector.cursor:query execution done\n",
      "INFO:snowflake.connector.cursor:Number of results in first chunk: 25\n",
      "INFO:snowflake.connector.cursor:query: [PUT 'file:///tmp/tmp_7ksx36i/model.zip' '@DASH_DB.DASH_SCHEMA.SNOWML_MODEL_6C48F...]\n",
      "INFO:snowflake.connector.cursor:query execution done\n",
      "INFO:snowflake.connector.cursor:query: [PUT 'file:///tmp/tmp_7ksx36i/MANIFEST.yml' '@DASH_DB.DASH_SCHEMA.SNOWML_MODEL_6C...]\n",
      "INFO:snowflake.connector.cursor:query execution done\n",
      "INFO:snowflake.connector.cursor:query: [PUT 'file:///tmp/tmp_7ksx36i/runtimes/python_runtime/env/conda.yml' '@DASH_DB.DA...]\n",
      "INFO:snowflake.connector.cursor:query execution done\n",
      "INFO:snowflake.connector.cursor:query: [PUT 'file:///tmp/tmp_7ksx36i/runtimes/python_runtime/env/requirements.txt' '@DAS...]\n",
      "INFO:snowflake.connector.cursor:query execution done\n",
      "INFO:snowflake.connector.cursor:query: [PUT 'file:///tmp/tmp_7ksx36i/functions/infer.py' '@DASH_DB.DASH_SCHEMA.SNOWML_MO...]\n",
      "INFO:snowflake.connector.cursor:query execution done\n",
      "INFO:snowflake.connector.cursor:query: [SELECT * FROM DASH_DB.DASH_SCHEMA._SYSTEM_REGISTRY_MODELS_VIEW]\n",
      "INFO:snowflake.connector.cursor:query execution done\n",
      "INFO:snowflake.connector.cursor:Number of results in first chunk: 0\n",
      "INFO:snowflake.connector.cursor:query: [SELECT count(1) AS \"COUNT(LITERAL())\" FROM ( SELECT  *  FROM (SELECT * FROM DASH...]\n",
      "INFO:snowflake.connector.cursor:query execution done\n",
      "INFO:snowflake.connector.cursor:Number of results in first chunk: 1\n",
      "INFO:snowflake.connector.cursor:query: [INSERT INTO DASH_DB.DASH_SCHEMA._SYSTEM_REGISTRY_MODELS ( CREATION_ENVIRONMENT_S...]\n",
      "INFO:snowflake.connector.cursor:query execution done\n",
      "INFO:snowflake.connector.cursor:query: [SELECT * FROM DASH_DB.DASH_SCHEMA._SYSTEM_REGISTRY_MODELS_VIEW]\n",
      "INFO:snowflake.connector.cursor:query execution done\n",
      "INFO:snowflake.connector.cursor:Number of results in first chunk: 0\n",
      "INFO:snowflake.connector.cursor:query: [SELECT  *  FROM (SELECT * FROM DASH_DB.DASH_SCHEMA._SYSTEM_REGISTRY_MODELS_VIEW)...]\n",
      "INFO:snowflake.connector.cursor:query execution done\n",
      "INFO:snowflake.connector.cursor:Number of results in first chunk: 1\n",
      "INFO:snowflake.connector.cursor:query: [INSERT INTO DASH_DB.DASH_SCHEMA._SYSTEM_REGISTRY_METADATA ( ATTRIBUTE_NAME,EVENT...]\n",
      "INFO:snowflake.connector.cursor:query execution done\n",
      "INFO:snowflake.connector.cursor:query: [SELECT * FROM DASH_DB.DASH_SCHEMA._SYSTEM_REGISTRY_MODELS_VIEW]\n",
      "INFO:snowflake.connector.cursor:query execution done\n",
      "INFO:snowflake.connector.cursor:Number of results in first chunk: 0\n",
      "INFO:snowflake.connector.cursor:query: [SELECT  *  FROM (SELECT * FROM DASH_DB.DASH_SCHEMA._SYSTEM_REGISTRY_MODELS_VIEW)...]\n",
      "INFO:snowflake.connector.cursor:query execution done\n",
      "INFO:snowflake.connector.cursor:Number of results in first chunk: 1\n"
     ]
    }
   ],
   "source": [
    "llama_model_ref = registry.log_model(\n",
    "    model_name=MODEL_NAME,\n",
    "    model_version=MODEL_VERSION,\n",
    "    model=llama_model,\n",
    "    conda_dependencies=['sentencepiece']\n",
    ")"
   ]
  },
  {
   "cell_type": "markdown",
   "metadata": {},
   "source": [
    "Alternatively, if the model is already deployed, you may reference it using Model Registry"
   ]
  },
  {
   "cell_type": "code",
   "execution_count": 9,
   "metadata": {
    "tags": []
   },
   "outputs": [],
   "source": [
    "# llama_model_ref = model_registry.ModelReference(\n",
    "#     registry=registry, \n",
    "#     model_name=MODEL_NAME, \n",
    "#     model_version=MODEL_VERSION)"
   ]
  },
  {
   "cell_type": "markdown",
   "metadata": {},
   "source": [
    "*NOTE: Deploying model for the first time can take ~25-30mins*"
   ]
  },
  {
   "cell_type": "code",
   "execution_count": 10,
   "metadata": {
    "tags": []
   },
   "outputs": [
    {
     "name": "stderr",
     "output_type": "stream",
     "text": [
      "WARNING:snowflake.snowpark:ModelRegistry.deploy() is in private preview since 0.2.0. Do not use it in production. \n",
      "INFO:snowflake.connector.cursor:query: [SHOW TABLES LIKE '_SYSTEM_REGISTRY_SCHEMA_VERSION' IN DASH_DB.DASH_SCHEMA]\n",
      "INFO:snowflake.connector.cursor:query execution done\n",
      "INFO:snowflake.connector.cursor:Number of results in first chunk: 1\n",
      "INFO:snowflake.connector.cursor:query: [SELECT MAX(VERSION) AS MAX_VERSION FROM DASH_DB.DASH_SCHEMA._SYSTEM_REGISTRY_SCH...]\n",
      "INFO:snowflake.connector.cursor:query execution done\n",
      "INFO:snowflake.connector.cursor:Number of results in first chunk: 1\n",
      "INFO:snowflake.connector.cursor:query: [CREATE STAGE IF NOT EXISTS DASH_DB.DASH_SCHEMA._SYSTEM_REGISTRY_DEPLOYMENTS_STAG...]\n",
      "INFO:snowflake.connector.cursor:query execution done\n",
      "INFO:snowflake.connector.cursor:Number of results in first chunk: 1\n",
      "INFO:snowflake.connector.cursor:query: [SELECT * FROM DASH_DB.DASH_SCHEMA._SYSTEM_REGISTRY_MODELS_VIEW]\n",
      "INFO:snowflake.connector.cursor:query execution done\n",
      "INFO:snowflake.connector.cursor:Number of results in first chunk: 0\n",
      "INFO:snowflake.connector.cursor:query: [SELECT  *  FROM (SELECT * FROM DASH_DB.DASH_SCHEMA._SYSTEM_REGISTRY_MODELS_VIEW)...]\n",
      "INFO:snowflake.connector.cursor:query execution done\n",
      "INFO:snowflake.connector.cursor:Number of results in first chunk: 1\n",
      "INFO:snowflake.connector.cursor:query: [LIST @DASH_DB.DASH_SCHEMA.SNOWML_MODEL_6C48FFE2EE0211EE940DEA79F9E088ED]\n",
      "INFO:snowflake.connector.cursor:query execution done\n",
      "INFO:snowflake.connector.cursor:Number of results in first chunk: 5\n",
      "INFO:snowflake.connector.cursor:query: [SELECT * FROM DASH_DB.DASH_SCHEMA._SYSTEM_REGISTRY_MODELS_VIEW]\n",
      "INFO:snowflake.connector.cursor:query execution done\n",
      "INFO:snowflake.connector.cursor:Number of results in first chunk: 0\n",
      "INFO:snowflake.connector.cursor:query: [SELECT  *  FROM (SELECT * FROM DASH_DB.DASH_SCHEMA._SYSTEM_REGISTRY_MODELS_VIEW)...]\n",
      "INFO:snowflake.connector.cursor:query execution done\n",
      "INFO:snowflake.connector.cursor:Number of results in first chunk: 1\n",
      "INFO:snowflake.connector.cursor:query: [ls @DASH_DB.DASH_SCHEMA.SNOWML_MODEL_6C48FFE2EE0211EE940DEA79F9E088ED]\n",
      "INFO:snowflake.connector.cursor:query execution done\n",
      "INFO:snowflake.connector.cursor:Number of results in first chunk: 5\n",
      "INFO:snowflake.connector.cursor:query: [GET '@DASH_DB.DASH_SCHEMA.SNOWML_MODEL_6C48FFE2EE0211EE940DEA79F9E088ED/MANIFEST...]\n",
      "INFO:snowflake.connector.cursor:query execution done\n",
      "INFO:snowflake.connector.cursor:query: [GET '@DASH_DB.DASH_SCHEMA.SNOWML_MODEL_6C48FFE2EE0211EE940DEA79F9E088ED/function...]\n",
      "INFO:snowflake.connector.cursor:query execution done\n",
      "INFO:snowflake.connector.cursor:query: [GET '@DASH_DB.DASH_SCHEMA.SNOWML_MODEL_6C48FFE2EE0211EE940DEA79F9E088ED/model.zi...]\n",
      "INFO:snowflake.connector.cursor:query execution done\n",
      "INFO:snowflake.connector.cursor:query: [GET '@DASH_DB.DASH_SCHEMA.SNOWML_MODEL_6C48FFE2EE0211EE940DEA79F9E088ED/runtimes...]\n",
      "INFO:snowflake.connector.cursor:query execution done\n",
      "INFO:snowflake.connector.cursor:query: [GET '@DASH_DB.DASH_SCHEMA.SNOWML_MODEL_6C48FFE2EE0211EE940DEA79F9E088ED/runtimes...]\n",
      "INFO:snowflake.connector.cursor:query execution done\n",
      "/opt/conda/envs/rapids/lib/python3.10/site-packages/snowflake/ml/model/_packager/model_env/model_env.py:335: UserWarning: Found dependencies specified as pip requirements. This may prevent model deploying to Snowflake Warehouse.\n",
      "  warnings.warn(\n",
      "INFO:snowflake.connector.cursor:query: [SHOW PARAMETERS LIKE 'PYTHON_CONNECTOR_QUERY_RESULT_FORMAT' IN SESSION]\n",
      "INFO:snowflake.connector.cursor:query execution done\n",
      "INFO:snowflake.connector.cursor:Number of results in first chunk: 1\n",
      "INFO:snowflake.ml.model._deploy_client.snowservice.deploy_options:num_workers has been defaulted to 1 when using GPU.\n",
      "WARNING:snowflake.ml.model._deploy_client.snowservice.deploy:Similar environment detected. Using existing image sfsenorthamerica-build-spcs.registry.snowflakecomputing.com/dash_db/dash_schema/snowml_repo/88f08c87a9c3d01c822fc6c4dd40b1d2c1224089:latest to skip image build. To disable this feature, set 'force_image_build=True' in deployment options\n",
      "INFO:snowflake.ml.model._deploy_client.utils.snowservice_client:Creating service DASH_DB.DASH_SCHEMA.service_6c48ffe2ee0211ee940dea79f9e088ed\n",
      "INFO:snowflake.ml.model._deploy_client.snowservice.deploy:Wait for service DASH_DB.DASH_SCHEMA.service_6c48ffe2ee0211ee940dea79f9e088ed to become ready...\n",
      "WARNING:snowflake.ml.model._deploy_client.utils.snowservice_client:Best-effort log streaming from SPCS will be enabled when python logging level is set to INFO.Alternatively, you can also query the logs by running the query 'CALL SYSTEM$GET_SERVICE_LOGS('DASH_DB.DASH_SCHEMA.service_6c48ffe2ee0211ee940dea79f9e088ed', '0', 'inference-server')'\n",
      "INFO:snowflake.ml._internal.utils.log_stream_processor:Number of CPU cores: 8\n",
      "INFO:snowflake.ml._internal.utils.log_stream_processor:Setting number of workers to 1\n",
      "INFO:snowflake.ml._internal.utils.log_stream_processor:[2024-03-29 19:34:04 +0000] [1] [INFO] Starting gunicorn 21.2.0\n",
      "INFO:snowflake.ml._internal.utils.log_stream_processor:[2024-03-29 19:34:04 +0000] [1] [INFO] Listening at: http://0.0.0.0:5000 (1)\n",
      "INFO:snowflake.ml._internal.utils.log_stream_processor:[2024-03-29 19:34:04 +0000] [1] [INFO] Using worker: uvicorn.workers.UvicornWorker\n",
      "INFO:snowflake.ml._internal.utils.log_stream_processor:[2024-03-29 19:34:04 +0000] [22] [INFO] Booting worker with pid: 22\n",
      "INFO:snowflake.ml._internal.utils.log_stream_processor:[2024-03-29 19:34:04 +0000] [22] [INFO] ENV: environ({'SERVICE_SERVICE_HOST': '10.107.129.39', 'NVIDIA_VISIBLE_DEVICES': 'GPU-d79d29f0-9fb2-2e19-5613-a40dadf95ac0', 'KUBERNETES_SERVICE_PORT_HTTPS': '443', 'KUBERNETES_SERVICE_PORT': '443', 'ENV_NAME': 'base', 'MAMBA_USER': 'mambauser', 'SERVICE_PORT_5000_TCP_PROTO': 'tcp', 'HOSTNAME': 'statefulset-0', '_CONCURRENT_REQUESTS_MAX': '1', 'stage_uid': '1000', 'NUM_WORKERS': '1', 'SNOWFLAKE_PORT': '443', 'PWD': '/tmp', 'CONDA_PREFIX': '/opt/conda', 'SERVICE_SERVICE_PORT_PREDICT': '5000', 'MAMBA_ROOT_PREFIX': '/opt/conda', 'SNOWFLAKE_ACCOUNT': 'RTB37168', 'SNOWFLAKE_DATABASE': 'DASH_DB', 'TARGET_METHOD': 'infer', 'vol1_gid': '0', 'vol1_uid': '0', 'HOME': '/home/mambauser', 'SERVICE_PORT_5000_TCP_ADDR': '10.107.129.39', 'LANG': 'C.UTF-8', 'KUBERNETES_PORT_443_TCP': 'tcp://10.96.0.1:443', 'CONDA_PROMPT_MODIFIER': '(base) ', 'SNOWML_USE_GPU': 'true', 'SNOWFLAKE_SCHEMA': 'DASH_SCHEMA', 'SERVICE_PORT_5000_TCP': 'tcp://10.107.129.39:5000', 'stage_gid': '1000', 'MAMBA_EXE': '/bin/micromamba', 'SNOWFLAKE_HOST': 'snowflake.prod3.us-west-2.aws.snowflakecomputing.com', 'USER': 'mambauser', 'SERVICE_PORT_5000_TCP_PORT': '5000', 'CONDA_SHLVL': '1', 'SHLVL': '0', 'SERVICE_SERVICE_PORT': '5000', 'KUBERNETES_PORT_443_TCP_PROTO': 'tcp', 'KUBERNETES_PORT_443_TCP_ADDR': '10.96.0.1', 'CONDA_DEFAULT_ENV': 'base', 'SNOWFLAKE_SERVICE_NAME': 'SERVICE_6C48FFE2EE0211EE940DEA79F9E088ED', 'KUBERNETES_SERVICE_HOST': '10.96.0.1', 'LC_ALL': 'C.UTF-8', 'KUBERNETES_PORT': 'tcp://10.96.0.1:443', 'KUBERNETES_PORT_443_TCP_PORT': '443', 'SERVICE_PORT': 'tcp://10.107.129.39:5000', 'PATH': '/opt/conda/bin:/opt/conda/condabin:/usr/local/sbin:/usr/local/bin:/usr/sbin:/usr/bin:/sbin:/bin', 'MODEL_ZIP_STAGE_PATH': '/DASH_DB.DASH_SCHEMA.SNOWML_MODEL_6C48FFE2EE0211EE940DEA79F9E088ED/model.zip', 'SERVER_SOFTWARE': 'gunicorn/21.2.0'})\n",
      "INFO:snowflake.ml._internal.utils.log_stream_processor:[2024-03-29 19:34:04 +0000] [22] [INFO] Started server process [22]\n",
      "INFO:snowflake.ml._internal.utils.log_stream_processor:[2024-03-29 19:34:04 +0000] [22] [INFO] Waiting for application startup.\n",
      "INFO:snowflake.ml._internal.utils.log_stream_processor:[2024-03-29 19:34:04 +0000] [22] [INFO] Application startup complete.\n",
      "INFO:snowflake.ml._internal.utils.log_stream_processor:[2024-03-29 19:34:04 +0000] [22] [INFO] Extracting model zip from /DASH_DB.DASH_SCHEMA.SNOWML_MODEL_6C48FFE2EE0211EE940DEA79F9E088ED/model.zip to /tmp/tmpdpdqlivy/extracted_model_dir\n",
      "INFO:snowflake.ml._internal.utils.log_stream_processor:[2024-03-29 19:34:04 +0000] [22] [INFO] Loading model from /tmp/tmpdpdqlivy/extracted_model_dir into memory\n",
      "INFO:snowflake.ml._internal.utils.log_stream_processor:/opt/conda/lib/python3.10/site-packages/snowflake/ml/model/_packager/model_env/model_env.py:335: UserWarning: Found dependencies specified as pip requirements. This may prevent model deploying to Snowflake Warehouse.\n",
      "INFO:snowflake.ml._internal.utils.log_stream_processor:  warnings.warn(\n",
      "INFO:snowflake.ml._internal.utils.log_stream_processor:\n",
      "Downloading tokenizer_config.json: 100%|██████████| 1.62k/1.62k [00:00<00:00, 11.0MB/s]\n",
      "Downloading tokenizer.model: 100%|██████████| 500k/500k [00:00<00:00, 18.9MB/s]\n",
      "INFO:snowflake.ml._internal.utils.log_stream_processor:\n",
      "Downloading tokenizer.json: 100%|██████████| 1.84M/1.84M [00:00<00:00, 5.37MB/s]\n",
      "INFO:snowflake.ml._internal.utils.log_stream_processor:Using pad_token, but it is not set yet.\n",
      "Downloading config.json: 100%|██████████| 614/614 [00:00<00:00, 4.79MB/s]\n",
      "Downloading (…)fetensors.index.json: 100%|██████████| 26.8k/26.8k [00:00<00:00, 110MB/s]\n",
      "Downloading shards:   0%|          | 0/2 [00:00<?, ?it/s]\n",
      "Downloading (…)of-00002.safetensors:   0%|          | 0.00/9.98G [00:00<?, ?B/s]\u001b[A\n",
      "Downloading (…)of-00002.safetensors:   0%|          | 21.0M/9.98G [00:00<00:49, 199MB/s]\u001b[A\n",
      "Downloading (…)of-00002.safetensors:   1%|          | 52.4M/9.98G [00:00<00:45, 217MB/s]\u001b[A\n",
      "Downloading (…)of-00002.safetensors:   1%|          | 83.9M/9.98G [00:00<00:40, 242MB/s]\u001b[A\n",
      "Downloading (…)of-00002.safetensors:   1%|          | 115M/9.98G [00:00<00:39, 252MB/s] \u001b[A\n",
      "Downloading (…)of-00002.safetensors:   1%|▏         | 147M/9.98G [00:00<00:36, 266MB/s]\u001b[A\n",
      "Downloading (…)of-00002.safetensors:   2%|▏         | 178M/9.98G [00:00<00:35, 276MB/s]\u001b[A\n",
      "Downloading (…)of-00002.safetensors:   2%|▏         | 210M/9.98G [00:00<00:34, 282MB/s]\u001b[A\n",
      "Downloading (…)of-00002.safetensors:   2%|▏         | 241M/9.98G [00:00<00:33, 290MB/s]\u001b[A\n",
      "Downloading (…)of-00002.safetensors:   3%|▎         | 273M/9.98G [00:00<00:32, 296MB/s]\u001b[A\n",
      "Downloading (…)of-00002.safetensors:   3%|▎         | 304M/9.98G [00:01<00:51, 188MB/s]\u001b[A\n",
      "Downloading (…)of-00002.safetensors:   3%|▎         | 336M/9.98G [00:01<00:45, 213MB/s]\u001b[A\n",
      "INFO:snowflake.ml._internal.utils.log_stream_processor:\n",
      "Downloading (…)of-00002.safetensors:   4%|▍         | 398M/9.98G [00:01<00:41, 229MB/s]\u001b[A\n",
      "Downloading (…)of-00002.safetensors:   4%|▍         | 430M/9.98G [00:01<00:40, 236MB/s]\u001b[A\n",
      "Downloading (…)of-00002.safetensors:   5%|▍         | 461M/9.98G [00:01<00:38, 245MB/s]\u001b[A\n",
      "Downloading (…)of-00002.safetensors:   5%|▍         | 493M/9.98G [00:02<00:36, 257MB/s]\u001b[A\n",
      "Downloading (…)of-00002.safetensors:   5%|▌         | 524M/9.98G [00:02<00:35, 265MB/s]\u001b[A\n",
      "Downloading (…)of-00002.safetensors:   6%|▌         | 566M/9.98G [00:02<00:33, 282MB/s]\u001b[A\n",
      "Downloading (…)of-00002.safetensors:   6%|▌         | 608M/9.98G [00:02<00:31, 295MB/s]\u001b[A\n",
      "Downloading (…)of-00002.safetensors:   7%|▋         | 650M/9.98G [00:02<00:31, 299MB/s]\u001b[A\n",
      "Downloading (…)of-00002.safetensors:   7%|▋         | 682M/9.98G [00:02<00:32, 283MB/s]\u001b[A\n",
      "Downloading (…)of-00002.safetensors:   7%|▋         | 713M/9.98G [00:02<00:33, 276MB/s]\u001b[A\n",
      "Downloading (…)of-00002.safetensors:   7%|▋         | 744M/9.98G [00:02<00:33, 275MB/s]\u001b[A\n",
      "Downloading (…)of-00002.safetensors:   8%|▊         | 776M/9.98G [00:02<00:33, 278MB/s]\u001b[A\n",
      "Downloading (…)of-00002.safetensors:   8%|▊         | 807M/9.98G [00:03<00:32, 283MB/s]\u001b[A\n",
      "Downloading (…)of-00002.safetensors:   8%|▊         | 839M/9.98G [00:03<00:31, 288MB/s]\u001b[A\n",
      "Downloading (…)of-00002.safetensors:   9%|▊         | 870M/9.98G [00:03<00:32, 278MB/s]\u001b[A\n",
      "Downloading (…)of-00002.safetensors:   9%|▉         | 902M/9.98G [00:03<00:34, 263MB/s]\u001b[A\n",
      "Downloading (…)of-00002.safetensors:   9%|▉         | 933M/9.98G [00:03<00:35, 256MB/s]\u001b[A\n",
      "Downloading (…)of-00002.safetensors:  10%|▉         | 965M/9.98G [00:03<00:34, 259MB/s]\u001b[A\n",
      "Downloading (…)of-00002.safetensors:  10%|▉         | 996M/9.98G [00:03<00:34, 262MB/s]\u001b[A\n",
      "Downloading (…)of-00002.safetensors:  10%|█         | 1.03G/9.98G [00:03<00:33, 269MB/s]\u001b[A\n",
      "Downloading (…)of-00002.safetensors:  11%|█         | 1.06G/9.98G [00:04<00:32, 276MB/s]\u001b[A\n",
      "Downloading (…)of-00002.safetensors:  11%|█         | 1.09G/9.98G [00:04<00:31, 285MB/s]\u001b[A\n",
      "Downloading (…)of-00002.safetensors:  11%|█         | 1.12G/9.98G [00:04<00:30, 290MB/s]\u001b[A\n",
      "Downloading (…)of-00002.safetensors:  12%|█▏        | 1.15G/9.98G [00:04<00:31, 284MB/s]\u001b[A\n",
      "Downloading (…)of-00002.safetensors:  12%|█▏        | 1.18G/9.98G [00:04<00:33, 264MB/s]\u001b[A\n",
      "Downloading (…)of-00002.safetensors:  12%|█▏        | 1.22G/9.98G [00:04<00:33, 261MB/s]\u001b[A\n",
      "Downloading (…)of-00002.safetensors:  13%|█▎        | 1.25G/9.98G [00:04<00:33, 259MB/s]\u001b[A\n",
      "Downloading (…)of-00002.safetensors:  13%|█▎        | 1.28G/9.98G [00:04<00:33, 263MB/s]\u001b[A\n",
      "Downloading (…)of-00002.safetensors:  13%|█▎        | 1.31G/9.98G [00:04<00:32, 266MB/s]\u001b[A\n",
      "Downloading (…)of-00002.safetensors:  13%|█▎        | 1.34G/9.98G [00:05<00:31, 278MB/s]\u001b[A\n",
      "Downloading (…)of-00002.safetensors:  14%|█▍        | 1.38G/9.98G [00:05<00:29, 290MB/s]\u001b[A\n",
      "Downloading (…)of-00002.safetensors:  14%|█▍        | 1.42G/9.98G [00:05<00:32, 267MB/s]\u001b[A\n",
      "Downloading (…)of-00002.safetensors:  15%|█▍        | 1.45G/9.98G [00:05<00:32, 263MB/s]\u001b[A\n",
      "Downloading (…)of-00002.safetensors:  15%|█▍        | 1.48G/9.98G [00:05<00:32, 262MB/s]\u001b[A\n",
      "Downloading (…)of-00002.safetensors:  15%|█▌        | 1.51G/9.98G [00:05<00:31, 270MB/s]\u001b[A\n",
      "Downloading (…)of-00002.safetensors:  15%|█▌        | 1.54G/9.98G [00:05<00:31, 270MB/s]\u001b[A\n",
      "Downloading (…)of-00002.safetensors:  16%|█▌        | 1.57G/9.98G [00:05<00:30, 279MB/s]\u001b[A\n",
      "Downloading (…)of-00002.safetensors:  16%|█▌        | 1.60G/9.98G [00:06<00:29, 289MB/s]\u001b[A\n",
      "Downloading (…)of-00002.safetensors:  16%|█▋        | 1.64G/9.98G [00:06<00:31, 267MB/s]\u001b[A\n",
      "Downloading (…)of-00002.safetensors:  17%|█▋        | 1.67G/9.98G [00:06<00:31, 261MB/s]\u001b[A\n",
      "Downloading (…)of-00002.safetensors:  17%|█▋        | 1.70G/9.98G [00:06<00:32, 257MB/s]\u001b[A\n",
      "Downloading (…)of-00002.safetensors:  17%|█▋        | 1.73G/9.98G [00:06<00:32, 257MB/s]\u001b[A\n",
      "Downloading (…)of-00002.safetensors:  18%|█▊        | 1.76G/9.98G [00:06<00:31, 262MB/s]\u001b[A\n",
      "Downloading (…)of-00002.safetensors:  18%|█▊        | 1.79G/9.98G [00:06<00:30, 269MB/s]\u001b[A\n",
      "Downloading (…)of-00002.safetensors:  18%|█▊        | 1.82G/9.98G [00:06<00:29, 276MB/s]\u001b[A\n",
      "Downloading (…)of-00002.safetensors:  19%|█▊        | 1.86G/9.98G [00:06<00:28, 282MB/s]\u001b[A\n",
      "Downloading (…)of-00002.safetensors:  19%|█▉        | 1.89G/9.98G [00:07<00:27, 290MB/s]\u001b[A\n",
      "Downloading (…)of-00002.safetensors:  19%|█▉        | 1.93G/9.98G [00:07<00:26, 304MB/s]\u001b[A\n",
      "Downloading (…)of-00002.safetensors:  20%|█▉        | 1.97G/9.98G [00:07<00:26, 306MB/s]\u001b[A\n",
      "Downloading (…)of-00002.safetensors:  20%|██        | 2.00G/9.98G [00:07<00:27, 287MB/s]\u001b[A\n",
      "Downloading (…)of-00002.safetensors:  20%|██        | 2.03G/9.98G [00:07<00:28, 278MB/s]\u001b[A\n",
      "Downloading (…)of-00002.safetensors:  21%|██        | 2.07G/9.98G [00:07<00:28, 274MB/s]\u001b[A\n",
      "Downloading (…)of-00002.safetensors:  21%|██        | 2.10G/9.98G [00:07<00:28, 273MB/s]\u001b[A\n",
      "Downloading (…)of-00002.safetensors:  21%|██▏       | 2.13G/9.98G [00:07<00:28, 272MB/s]\u001b[A\n",
      "Downloading (…)of-00002.safetensors:  22%|██▏       | 2.16G/9.98G [00:08<00:28, 275MB/s]\u001b[A\n",
      "Downloading (…)of-00002.safetensors:  22%|██▏       | 2.19G/9.98G [00:08<00:27, 280MB/s]\u001b[A\n",
      "Downloading (…)of-00002.safetensors:  22%|██▏       | 2.22G/9.98G [00:08<00:26, 289MB/s]\u001b[A\n",
      "Downloading (…)of-00002.safetensors:  23%|██▎       | 2.25G/9.98G [00:08<00:26, 293MB/s]\u001b[A\n",
      "Downloading (…)of-00002.safetensors:  23%|██▎       | 2.30G/9.98G [00:08<00:25, 305MB/s]\u001b[A\n",
      "Downloading (…)of-00002.safetensors:  23%|██▎       | 2.34G/9.98G [00:08<00:24, 313MB/s]\u001b[A\n",
      "Downloading (…)of-00002.safetensors:  24%|██▍       | 2.37G/9.98G [00:08<00:26, 287MB/s]\u001b[A\n",
      "Downloading (…)of-00002.safetensors:  24%|██▍       | 2.40G/9.98G [00:08<00:27, 275MB/s]\u001b[A\n",
      "Downloading (…)of-00002.safetensors:  24%|██▍       | 2.43G/9.98G [00:09<00:27, 272MB/s]\u001b[A\n",
      "Downloading (…)of-00002.safetensors:  25%|██▍       | 2.46G/9.98G [00:09<00:27, 273MB/s]\u001b[A\n",
      "Downloading (…)of-00002.safetensors:  25%|██▌       | 2.50G/9.98G [00:09<00:27, 277MB/s]\u001b[A\n",
      "Downloading (…)of-00002.safetensors:  25%|██▌       | 2.53G/9.98G [00:09<00:26, 281MB/s]\u001b[A\n",
      "Downloading (…)of-00002.safetensors:  26%|██▌       | 2.56G/9.98G [00:09<00:25, 286MB/s]\u001b[A\n",
      "Downloading (…)of-00002.safetensors:  26%|██▌       | 2.59G/9.98G [00:09<00:25, 292MB/s]\u001b[A\n",
      "Downloading (…)of-00002.safetensors:  26%|██▋       | 2.63G/9.98G [00:09<00:24, 303MB/s]\u001b[A\n",
      "Downloading (…)of-00002.safetensors:  27%|██▋       | 2.66G/9.98G [00:09<00:25, 282MB/s]\u001b[A\n",
      "Downloading (…)of-00002.safetensors:  27%|██▋       | 2.69G/9.98G [00:09<00:26, 270MB/s]\u001b[A\n",
      "Downloading (…)of-00002.safetensors:  27%|██▋       | 2.73G/9.98G [00:10<00:27, 266MB/s]\u001b[A\n",
      "Downloading (…)of-00002.safetensors:  28%|██▊       | 2.76G/9.98G [00:10<00:27, 265MB/s]\u001b[A\n",
      "Downloading (…)of-00002.safetensors:  28%|██▊       | 2.79G/9.98G [00:10<00:28, 256MB/s]\u001b[A\n",
      "Downloading (…)of-00002.safetensors:  28%|██▊       | 2.82G/9.98G [00:10<00:30, 235MB/s]\u001b[A\n",
      "Downloading (…)of-00002.safetensors:  29%|██▊       | 2.85G/9.98G [00:10<00:28, 252MB/s]\u001b[A\n",
      "Downloading (…)of-00002.safetensors:  29%|██▉       | 2.89G/9.98G [00:10<00:26, 272MB/s]\u001b[A\n",
      "Downloading (…)of-00002.safetensors:  29%|██▉       | 2.93G/9.98G [00:10<00:26, 266MB/s]\u001b[A\n",
      "Downloading (…)of-00002.safetensors:  30%|██▉       | 2.96G/9.98G [00:10<00:27, 260MB/s]\u001b[A\n",
      "Downloading (…)of-00002.safetensors:  30%|██▉       | 2.99G/9.98G [00:11<00:26, 259MB/s]\u001b[A\n",
      "Downloading (…)of-00002.safetensors:  30%|███       | 3.02G/9.98G [00:11<00:26, 262MB/s]\u001b[A\n",
      "Downloading (…)of-00002.safetensors:  31%|███       | 3.05G/9.98G [00:11<00:26, 266MB/s]\u001b[A\n",
      "Downloading (…)of-00002.safetensors:  31%|███       | 3.08G/9.98G [00:11<00:25, 273MB/s]\u001b[A\n",
      "Downloading (…)of-00002.safetensors:  31%|███       | 3.11G/9.98G [00:11<00:24, 279MB/s]\u001b[A\n",
      "Downloading (…)of-00002.safetensors:  32%|███▏      | 3.15G/9.98G [00:11<00:23, 289MB/s]\u001b[A\n",
      "INFO:snowflake.ml._internal.utils.log_stream_processor:\n",
      "Downloading (…)of-00002.safetensors:  32%|███▏      | 3.23G/9.98G [00:11<00:21, 312MB/s]\u001b[A\n",
      "Downloading (…)of-00002.safetensors:  33%|███▎      | 3.27G/9.98G [00:12<00:20, 320MB/s]\u001b[A\n",
      "Downloading (…)of-00002.safetensors:  33%|███▎      | 3.31G/9.98G [00:12<00:22, 296MB/s]\u001b[A\n",
      "Downloading (…)of-00002.safetensors:  34%|███▎      | 3.34G/9.98G [00:12<00:23, 284MB/s]\u001b[A\n",
      "Downloading (…)of-00002.safetensors:  34%|███▍      | 3.38G/9.98G [00:12<00:23, 285MB/s]\u001b[A\n",
      "Downloading (…)of-00002.safetensors:  34%|███▍      | 3.41G/9.98G [00:12<00:22, 287MB/s]\u001b[A\n",
      "Downloading (…)of-00002.safetensors:  34%|███▍      | 3.44G/9.98G [00:12<00:22, 291MB/s]\u001b[A\n",
      "Downloading (…)of-00002.safetensors:  35%|███▍      | 3.47G/9.98G [00:12<00:21, 297MB/s]\u001b[A\n",
      "Downloading (…)of-00002.safetensors:  35%|███▌      | 3.51G/9.98G [00:12<00:20, 310MB/s]\u001b[A\n",
      "Downloading (…)of-00002.safetensors:  36%|███▌      | 3.55G/9.98G [00:12<00:20, 317MB/s]\u001b[A\n",
      "Downloading (…)of-00002.safetensors:  36%|███▌      | 3.60G/9.98G [00:13<00:22, 285MB/s]\u001b[A\n",
      "Downloading (…)of-00002.safetensors:  36%|███▋      | 3.63G/9.98G [00:13<00:22, 277MB/s]\u001b[A\n",
      "Downloading (…)of-00002.safetensors:  37%|███▋      | 3.66G/9.98G [00:13<00:23, 271MB/s]\u001b[A\n",
      "Downloading (…)of-00002.safetensors:  37%|███▋      | 3.69G/9.98G [00:13<00:23, 271MB/s]\u001b[A\n",
      "Downloading (…)of-00002.safetensors:  37%|███▋      | 3.72G/9.98G [00:13<00:22, 278MB/s]\u001b[A\n",
      "Downloading (…)of-00002.safetensors:  38%|███▊      | 3.75G/9.98G [00:13<00:22, 283MB/s]\u001b[A\n",
      "Downloading (…)of-00002.safetensors:  38%|███▊      | 3.79G/9.98G [00:13<00:21, 291MB/s]\u001b[A\n",
      "Downloading (…)of-00002.safetensors:  38%|███▊      | 3.82G/9.98G [00:13<00:22, 273MB/s]\u001b[A\n",
      "Downloading (…)of-00002.safetensors:  39%|███▊      | 3.85G/9.98G [00:14<00:23, 261MB/s]\u001b[A\n",
      "Downloading (…)of-00002.safetensors:  39%|███▉      | 3.88G/9.98G [00:14<00:23, 259MB/s]\u001b[A\n",
      "Downloading (…)of-00002.safetensors:  39%|███▉      | 3.91G/9.98G [00:14<00:22, 266MB/s]\u001b[A\n",
      "Downloading (…)of-00002.safetensors:  40%|███▉      | 3.94G/9.98G [00:14<00:21, 275MB/s]\u001b[A\n",
      "Downloading (…)of-00002.safetensors:  40%|███▉      | 3.97G/9.98G [00:14<00:21, 278MB/s]\u001b[A\n",
      "Downloading (…)of-00002.safetensors:  40%|████      | 4.01G/9.98G [00:14<00:22, 263MB/s]\u001b[A\n",
      "Downloading (…)of-00002.safetensors:  40%|████      | 4.04G/9.98G [00:14<00:23, 251MB/s]\u001b[A\n",
      "Downloading (…)of-00002.safetensors:  41%|████      | 4.07G/9.98G [00:14<00:23, 250MB/s]\u001b[A\n",
      "Downloading (…)of-00002.safetensors:  41%|████      | 4.10G/9.98G [00:15<00:23, 254MB/s]\u001b[A\n",
      "Downloading (…)of-00002.safetensors:  41%|████▏     | 4.13G/9.98G [00:15<00:22, 258MB/s]\u001b[A\n",
      "Downloading (…)of-00002.safetensors:  42%|████▏     | 4.16G/9.98G [00:15<00:24, 240MB/s]\u001b[A\n",
      "Downloading (…)of-00002.safetensors:  42%|████▏     | 4.19G/9.98G [00:15<00:23, 248MB/s]\u001b[A\n",
      "Downloading (…)of-00002.safetensors:  42%|████▏     | 4.23G/9.98G [00:15<00:21, 262MB/s]\u001b[A\n",
      "Downloading (…)of-00002.safetensors:  43%|████▎     | 4.26G/9.98G [00:15<00:21, 272MB/s]\u001b[A\n",
      "Downloading (…)of-00002.safetensors:  43%|████▎     | 4.29G/9.98G [00:15<00:20, 283MB/s]\u001b[A\n",
      "Downloading (…)of-00002.safetensors:  43%|████▎     | 4.33G/9.98G [00:15<00:19, 297MB/s]\u001b[A\n",
      "Downloading (…)of-00002.safetensors:  44%|████▎     | 4.36G/9.98G [00:15<00:19, 294MB/s]\u001b[A\n",
      "Downloading (…)of-00002.safetensors:  44%|████▍     | 4.39G/9.98G [00:16<00:20, 274MB/s]\u001b[A\n",
      "Downloading (…)of-00002.safetensors:  44%|████▍     | 4.42G/9.98G [00:16<00:20, 267MB/s]\u001b[A\n",
      "Downloading (…)of-00002.safetensors:  45%|████▍     | 4.46G/9.98G [00:16<00:20, 265MB/s]\u001b[A\n",
      "Downloading (…)of-00002.safetensors:  45%|████▍     | 4.49G/9.98G [00:16<00:20, 268MB/s]\u001b[A\n",
      "Downloading (…)of-00002.safetensors:  45%|████▌     | 4.52G/9.98G [00:16<00:20, 273MB/s]\u001b[A\n",
      "Downloading (…)of-00002.safetensors:  46%|████▌     | 4.55G/9.98G [00:16<00:19, 277MB/s]\u001b[A\n",
      "Downloading (…)of-00002.safetensors:  46%|████▌     | 4.58G/9.98G [00:16<00:19, 280MB/s]\u001b[A\n",
      "Downloading (…)of-00002.safetensors:  46%|████▌     | 4.61G/9.98G [00:16<00:18, 284MB/s]\u001b[A\n",
      "Downloading (…)of-00002.safetensors:  47%|████▋     | 4.65G/9.98G [00:17<00:18, 288MB/s]\u001b[A\n",
      "Downloading (…)of-00002.safetensors:  47%|████▋     | 4.68G/9.98G [00:17<00:17, 295MB/s]\u001b[A\n",
      "Downloading (…)of-00002.safetensors:  47%|████▋     | 4.71G/9.98G [00:17<00:17, 299MB/s]\u001b[A\n",
      "Downloading (…)of-00002.safetensors:  48%|████▊     | 4.75G/9.98G [00:17<00:17, 305MB/s]\u001b[A\n",
      "Downloading (…)of-00002.safetensors:  48%|████▊     | 4.78G/9.98G [00:17<00:17, 302MB/s]\u001b[A\n",
      "Downloading (…)of-00002.safetensors:  48%|████▊     | 4.81G/9.98G [00:17<00:18, 278MB/s]\u001b[A\n",
      "Downloading (…)of-00002.safetensors:  49%|████▊     | 4.84G/9.98G [00:17<00:19, 267MB/s]\u001b[A\n",
      "Downloading (…)of-00002.safetensors:  49%|████▉     | 4.88G/9.98G [00:17<00:19, 260MB/s]\u001b[A\n",
      "Downloading (…)of-00002.safetensors:  49%|████▉     | 4.91G/9.98G [00:17<00:19, 260MB/s]\u001b[A\n",
      "Downloading (…)of-00002.safetensors:  50%|████▉     | 4.94G/9.98G [00:18<00:18, 265MB/s]\u001b[A\n",
      "Downloading (…)of-00002.safetensors:  50%|████▉     | 4.97G/9.98G [00:18<00:18, 266MB/s]\u001b[A\n",
      "Downloading (…)of-00002.safetensors:  50%|█████     | 5.00G/9.98G [00:18<00:18, 270MB/s]\u001b[A\n",
      "Downloading (…)of-00002.safetensors:  50%|█████     | 5.03G/9.98G [00:18<00:17, 276MB/s]\u001b[A\n",
      "Downloading (…)of-00002.safetensors:  51%|█████     | 5.06G/9.98G [00:18<00:17, 283MB/s]\u001b[A\n",
      "Downloading (…)of-00002.safetensors:  51%|█████     | 5.10G/9.98G [00:18<00:16, 288MB/s]\u001b[A\n",
      "Downloading (…)of-00002.safetensors:  51%|█████▏    | 5.13G/9.98G [00:18<00:16, 292MB/s]\u001b[A\n",
      "Downloading (…)of-00002.safetensors:  52%|█████▏    | 5.16G/9.98G [00:18<00:17, 273MB/s]\u001b[A\n",
      "Downloading (…)of-00002.safetensors:  52%|█████▏    | 5.19G/9.98G [00:19<00:18, 264MB/s]\u001b[A\n",
      "Downloading (…)of-00002.safetensors:  52%|█████▏    | 5.22G/9.98G [00:19<00:18, 263MB/s]\u001b[A\n",
      "Downloading (…)of-00002.safetensors:  53%|█████▎    | 5.25G/9.98G [00:19<00:17, 265MB/s]\u001b[A\n",
      "Downloading (…)of-00002.safetensors:  53%|█████▎    | 5.28G/9.98G [00:19<00:17, 272MB/s]\u001b[A\n",
      "Downloading (…)of-00002.safetensors:  53%|█████▎    | 5.32G/9.98G [00:19<00:16, 279MB/s]\u001b[A\n",
      "Downloading (…)of-00002.safetensors:  54%|█████▎    | 5.35G/9.98G [00:19<00:16, 286MB/s]\u001b[A\n",
      "Downloading (…)of-00002.safetensors:  54%|█████▍    | 5.38G/9.98G [00:19<00:15, 289MB/s]\u001b[A\n",
      "Downloading (…)of-00002.safetensors:  54%|█████▍    | 5.42G/9.98G [00:19<00:15, 299MB/s]\u001b[A\n",
      "Downloading (…)of-00002.safetensors:  55%|█████▍    | 5.46G/9.98G [00:19<00:14, 312MB/s]\u001b[A\n",
      "Downloading (…)of-00002.safetensors:  55%|█████▌    | 5.49G/9.98G [00:20<00:15, 285MB/s]\u001b[A\n",
      "Downloading (…)of-00002.safetensors:  55%|█████▌    | 5.53G/9.98G [00:20<00:16, 266MB/s]\u001b[A\n",
      "Downloading (…)of-00002.safetensors:  56%|█████▌    | 5.56G/9.98G [00:20<00:24, 177MB/s]\u001b[A\n",
      "Downloading (…)of-00002.safetensors:  56%|█████▌    | 5.59G/9.98G [00:20<00:24, 178MB/s]\u001b[A\n",
      "Downloading (…)of-00002.safetensors:  56%|█████▋    | 5.62G/9.98G [00:20<00:21, 200MB/s]\u001b[A\n",
      "Downloading (…)of-00002.safetensors:  57%|█████▋    | 5.65G/9.98G [00:20<00:19, 222MB/s]\u001b[A\n",
      "Downloading (…)of-00002.safetensors:  57%|█████▋    | 5.69G/9.98G [00:21<00:17, 248MB/s]\u001b[A\n",
      "Downloading (…)of-00002.safetensors:  57%|█████▋    | 5.74G/9.98G [00:21<00:15, 270MB/s]\u001b[A\n",
      "Downloading (…)of-00002.safetensors:  58%|█████▊    | 5.77G/9.98G [00:21<00:15, 277MB/s]\u001b[A\n",
      "Downloading (…)of-00002.safetensors:  58%|█████▊    | 5.80G/9.98G [00:21<00:15, 262MB/s]\u001b[A\n",
      "Downloading (…)of-00002.safetensors:  58%|█████▊    | 5.83G/9.98G [00:21<00:16, 258MB/s]\u001b[A\n",
      "Downloading (…)of-00002.safetensors:  59%|█████▉    | 5.86G/9.98G [00:21<00:15, 261MB/s]\u001b[A\n",
      "Downloading (…)of-00002.safetensors:  59%|█████▉    | 5.89G/9.98G [00:21<00:15, 267MB/s]\u001b[A\n",
      "Downloading (…)of-00002.safetensors:  59%|█████▉    | 5.92G/9.98G [00:21<00:14, 274MB/s]\u001b[A\n",
      "INFO:snowflake.ml._internal.utils.log_stream_processor:\n",
      "Downloading (…)of-00002.safetensors:  60%|██████    | 6.00G/9.98G [00:22<00:13, 294MB/s]\u001b[A\n",
      "Downloading (…)of-00002.safetensors:  61%|██████    | 6.04G/9.98G [00:22<00:13, 303MB/s]\u001b[A\n",
      "Downloading (…)of-00002.safetensors:  61%|██████    | 6.07G/9.98G [00:22<00:13, 290MB/s]\u001b[A\n",
      "Downloading (…)of-00002.safetensors:  61%|██████    | 6.10G/9.98G [00:22<00:14, 277MB/s]\u001b[A\n",
      "Downloading (…)of-00002.safetensors:  61%|██████▏   | 6.13G/9.98G [00:22<00:14, 274MB/s]\u001b[A\n",
      "Downloading (…)of-00002.safetensors:  62%|██████▏   | 6.17G/9.98G [00:22<00:13, 275MB/s]\u001b[A\n",
      "Downloading (…)of-00002.safetensors:  62%|██████▏   | 6.20G/9.98G [00:22<00:13, 276MB/s]\u001b[A\n",
      "Downloading (…)of-00002.safetensors:  62%|██████▏   | 6.23G/9.98G [00:22<00:13, 281MB/s]\u001b[A\n",
      "Downloading (…)of-00002.safetensors:  63%|██████▎   | 6.26G/9.98G [00:23<00:12, 288MB/s]\u001b[A\n",
      "Downloading (…)of-00002.safetensors:  63%|██████▎   | 6.29G/9.98G [00:23<00:13, 268MB/s]\u001b[A\n",
      "Downloading (…)of-00002.safetensors:  63%|██████▎   | 6.32G/9.98G [00:23<00:13, 279MB/s]\u001b[A\n",
      "Downloading (…)of-00002.safetensors:  64%|██████▍   | 6.36G/9.98G [00:23<00:12, 294MB/s]\u001b[A\n",
      "Downloading (…)of-00002.safetensors:  64%|██████▍   | 6.40G/9.98G [00:23<00:13, 274MB/s]\u001b[A\n",
      "Downloading (…)of-00002.safetensors:  64%|██████▍   | 6.43G/9.98G [00:23<00:13, 264MB/s]\u001b[A\n",
      "Downloading (…)of-00002.safetensors:  65%|██████▍   | 6.46G/9.98G [00:23<00:13, 261MB/s]\u001b[A\n",
      "Downloading (…)of-00002.safetensors:  65%|██████▌   | 6.49G/9.98G [00:23<00:13, 261MB/s]\u001b[A\n",
      "Downloading (…)of-00002.safetensors:  65%|██████▌   | 6.52G/9.98G [00:24<00:12, 269MB/s]\u001b[A\n",
      "Downloading (…)of-00002.safetensors:  66%|██████▌   | 6.55G/9.98G [00:24<00:12, 272MB/s]\u001b[A\n",
      "Downloading (…)of-00002.safetensors:  66%|██████▌   | 6.59G/9.98G [00:24<00:12, 278MB/s]\u001b[A\n",
      "Downloading (…)of-00002.safetensors:  66%|██████▋   | 6.62G/9.98G [00:24<00:11, 287MB/s]\u001b[A\n",
      "Downloading (…)of-00002.safetensors:  67%|██████▋   | 6.66G/9.98G [00:24<00:11, 300MB/s]\u001b[A\n",
      "Downloading (…)of-00002.safetensors:  67%|██████▋   | 6.70G/9.98G [00:24<00:10, 309MB/s]\u001b[A\n",
      "Downloading (…)of-00002.safetensors:  67%|██████▋   | 6.73G/9.98G [00:24<00:11, 287MB/s]\u001b[A\n",
      "Downloading (…)of-00002.safetensors:  68%|██████▊   | 6.76G/9.98G [00:24<00:11, 272MB/s]\u001b[A\n",
      "Downloading (…)of-00002.safetensors:  68%|██████▊   | 6.79G/9.98G [00:25<00:11, 268MB/s]\u001b[A\n",
      "Downloading (…)of-00002.safetensors:  68%|██████▊   | 6.83G/9.98G [00:25<00:11, 270MB/s]\u001b[A\n",
      "Downloading (…)of-00002.safetensors:  69%|██████▊   | 6.86G/9.98G [00:25<00:11, 272MB/s]\u001b[A\n",
      "Downloading (…)of-00002.safetensors:  69%|██████▉   | 6.89G/9.98G [00:25<00:11, 268MB/s]\u001b[A\n",
      "Downloading (…)of-00002.safetensors:  69%|██████▉   | 6.93G/9.98G [00:25<00:10, 284MB/s]\u001b[A\n",
      "Downloading (…)of-00002.safetensors:  70%|██████▉   | 6.96G/9.98G [00:25<00:11, 272MB/s]\u001b[A\n",
      "Downloading (…)of-00002.safetensors:  70%|███████   | 6.99G/9.98G [00:25<00:11, 266MB/s]\u001b[A\n",
      "Downloading (…)of-00002.safetensors:  70%|███████   | 7.03G/9.98G [00:25<00:11, 264MB/s]\u001b[A\n",
      "Downloading (…)of-00002.safetensors:  71%|███████   | 7.06G/9.98G [00:25<00:10, 266MB/s]\u001b[A\n",
      "Downloading (…)of-00002.safetensors:  71%|███████   | 7.09G/9.98G [00:26<00:10, 270MB/s]\u001b[A\n",
      "Downloading (…)of-00002.safetensors:  71%|███████▏  | 7.12G/9.98G [00:26<00:10, 278MB/s]\u001b[A\n",
      "Downloading (…)of-00002.safetensors:  72%|███████▏  | 7.15G/9.98G [00:26<00:09, 284MB/s]\u001b[A\n",
      "Downloading (…)of-00002.safetensors:  72%|███████▏  | 7.18G/9.98G [00:26<00:09, 293MB/s]\u001b[A\n",
      "Downloading (…)of-00002.safetensors:  72%|███████▏  | 7.21G/9.98G [00:26<00:09, 298MB/s]\u001b[A\n",
      "Downloading (…)of-00002.safetensors:  73%|███████▎  | 7.25G/9.98G [00:26<00:09, 302MB/s]\u001b[A\n",
      "Downloading (…)of-00002.safetensors:  73%|███████▎  | 7.28G/9.98G [00:26<00:09, 278MB/s]\u001b[A\n",
      "Downloading (…)of-00002.safetensors:  73%|███████▎  | 7.31G/9.98G [00:26<00:10, 264MB/s]\u001b[A\n",
      "Downloading (…)of-00002.safetensors:  74%|███████▎  | 7.34G/9.98G [00:27<00:10, 248MB/s]\u001b[A\n",
      "Downloading (…)of-00002.safetensors:  74%|███████▍  | 7.37G/9.98G [00:27<00:10, 246MB/s]\u001b[A\n",
      "Downloading (…)of-00002.safetensors:  74%|███████▍  | 7.40G/9.98G [00:27<00:10, 248MB/s]\u001b[A\n",
      "Downloading (…)of-00002.safetensors:  75%|███████▍  | 7.43G/9.98G [00:27<00:10, 251MB/s]\u001b[A\n",
      "Downloading (…)of-00002.safetensors:  75%|███████▍  | 7.47G/9.98G [00:27<00:09, 257MB/s]\u001b[A\n",
      "Downloading (…)of-00002.safetensors:  75%|███████▌  | 7.50G/9.98G [00:27<00:09, 265MB/s]\u001b[A\n",
      "Downloading (…)of-00002.safetensors:  75%|███████▌  | 7.53G/9.98G [00:27<00:08, 274MB/s]\u001b[A\n",
      "Downloading (…)of-00002.safetensors:  76%|███████▌  | 7.56G/9.98G [00:27<00:08, 281MB/s]\u001b[A\n",
      "Downloading (…)of-00002.safetensors:  76%|███████▌  | 7.59G/9.98G [00:27<00:09, 261MB/s]\u001b[A\n",
      "Downloading (…)of-00002.safetensors:  76%|███████▋  | 7.62G/9.98G [00:28<00:09, 258MB/s]\u001b[A\n",
      "Downloading (…)of-00002.safetensors:  77%|███████▋  | 7.65G/9.98G [00:28<00:08, 259MB/s]\u001b[A\n",
      "Downloading (…)of-00002.safetensors:  77%|███████▋  | 7.69G/9.98G [00:28<00:08, 261MB/s]\u001b[A\n",
      "Downloading (…)of-00002.safetensors:  77%|███████▋  | 7.72G/9.98G [00:28<00:08, 264MB/s]\u001b[A\n",
      "Downloading (…)of-00002.safetensors:  78%|███████▊  | 7.75G/9.98G [00:28<00:08, 269MB/s]\u001b[A\n",
      "Downloading (…)of-00002.safetensors:  78%|███████▊  | 7.78G/9.98G [00:28<00:07, 277MB/s]\u001b[A\n",
      "Downloading (…)of-00002.safetensors:  78%|███████▊  | 7.81G/9.98G [00:28<00:07, 286MB/s]\u001b[A\n",
      "Downloading (…)of-00002.safetensors:  79%|███████▊  | 7.84G/9.98G [00:28<00:07, 270MB/s]\u001b[A\n",
      "Downloading (…)of-00002.safetensors:  79%|███████▉  | 7.87G/9.98G [00:29<00:07, 265MB/s]\u001b[A\n",
      "Downloading (…)of-00002.safetensors:  79%|███████▉  | 7.91G/9.98G [00:29<00:07, 266MB/s]\u001b[A\n",
      "Downloading (…)of-00002.safetensors:  80%|███████▉  | 7.94G/9.98G [00:29<00:07, 264MB/s]\u001b[A\n",
      "Downloading (…)of-00002.safetensors:  80%|███████▉  | 7.97G/9.98G [00:29<00:07, 268MB/s]\u001b[A\n",
      "Downloading (…)of-00002.safetensors:  80%|████████  | 8.00G/9.98G [00:29<00:07, 274MB/s]\u001b[A\n",
      "Downloading (…)of-00002.safetensors:  81%|████████  | 8.03G/9.98G [00:29<00:07, 277MB/s]\u001b[A\n",
      "Downloading (…)of-00002.safetensors:  81%|████████  | 8.06G/9.98G [00:29<00:07, 265MB/s]\u001b[A\n",
      "Downloading (…)of-00002.safetensors:  81%|████████  | 8.10G/9.98G [00:29<00:07, 259MB/s]\u001b[A\n",
      "Downloading (…)of-00002.safetensors:  81%|████████▏ | 8.13G/9.98G [00:29<00:07, 260MB/s]\u001b[A\n",
      "Downloading (…)of-00002.safetensors:  82%|████████▏ | 8.16G/9.98G [00:30<00:06, 260MB/s]\u001b[A\n",
      "Downloading (…)of-00002.safetensors:  82%|████████▏ | 8.19G/9.98G [00:30<00:06, 265MB/s]\u001b[A\n",
      "Downloading (…)of-00002.safetensors:  82%|████████▏ | 8.22G/9.98G [00:30<00:06, 270MB/s]\u001b[A\n",
      "Downloading (…)of-00002.safetensors:  83%|████████▎ | 8.25G/9.98G [00:30<00:06, 260MB/s]\u001b[A\n",
      "Downloading (…)of-00002.safetensors:  83%|████████▎ | 8.28G/9.98G [00:30<00:06, 257MB/s]\u001b[A\n",
      "Downloading (…)of-00002.safetensors:  83%|████████▎ | 8.32G/9.98G [00:30<00:07, 236MB/s]\u001b[A\n",
      "Downloading (…)of-00002.safetensors:  84%|████████▎ | 8.35G/9.98G [00:30<00:07, 228MB/s]\u001b[A\n",
      "Downloading (…)of-00002.safetensors:  84%|████████▍ | 8.38G/9.98G [00:31<00:07, 220MB/s]\u001b[A\n",
      "Downloading (…)of-00002.safetensors:  84%|████████▍ | 8.41G/9.98G [00:31<00:07, 215MB/s]\u001b[A\n",
      "Downloading (…)of-00002.safetensors:  85%|████████▍ | 8.44G/9.98G [00:31<00:07, 212MB/s]\u001b[A\n",
      "Downloading (…)of-00002.safetensors:  85%|████████▍ | 8.47G/9.98G [00:31<00:09, 161MB/s]\u001b[A\n",
      "Downloading (…)of-00002.safetensors:  85%|████████▌ | 8.49G/9.98G [00:31<00:10, 142MB/s]\u001b[A\n",
      "Downloading (…)of-00002.safetensors:  85%|████████▌ | 8.51G/9.98G [00:32<00:11, 131MB/s]\u001b[A\n",
      "INFO:snowflake.ml._internal.utils.log_stream_processor:\n",
      "Downloading (…)of-00002.safetensors:  86%|████████▌ | 8.56G/9.98G [00:32<00:13, 108MB/s]\u001b[A\n",
      "Downloading (…)of-00002.safetensors:  86%|████████▌ | 8.58G/9.98G [00:32<00:15, 89.4MB/s]\u001b[A\n",
      "Downloading (…)of-00002.safetensors:  86%|████████▌ | 8.59G/9.98G [00:33<00:18, 77.1MB/s]\u001b[A\n",
      "Downloading (…)of-00002.safetensors:  86%|████████▌ | 8.60G/9.98G [00:33<00:23, 59.6MB/s]\u001b[A\n",
      "Downloading (…)of-00002.safetensors:  86%|████████▋ | 8.61G/9.98G [00:33<00:28, 48.5MB/s]\u001b[A\n",
      "Downloading (…)of-00002.safetensors:  86%|████████▋ | 8.62G/9.98G [00:34<00:36, 37.0MB/s]\u001b[A\n",
      "Downloading (…)of-00002.safetensors:  87%|████████▋ | 8.63G/9.98G [00:34<00:48, 28.0MB/s]\u001b[A\n",
      "Downloading (…)of-00002.safetensors:  87%|████████▋ | 8.64G/9.98G [00:35<01:02, 21.3MB/s]\u001b[A\n",
      "Downloading (…)of-00002.safetensors:  87%|████████▋ | 8.65G/9.98G [00:36<01:14, 17.8MB/s]\u001b[A\n",
      "Downloading (…)of-00002.safetensors:  87%|████████▋ | 8.66G/9.98G [00:37<01:36, 13.6MB/s]\u001b[A\n",
      "Downloading (…)of-00002.safetensors:  87%|████████▋ | 8.67G/9.98G [00:39<02:05, 10.4MB/s]\u001b[A\n",
      "Downloading (…)of-00002.safetensors:  87%|████████▋ | 8.68G/9.98G [00:40<02:10, 9.91MB/s]\u001b[A\n",
      "Downloading (…)of-00002.safetensors:  87%|████████▋ | 8.71G/9.98G [00:40<00:59, 21.1MB/s]\u001b[A\n",
      "Downloading (…)of-00002.safetensors:  88%|████████▊ | 8.75G/9.98G [00:40<00:34, 35.3MB/s]\u001b[A\n",
      "Downloading (…)of-00002.safetensors:  88%|████████▊ | 8.78G/9.98G [00:41<00:22, 52.7MB/s]\u001b[A\n",
      "Downloading (…)of-00002.safetensors:  88%|████████▊ | 8.81G/9.98G [00:41<00:15, 73.7MB/s]\u001b[A\n",
      "Downloading (…)of-00002.safetensors:  89%|████████▊ | 8.84G/9.98G [00:41<00:11, 97.9MB/s]\u001b[A\n",
      "Downloading (…)of-00002.safetensors:  89%|████████▉ | 8.87G/9.98G [00:41<00:08, 125MB/s] \u001b[A\n",
      "Downloading (…)of-00002.safetensors:  89%|████████▉ | 8.90G/9.98G [00:41<00:07, 152MB/s]\u001b[A\n",
      "Downloading (…)of-00002.safetensors:  90%|████████▉ | 8.93G/9.98G [00:41<00:06, 171MB/s]\u001b[A\n",
      "Downloading (…)of-00002.safetensors:  90%|████████▉ | 8.97G/9.98G [00:41<00:05, 187MB/s]\u001b[A\n",
      "Downloading (…)of-00002.safetensors:  90%|█████████ | 9.00G/9.98G [00:41<00:04, 205MB/s]\u001b[A\n",
      "Downloading (…)of-00002.safetensors:  90%|█████████ | 9.03G/9.98G [00:41<00:04, 220MB/s]\u001b[A\n",
      "Downloading (…)of-00002.safetensors:  91%|█████████ | 9.06G/9.98G [00:42<00:03, 236MB/s]\u001b[A\n",
      "Downloading (…)of-00002.safetensors:  91%|█████████ | 9.09G/9.98G [00:42<00:03, 250MB/s]\u001b[A\n",
      "Downloading (…)of-00002.safetensors:  91%|█████████▏| 9.12G/9.98G [00:42<00:03, 262MB/s]\u001b[A\n",
      "INFO:snowflake.ml._internal.utils.log_stream_processor:\n",
      "Downloading (…)of-00002.safetensors:  92%|█████████▏| 9.21G/9.98G [00:42<00:02, 289MB/s]\u001b[A\n",
      "Downloading (…)of-00002.safetensors:  93%|█████████▎| 9.24G/9.98G [00:42<00:02, 273MB/s]\u001b[A\n",
      "Downloading (…)of-00002.safetensors:  93%|█████████▎| 9.27G/9.98G [00:42<00:02, 264MB/s]\u001b[A\n",
      "Downloading (…)of-00002.safetensors:  93%|█████████▎| 9.30G/9.98G [00:42<00:02, 261MB/s]\u001b[A\n",
      "Downloading (…)of-00002.safetensors:  94%|█████████▎| 9.33G/9.98G [00:43<00:02, 265MB/s]\u001b[A\n",
      "Downloading (…)of-00002.safetensors:  94%|█████████▍| 9.36G/9.98G [00:43<00:02, 273MB/s]\u001b[A\n",
      "Downloading (…)of-00002.safetensors:  94%|█████████▍| 9.40G/9.98G [00:43<00:02, 274MB/s]\u001b[A\n",
      "Downloading (…)of-00002.safetensors:  94%|█████████▍| 9.43G/9.98G [00:43<00:01, 279MB/s]\u001b[A\n",
      "Downloading (…)of-00002.safetensors:  95%|█████████▍| 9.46G/9.98G [00:43<00:01, 280MB/s]\u001b[A\n",
      "Downloading (…)of-00002.safetensors:  95%|█████████▌| 9.49G/9.98G [00:43<00:01, 267MB/s]\u001b[A\n",
      "Downloading (…)of-00002.safetensors:  95%|█████████▌| 9.52G/9.98G [00:43<00:01, 264MB/s]\u001b[A\n",
      "Downloading (…)of-00002.safetensors:  96%|█████████▌| 9.55G/9.98G [00:43<00:01, 265MB/s]\u001b[A\n",
      "Downloading (…)of-00002.safetensors:  96%|█████████▌| 9.58G/9.98G [00:44<00:01, 269MB/s]\u001b[A\n",
      "Downloading (…)of-00002.safetensors:  96%|█████████▋| 9.62G/9.98G [00:44<00:01, 273MB/s]\u001b[A\n",
      "Downloading (…)of-00002.safetensors:  97%|█████████▋| 9.65G/9.98G [00:44<00:01, 276MB/s]\u001b[A\n",
      "Downloading (…)of-00002.safetensors:  97%|█████████▋| 9.68G/9.98G [00:44<00:01, 265MB/s]\u001b[A\n",
      "Downloading (…)of-00002.safetensors:  97%|█████████▋| 9.71G/9.98G [00:44<00:01, 256MB/s]\u001b[A\n",
      "Downloading (…)of-00002.safetensors:  98%|█████████▊| 9.74G/9.98G [00:44<00:00, 255MB/s]\u001b[A\n",
      "Downloading (…)of-00002.safetensors:  98%|█████████▊| 9.77G/9.98G [00:44<00:00, 263MB/s]\u001b[A\n",
      "Downloading (…)of-00002.safetensors:  98%|█████████▊| 9.80G/9.98G [00:44<00:00, 270MB/s]\u001b[A\n",
      "Downloading (…)of-00002.safetensors:  99%|█████████▊| 9.84G/9.98G [00:44<00:00, 280MB/s]\u001b[A\n",
      "Downloading (…)of-00002.safetensors:  99%|█████████▉| 9.87G/9.98G [00:45<00:00, 287MB/s]\u001b[A\n",
      "Downloading (…)of-00002.safetensors:  99%|█████████▉| 9.90G/9.98G [00:45<00:00, 269MB/s]\u001b[A\n",
      "Downloading (…)of-00002.safetensors: 100%|█████████▉| 9.93G/9.98G [00:45<00:00, 260MB/s]\u001b[A\n",
      "Downloading (…)of-00002.safetensors: 100%|██████████| 9.98G/9.98G [00:45<00:00, 219MB/s]\u001b[A\n",
      "Downloading shards:  50%|█████     | 1/2 [00:45<00:45, 45.59s/it]\n",
      "Downloading (…)of-00002.safetensors:   0%|          | 0.00/3.50G [00:00<?, ?B/s]\u001b[A\n",
      "Downloading (…)of-00002.safetensors:   1%|          | 21.0M/3.50G [00:00<00:16, 205MB/s]\u001b[A\n",
      "Downloading (…)of-00002.safetensors:   1%|▏         | 52.4M/3.50G [00:00<00:29, 117MB/s]\u001b[A\n",
      "Downloading (…)of-00002.safetensors:   2%|▏         | 83.9M/3.50G [00:00<00:20, 165MB/s]\u001b[A\n",
      "Downloading (…)of-00002.safetensors:   3%|▎         | 115M/3.50G [00:00<00:17, 199MB/s] \u001b[A\n",
      "Downloading (…)of-00002.safetensors:   4%|▍         | 147M/3.50G [00:00<00:14, 227MB/s]\u001b[A\n",
      "Downloading (…)of-00002.safetensors:   5%|▌         | 178M/3.50G [00:00<00:13, 250MB/s]\u001b[A\n",
      "Downloading (…)of-00002.safetensors:   6%|▋         | 220M/3.50G [00:00<00:12, 272MB/s]\u001b[A\n",
      "Downloading (…)of-00002.safetensors:   7%|▋         | 262M/3.50G [00:01<00:11, 287MB/s]\u001b[A\n",
      "Downloading (…)of-00002.safetensors:   8%|▊         | 294M/3.50G [00:01<00:11, 278MB/s]\u001b[A\n",
      "Downloading (…)of-00002.safetensors:   9%|▉         | 325M/3.50G [00:01<00:11, 266MB/s]\u001b[A\n",
      "Downloading (…)of-00002.safetensors:  10%|█         | 357M/3.50G [00:01<00:12, 261MB/s]\u001b[A\n",
      "Downloading (…)of-00002.safetensors:  11%|█         | 388M/3.50G [00:01<00:11, 262MB/s]\u001b[A\n",
      "Downloading (…)of-00002.safetensors:  12%|█▏        | 419M/3.50G [00:01<00:11, 270MB/s]\u001b[A\n",
      "Downloading (…)of-00002.safetensors:  13%|█▎        | 451M/3.50G [00:01<00:10, 280MB/s]\u001b[A\n",
      "Downloading (…)of-00002.safetensors:  14%|█▍        | 493M/3.50G [00:01<00:10, 294MB/s]\u001b[A\n",
      "Downloading (…)of-00002.safetensors:  15%|█▌        | 535M/3.50G [00:02<00:09, 306MB/s]\u001b[A\n",
      "Downloading (…)of-00002.safetensors:  16%|█▋        | 577M/3.50G [00:02<00:09, 311MB/s]\u001b[A\n",
      "Downloading (…)of-00002.safetensors:  17%|█▋        | 608M/3.50G [00:02<00:09, 294MB/s]\u001b[A\n",
      "Downloading (…)of-00002.safetensors:  18%|█▊        | 640M/3.50G [00:02<00:10, 276MB/s]\u001b[A\n",
      "Downloading (…)of-00002.safetensors:  19%|█▉        | 671M/3.50G [00:02<00:10, 270MB/s]\u001b[A\n",
      "Downloading (…)of-00002.safetensors:  20%|██        | 703M/3.50G [00:02<00:10, 269MB/s]\u001b[A\n",
      "Downloading (…)of-00002.safetensors:  21%|██        | 734M/3.50G [00:02<00:10, 268MB/s]\u001b[A\n",
      "Downloading (…)of-00002.safetensors:  22%|██▏       | 765M/3.50G [00:02<00:10, 272MB/s]\u001b[A\n",
      "Downloading (…)of-00002.safetensors:  23%|██▎       | 797M/3.50G [00:03<00:09, 277MB/s]\u001b[A\n",
      "Downloading (…)of-00002.safetensors:  24%|██▎       | 828M/3.50G [00:03<00:10, 263MB/s]\u001b[A\n",
      "Downloading (…)of-00002.safetensors:  25%|██▍       | 860M/3.50G [00:03<00:10, 261MB/s]\u001b[A\n",
      "Downloading (…)of-00002.safetensors:  25%|██▌       | 891M/3.50G [00:03<00:09, 261MB/s]\u001b[A\n",
      "Downloading (…)of-00002.safetensors:  26%|██▋       | 923M/3.50G [00:03<00:09, 265MB/s]\u001b[A\n",
      "Downloading (…)of-00002.safetensors:  27%|██▋       | 954M/3.50G [00:03<00:09, 275MB/s]\u001b[A\n",
      "Downloading (…)of-00002.safetensors:  28%|██▊       | 986M/3.50G [00:03<00:08, 283MB/s]\u001b[A\n",
      "Downloading (…)of-00002.safetensors:  29%|██▉       | 1.02G/3.50G [00:03<00:09, 260MB/s]\u001b[A\n",
      "Downloading (…)of-00002.safetensors:  30%|██▉       | 1.05G/3.50G [00:04<00:12, 201MB/s]\u001b[A\n",
      "Downloading (…)of-00002.safetensors:  31%|███       | 1.08G/3.50G [00:04<00:13, 174MB/s]\u001b[A\n",
      "Downloading (…)of-00002.safetensors:  31%|███▏      | 1.10G/3.50G [00:04<00:14, 162MB/s]\u001b[A\n",
      "Downloading (…)of-00002.safetensors:  32%|███▏      | 1.12G/3.50G [00:04<00:15, 155MB/s]\u001b[A\n",
      "Downloading (…)of-00002.safetensors:  33%|███▎      | 1.14G/3.50G [00:04<00:16, 147MB/s]\u001b[A\n",
      "Downloading (…)of-00002.safetensors:  33%|███▎      | 1.16G/3.50G [00:05<00:16, 141MB/s]\u001b[A\n",
      "Downloading (…)of-00002.safetensors:  34%|███▍      | 1.18G/3.50G [00:05<00:16, 140MB/s]\u001b[A\n",
      "Downloading (…)of-00002.safetensors:  34%|███▍      | 1.21G/3.50G [00:05<00:16, 138MB/s]\u001b[A\n",
      "Downloading (…)of-00002.safetensors:  35%|███▌      | 1.23G/3.50G [00:05<00:16, 136MB/s]\u001b[A\n",
      "Downloading (…)of-00002.safetensors:  36%|███▌      | 1.25G/3.50G [00:05<00:16, 133MB/s]\u001b[A\n",
      "Downloading (…)of-00002.safetensors:  36%|███▌      | 1.27G/3.50G [00:05<00:16, 132MB/s]\u001b[A\n",
      "Downloading (…)of-00002.safetensors:  37%|███▋      | 1.29G/3.50G [00:05<00:16, 132MB/s]\u001b[A\n",
      "Downloading (…)of-00002.safetensors:  37%|███▋      | 1.31G/3.50G [00:06<00:16, 131MB/s]\u001b[A\n",
      "Downloading (…)of-00002.safetensors:  38%|███▊      | 1.33G/3.50G [00:06<00:16, 132MB/s]\u001b[A\n",
      "Downloading (…)of-00002.safetensors:  39%|███▊      | 1.35G/3.50G [00:06<00:16, 130MB/s]\u001b[A\n",
      "Downloading (…)of-00002.safetensors:  39%|███▉      | 1.37G/3.50G [00:06<00:16, 126MB/s]\u001b[A\n",
      "INFO:snowflake.ml._internal.utils.log_stream_processor:\n",
      "Downloading (…)of-00002.safetensors:  40%|████      | 1.42G/3.50G [00:07<00:24, 85.1MB/s]\u001b[A\n",
      "Downloading (…)of-00002.safetensors:  41%|████      | 1.43G/3.50G [00:07<00:25, 80.7MB/s]\u001b[A\n",
      "Downloading (…)of-00002.safetensors:  41%|████      | 1.44G/3.50G [00:07<00:26, 78.1MB/s]\u001b[A\n",
      "Downloading (…)of-00002.safetensors:  41%|████▏     | 1.45G/3.50G [00:07<00:27, 74.2MB/s]\u001b[A\n",
      "Downloading (…)of-00002.safetensors:  42%|████▏     | 1.46G/3.50G [00:07<00:28, 72.5MB/s]\u001b[A\n",
      "Downloading (…)of-00002.safetensors:  42%|████▏     | 1.47G/3.50G [00:08<00:28, 70.2MB/s]\u001b[A\n",
      "Downloading (…)of-00002.safetensors:  42%|████▏     | 1.48G/3.50G [00:08<00:29, 68.6MB/s]\u001b[A\n",
      "Downloading (…)of-00002.safetensors:  43%|████▎     | 1.49G/3.50G [00:08<00:30, 66.8MB/s]\u001b[A\n",
      "Downloading (…)of-00002.safetensors:  43%|████▎     | 1.50G/3.50G [00:08<00:29, 67.4MB/s]\u001b[A\n",
      "Downloading (…)of-00002.safetensors:  43%|████▎     | 1.51G/3.50G [00:08<00:30, 66.1MB/s]\u001b[A\n",
      "Downloading (…)of-00002.safetensors:  43%|████▎     | 1.52G/3.50G [00:08<00:29, 66.4MB/s]\u001b[A\n",
      "Downloading (…)of-00002.safetensors:  44%|████▎     | 1.53G/3.50G [00:09<00:29, 65.9MB/s]\u001b[A\n",
      "Downloading (…)of-00002.safetensors:  44%|████▍     | 1.54G/3.50G [00:09<00:29, 67.0MB/s]\u001b[A\n",
      "Downloading (…)of-00002.safetensors:  44%|████▍     | 1.55G/3.50G [00:09<00:29, 66.4MB/s]\u001b[A\n",
      "Downloading (…)of-00002.safetensors:  45%|████▍     | 1.56G/3.50G [00:09<00:29, 65.8MB/s]\u001b[A\n",
      "Downloading (…)of-00002.safetensors:  45%|████▍     | 1.57G/3.50G [00:09<00:29, 65.6MB/s]\u001b[A\n",
      "Downloading (…)of-00002.safetensors:  45%|████▌     | 1.58G/3.50G [00:10<00:38, 50.3MB/s]\u001b[A\n",
      "INFO:snowflake.ml._internal.utils.log_stream_processor:\n",
      "Downloading (…)of-00002.safetensors:  46%|████▌     | 1.59G/3.50G [00:24<00:44, 42.5MB/s]\u001b[A\n",
      "Downloading (…)of-00002.safetensors:  46%|████▌     | 1.60G/3.50G [00:27<15:40, 2.02MB/s]\u001b[A\n",
      "Downloading (…)of-00002.safetensors:  47%|████▋     | 1.64G/3.50G [00:27<06:49, 4.55MB/s]\u001b[A\n",
      "Downloading (…)of-00002.safetensors:  48%|████▊     | 1.67G/3.50G [00:27<03:46, 8.09MB/s]\u001b[A\n",
      "Downloading (…)of-00002.safetensors:  49%|████▊     | 1.70G/3.50G [00:27<02:18, 13.0MB/s]\u001b[A\n",
      "INFO:snowflake.ml._internal.utils.log_stream_processor:\n",
      "Downloading (…)of-00002.safetensors:  50%|█████     | 1.76G/3.50G [00:27<01:00, 28.6MB/s]\u001b[A\n",
      "Downloading (…)of-00002.safetensors:  51%|█████     | 1.79G/3.50G [00:27<00:42, 40.6MB/s]\u001b[A\n",
      "Downloading (…)of-00002.safetensors:  52%|█████▏    | 1.82G/3.50G [00:27<00:29, 56.0MB/s]\u001b[A\n",
      "Downloading (…)of-00002.safetensors:  53%|█████▎    | 1.87G/3.50G [00:28<00:20, 81.2MB/s]\u001b[A\n",
      "Downloading (…)of-00002.safetensors:  54%|█████▍    | 1.90G/3.50G [00:28<00:16, 99.7MB/s]\u001b[A\n",
      "Downloading (…)of-00002.safetensors:  55%|█████▌    | 1.93G/3.50G [00:28<00:13, 120MB/s] \u001b[A\n",
      "Downloading (…)of-00002.safetensors:  56%|█████▌    | 1.96G/3.50G [00:28<00:10, 142MB/s]\u001b[A\n",
      "Downloading (…)of-00002.safetensors:  57%|█████▋    | 1.99G/3.50G [00:28<00:09, 165MB/s]\u001b[A\n",
      "Downloading (…)of-00002.safetensors:  58%|█████▊    | 2.02G/3.50G [00:28<00:07, 187MB/s]\u001b[A\n",
      "Downloading (…)of-00002.safetensors:  59%|█████▊    | 2.06G/3.50G [00:28<00:06, 209MB/s]\u001b[A\n",
      "Downloading (…)of-00002.safetensors:  60%|█████▉    | 2.09G/3.50G [00:28<00:06, 231MB/s]\u001b[A\n",
      "Downloading (…)of-00002.safetensors:  61%|██████    | 2.12G/3.50G [00:29<00:05, 247MB/s]\u001b[A\n",
      "Downloading (…)of-00002.safetensors:  61%|██████▏   | 2.15G/3.50G [00:29<00:05, 262MB/s]\u001b[A\n",
      "Downloading (…)of-00002.safetensors:  63%|██████▎   | 2.19G/3.50G [00:29<00:04, 284MB/s]\u001b[A\n",
      "Downloading (…)of-00002.safetensors:  64%|██████▍   | 2.23G/3.50G [00:29<00:04, 289MB/s]\u001b[A\n",
      "Downloading (…)of-00002.safetensors:  65%|██████▍   | 2.26G/3.50G [00:29<00:04, 274MB/s]\u001b[A\n",
      "Downloading (…)of-00002.safetensors:  66%|██████▌   | 2.30G/3.50G [00:29<00:04, 266MB/s]\u001b[A\n",
      "Downloading (…)of-00002.safetensors:  67%|██████▋   | 2.33G/3.50G [00:29<00:04, 265MB/s]\u001b[A\n",
      "Downloading (…)of-00002.safetensors:  67%|██████▋   | 2.36G/3.50G [00:29<00:04, 267MB/s]\u001b[A\n",
      "Downloading (…)of-00002.safetensors:  68%|██████▊   | 2.39G/3.50G [00:30<00:04, 270MB/s]\u001b[A\n",
      "Downloading (…)of-00002.safetensors:  69%|██████▉   | 2.42G/3.50G [00:30<00:03, 273MB/s]\u001b[A\n",
      "Downloading (…)of-00002.safetensors:  70%|███████   | 2.45G/3.50G [00:30<00:03, 282MB/s]\u001b[A\n",
      "Downloading (…)of-00002.safetensors:  71%|███████   | 2.49G/3.50G [00:30<00:03, 290MB/s]\u001b[A\n",
      "Downloading (…)of-00002.safetensors:  72%|███████▏  | 2.52G/3.50G [00:30<00:03, 278MB/s]\u001b[A\n",
      "Downloading (…)of-00002.safetensors:  73%|███████▎  | 2.55G/3.50G [00:30<00:03, 262MB/s]\u001b[A\n",
      "Downloading (…)of-00002.safetensors:  74%|███████▎  | 2.58G/3.50G [00:30<00:03, 257MB/s]\u001b[A\n",
      "Downloading (…)of-00002.safetensors:  75%|███████▍  | 2.61G/3.50G [00:30<00:03, 259MB/s]\u001b[A\n",
      "Downloading (…)of-00002.safetensors:  75%|███████▌  | 2.64G/3.50G [00:30<00:03, 263MB/s]\u001b[A\n",
      "Downloading (…)of-00002.safetensors:  76%|███████▋  | 2.67G/3.50G [00:31<00:03, 268MB/s]\u001b[A\n",
      "Downloading (…)of-00002.safetensors:  77%|███████▋  | 2.71G/3.50G [00:31<00:02, 272MB/s]\u001b[A\n",
      "Downloading (…)of-00002.safetensors:  78%|███████▊  | 2.74G/3.50G [00:31<00:02, 259MB/s]\u001b[A\n",
      "Downloading (…)of-00002.safetensors:  79%|███████▉  | 2.77G/3.50G [00:31<00:02, 259MB/s]\u001b[A\n",
      "Downloading (…)of-00002.safetensors:  80%|███████▉  | 2.80G/3.50G [00:31<00:02, 263MB/s]\u001b[A\n",
      "Downloading (…)of-00002.safetensors:  81%|████████  | 2.83G/3.50G [00:31<00:02, 265MB/s]\u001b[A\n",
      "Downloading (…)of-00002.safetensors:  82%|████████▏ | 2.86G/3.50G [00:31<00:02, 268MB/s]\u001b[A\n",
      "Downloading (…)of-00002.safetensors:  83%|████████▎ | 2.89G/3.50G [00:31<00:02, 276MB/s]\u001b[A\n",
      "Downloading (…)of-00002.safetensors:  84%|████████▎ | 2.93G/3.50G [00:32<00:06, 89.3MB/s]\u001b[A\n",
      "Downloading (…)of-00002.safetensors:  84%|████████▍ | 2.95G/3.50G [00:33<00:06, 88.3MB/s]\u001b[A\n",
      "Downloading (…)of-00002.safetensors:  85%|████████▍ | 2.97G/3.50G [00:33<00:05, 97.8MB/s]\u001b[A\n",
      "Downloading (…)of-00002.safetensors:  86%|████████▌ | 3.00G/3.50G [00:33<00:04, 122MB/s] \u001b[A\n",
      "Downloading (…)of-00002.safetensors:  87%|████████▋ | 3.03G/3.50G [00:33<00:03, 145MB/s]\u001b[A\n",
      "Downloading (…)of-00002.safetensors:  87%|████████▋ | 3.06G/3.50G [00:33<00:02, 169MB/s]\u001b[A\n",
      "Downloading (…)of-00002.safetensors:  88%|████████▊ | 3.09G/3.50G [00:33<00:02, 192MB/s]\u001b[A\n",
      "Downloading (…)of-00002.safetensors:  89%|████████▉ | 3.12G/3.50G [00:33<00:01, 211MB/s]\u001b[A\n",
      "Downloading (…)of-00002.safetensors:  90%|█████████ | 3.16G/3.50G [00:33<00:01, 231MB/s]\u001b[A\n",
      "Downloading (…)of-00002.safetensors:  91%|█████████ | 3.19G/3.50G [00:34<00:01, 246MB/s]\u001b[A\n",
      "Downloading (…)of-00002.safetensors:  92%|█████████▏| 3.22G/3.50G [00:34<00:01, 262MB/s]\u001b[A\n",
      "Downloading (…)of-00002.safetensors:  93%|█████████▎| 3.25G/3.50G [00:34<00:00, 260MB/s]\u001b[A\n",
      "Downloading (…)of-00002.safetensors:  94%|█████████▍| 3.28G/3.50G [00:34<00:00, 252MB/s]\u001b[A\n",
      "Downloading (…)of-00002.safetensors:  95%|█████████▍| 3.31G/3.50G [00:34<00:00, 250MB/s]\u001b[A\n",
      "Downloading (…)of-00002.safetensors:  96%|█████████▌| 3.34G/3.50G [00:34<00:00, 252MB/s]\u001b[A\n",
      "Downloading (…)of-00002.safetensors:  96%|█████████▋| 3.38G/3.50G [00:34<00:00, 259MB/s]\u001b[A\n",
      "Downloading (…)of-00002.safetensors:  97%|█████████▋| 3.41G/3.50G [00:34<00:00, 270MB/s]\u001b[A\n",
      "Downloading (…)of-00002.safetensors:  98%|█████████▊| 3.44G/3.50G [00:34<00:00, 277MB/s]\u001b[A\n",
      "Downloading (…)of-00002.safetensors:  99%|█████████▉| 3.47G/3.50G [00:35<00:00, 283MB/s]\u001b[A\n",
      "Downloading (…)of-00002.safetensors: 100%|██████████| 3.50G/3.50G [00:35<00:00, 99.5MB/s][A\n",
      "Downloading shards: 100%|██████████| 2/2 [01:20<00:00, 40.43s/it]\n",
      "INFO:snowflake.ml._internal.utils.log_stream_processor:\n",
      "INFO:snowflake.ml._internal.utils.log_stream_processor:/opt/conda/lib/python3.10/site-packages/transformers/utils/hub.py:374: FutureWarning: The `use_auth_token` argument is deprecated and will be removed in v5 of Transformers.\n",
      "INFO:snowflake.ml._internal.utils.log_stream_processor:  warnings.warn(\n",
      "Downloading generation_config.json: 100%|██████████| 188/188 [00:00<00:00, 1.57MB/s]\n",
      "INFO:snowflake.ml._internal.utils.log_stream_processor:\n",
      "INFO:snowflake.ml._internal.utils.log_stream_processor:After GC on model.\n",
      "INFO:snowflake.ml._internal.utils.log_stream_processor:Torch VRAM 0.0 MB allocated.\n",
      "INFO:snowflake.ml._internal.utils.log_stream_processor:Torch VRAM 0.0 MB reserved.\n",
      "INFO:snowflake.ml._internal.utils.log_stream_processor:INFO 03-29 19:37:50 llm_engine.py:72] Initializing an LLM engine with config: model='/tmp/tmp3cm30dpx', tokenizer='/tmp/tmp3cm30dpx', tokenizer_mode=auto, revision=None, tokenizer_revision=None, trust_remote_code=False, dtype=torch.float16, max_seq_len=4096, download_dir=None, load_format=auto, tensor_parallel_size=1, quantization=None, seed=0)\n",
      "INFO:snowflake.ml._internal.utils.log_stream_processor:Special tokens have been added in the vocabulary, make sure the associated word embeddings are fine-tuned or trained.\n",
      "INFO:snowflake.ml._internal.utils.log_stream_processor:Special tokens have been added in the vocabulary, make sure the associated word embeddings are fine-tuned or trained.\n",
      "INFO:snowflake.ml._internal.utils.log_stream_processor:\n",
      "INFO:snowflake.ml._internal.utils.log_stream_processor:[2024-03-29 19:38:00 +0000] [22] [INFO] Successfully loaded model into memory\n",
      "INFO:snowflake.ml._internal.utils.log_stream_processor:\n",
      "INFO:snowflake.ml.model._deploy_client.snowservice.deploy:Service DASH_DB.DASH_SCHEMA.service_6c48ffe2ee0211ee940dea79f9e088ed is ready. Creating service function...\n",
      "INFO:snowflake.ml._internal.utils.spcs_attribution_utils:Service DASH_DB.DASH_SCHEMA.service_6c48ffe2ee0211ee940dea79f9e088ed created with compute pool DASH_GPU3.\n",
      "INFO:snowflake.ml.model._deploy_client.snowservice.deploy:Service function DASH_DB.DASH_SCHEMA.llama_predict is created. Deployment completed successfully!\n",
      "INFO:snowflake.connector.cursor:query: [INSERT INTO DASH_DB.DASH_SCHEMA._SYSTEM_REGISTRY_DEPLOYMENTS ( CREATION_TIME,DEP...]\n",
      "INFO:snowflake.connector.cursor:query execution done\n",
      "INFO:snowflake.connector.cursor:query: [SELECT * FROM DASH_DB.DASH_SCHEMA._SYSTEM_REGISTRY_MODELS_VIEW]\n",
      "INFO:snowflake.connector.cursor:query execution done\n",
      "INFO:snowflake.connector.cursor:Number of results in first chunk: 0\n",
      "INFO:snowflake.connector.cursor:query: [SELECT  *  FROM (SELECT * FROM DASH_DB.DASH_SCHEMA._SYSTEM_REGISTRY_MODELS_VIEW)...]\n",
      "INFO:snowflake.connector.cursor:query execution done\n",
      "INFO:snowflake.connector.cursor:Number of results in first chunk: 1\n",
      "INFO:snowflake.connector.cursor:query: [INSERT INTO DASH_DB.DASH_SCHEMA._SYSTEM_REGISTRY_METADATA ( ATTRIBUTE_NAME,EVENT...]\n",
      "INFO:snowflake.connector.cursor:query execution done\n",
      "INFO:snowflake.connector.cursor:query: [SELECT * FROM DASH_DB.DASH_SCHEMA._SYSTEM_REGISTRY_MODELS_VIEW]\n",
      "INFO:snowflake.connector.cursor:query execution done\n",
      "INFO:snowflake.connector.cursor:Number of results in first chunk: 0\n",
      "INFO:snowflake.connector.cursor:query: [SELECT  *  FROM (SELECT * FROM DASH_DB.DASH_SCHEMA._SYSTEM_REGISTRY_MODELS_VIEW)...]\n",
      "INFO:snowflake.connector.cursor:query execution done\n",
      "INFO:snowflake.connector.cursor:Number of results in first chunk: 1\n"
     ]
    },
    {
     "name": "stdout",
     "output_type": "stream",
     "text": [
      "CPU times: user 792 ms, sys: 166 ms, total: 958 ms\n",
      "Wall time: 10min 20s\n"
     ]
    },
    {
     "data": {
      "text/plain": [
       "<snowflake.ml.registry.model_registry.ModelReference at 0x7f06a9e78dc0>"
      ]
     },
     "execution_count": 10,
     "metadata": {},
     "output_type": "execute_result"
    }
   ],
   "source": [
    "%%time\n",
    "llama_model_ref.deploy(\n",
    "    deployment_name=\"llama_predict\", \n",
    "    platform=deploy_platforms.TargetPlatform.SNOWPARK_CONTAINER_SERVICES,\n",
    "    permanent=True, \n",
    "    options={\"compute_pool\": SNOWFLAKE_COMPUTE_POOL, \"num_gpus\": 1, \"external_access_integrations\": [\"ALLOW_ALL_ACCESS_INTEGRATION\"]})\n",
    "\n",
    "llama_model_ref = model_registry.ModelReference(registry=registry,model_name=MODEL_NAME,model_version=MODEL_VERSION)\n",
    "llama_model_ref"
   ]
  },
  {
   "cell_type": "markdown",
   "metadata": {},
   "source": [
    "### Load Data from JSON into Snowflake\n",
    "\n",
    "*NOTE: Reading data in JSON and storing it in a Snowflake table are one time operations. Once the data is loaded, use Snowpark to load the data from the existing table.*"
   ]
  },
  {
   "cell_type": "code",
   "execution_count": 12,
   "metadata": {
    "tags": []
   },
   "outputs": [
    {
     "name": "stderr",
     "output_type": "stream",
     "text": [
      "INFO:snowflake.connector.cursor:query: [CREATE TEMP STAGE /* Python:snowflake.connector.pandas_tools.write_pandas() */ f...]\n",
      "INFO:snowflake.connector.cursor:query execution done\n",
      "INFO:snowflake.connector.cursor:Number of results in first chunk: 1\n",
      "INFO:snowflake.connector.cursor:query: [PUT /* Python:snowflake.connector.pandas_tools.write_pandas() */ 'file:///tmp/tm...]\n",
      "INFO:snowflake.connector.cursor:query execution done\n",
      "INFO:snowflake.connector.cursor:query: [CREATE TEMP FILE FORMAT lyzuxkvtgg /* Python:snowflake.connector.pandas_tools.wr...]\n",
      "INFO:snowflake.connector.cursor:query execution done\n",
      "INFO:snowflake.connector.cursor:Number of results in first chunk: 1\n",
      "INFO:snowflake.connector.cursor:query: [SELECT COLUMN_NAME, TYPE FROM table(infer_schema(location=>'@faasdnjuzw', file_f...]\n",
      "INFO:snowflake.connector.cursor:query execution done\n",
      "INFO:snowflake.connector.cursor:Number of results in first chunk: 6\n",
      "INFO:snowflake.connector.cursor:query: [CREATE  TABLE IF NOT EXISTS ksdwexfxxp (LANGUAGE TEXT, TRANSCRIPT TEXT, NAME TEX...]\n",
      "INFO:snowflake.connector.cursor:query execution done\n",
      "INFO:snowflake.connector.cursor:Number of results in first chunk: 1\n",
      "INFO:snowflake.connector.cursor:query: [COPY INTO ksdwexfxxp /* Python:snowflake.connector.pandas_tools.write_pandas() *...]\n",
      "INFO:snowflake.connector.cursor:query execution done\n",
      "INFO:snowflake.connector.cursor:Number of results in first chunk: 1\n",
      "INFO:snowflake.connector.cursor:query: [DROP TABLE IF EXISTS transcripts /* Python:snowflake.connector.pandas_tools.writ...]\n",
      "INFO:snowflake.connector.cursor:query execution done\n",
      "INFO:snowflake.connector.cursor:Number of results in first chunk: 1\n",
      "INFO:snowflake.connector.cursor:query: [ALTER TABLE ksdwexfxxp RENAME TO transcripts /* Python:snowflake.connector.panda...]\n",
      "INFO:snowflake.connector.cursor:query execution done\n",
      "INFO:snowflake.connector.cursor:Number of results in first chunk: 1\n",
      "INFO:snowflake.connector.cursor:query: [SELECT  *  FROM (transcripts)]\n",
      "INFO:snowflake.connector.cursor:query execution done\n",
      "INFO:snowflake.connector.cursor:Number of results in first chunk: 69\n"
     ]
    },
    {
     "data": {
      "text/html": [
       "<div>\n",
       "<style scoped>\n",
       "    .dataframe tbody tr th:only-of-type {\n",
       "        vertical-align: middle;\n",
       "    }\n",
       "\n",
       "    .dataframe tbody tr th {\n",
       "        vertical-align: top;\n",
       "    }\n",
       "\n",
       "    .dataframe thead th {\n",
       "        text-align: right;\n",
       "    }\n",
       "</style>\n",
       "<table border=\"1\" class=\"dataframe\">\n",
       "  <thead>\n",
       "    <tr style=\"text-align: right;\">\n",
       "      <th></th>\n",
       "      <th>LANGUAGE</th>\n",
       "      <th>TRANSCRIPT</th>\n",
       "      <th>NAME</th>\n",
       "      <th>LOCATION</th>\n",
       "      <th>TOY_LIST</th>\n",
       "      <th>ID</th>\n",
       "    </tr>\n",
       "  </thead>\n",
       "  <tbody>\n",
       "    <tr>\n",
       "      <th>0</th>\n",
       "      <td>EN</td>\n",
       "      <td>caller: Hi there, Frosty! I am excited to submit my holiday wish list.\\nfrosty: Hello! I'm happy to help you. Can I have your name, please?\\ncaller: I am Rachel, and I am calling from Sydney.\\nfrosty: Great, Rachel! Now, what's on your wish list?\\ncaller: We are thinking of getting the barbie science doll set. But, I'm not quite sure yet.\\nfrosty: That's a wonderful choice! May I ask why you're interested in this toy?\\ncaller: My daughter loves science and Barbie, so it will be a perfect combo for her.\\nfrosty: That sounds perfect indeed. How do you and your family plan to celebrate the holiday season?\\ncaller: We are planning a small gathering with close family and friends and lots of food and games.\\nfrosty: That sounds like a lovely time. Before we confirm your wish list, would you like to explore some other options for your daughter?\\ncaller: Maybe one more option?\\nfrosty: How about the Beast Lab: Shark Beast Creator? It's a fantastic creative and educational toy that your daughter might enjoy, especially if she loves science.\\ncaller: Oh, that sounds interesting. But I think we'll stick with the barbie science doll set.\\nfrosty: Alright, so the Barbie Science Lab Playset will be on the wish list. Thank you for sharing your holiday plans, and I hope your family has a fantastic time. Have a great day, Rachel!\\ncaller: Thank you, Frosty! Happy holidays!</td>\n",
       "      <td>Rachel</td>\n",
       "      <td>Sydney</td>\n",
       "      <td>[\\n  \"Barbie Science Lab Playset\"\\n]</td>\n",
       "      <td>0</td>\n",
       "    </tr>\n",
       "    <tr>\n",
       "      <th>1</th>\n",
       "      <td>EN</td>\n",
       "      <td>caller: Hi Frosty! My name is Jessica, and I live in Los Angeles. I need some help finding the perfect toy for my little one.\\nfrosty: Hello, Jessica! It's great to have you here. Let's find that perfect toy! What are some of your child's interests or hobbies?\\ncaller: She loves playing dress-up and pretend play. She's also quite artistic.\\nfrosty: That's delightful! I have a couple of suggestions: the Barbie Dreamhouse 2023 or the Calico Critters Pony's Stylish Hair Salon. Both encourage imaginative play and creativity.\\ncaller: Hmm, I like both options. Maybe the new Barbie Dreamhouse?\\nfrosty: The Barbie Dreamhouse 2023 is an excellent choice for hours of endless imaginative play. Before we confirm, is there any other toy you'd like to consider?\\ncaller: No, I think we are good with the Barbie Dreamhouse.\\nfrosty: Fantastic! The Barbie Dreamhouse 2023 is now on your holiday wish list. What's your favorite holiday memory, Jessica?\\ncaller: My favorite memory is when we all went to see the city's holiday lights display. It was magical!\\nfrosty: That sounds enchanting! I hope you and your family create more beautiful memories this holiday season. Have a great day, Jessica!\\ncaller: Thank you, Frosty! Happy holidays!</td>\n",
       "      <td>Jessica</td>\n",
       "      <td>Los Angeles</td>\n",
       "      <td>[\\n  \"Barbie Dreamhouse 2023\"\\n]</td>\n",
       "      <td>2</td>\n",
       "    </tr>\n",
       "    <tr>\n",
       "      <th>2</th>\n",
       "      <td>EN</td>\n",
       "      <td>caller: Hi, Frosty! My name is Ashley, and I'm calling from Auckland. I need to pick a gift for my nephew, but I'm a little unsure.\\nfrosty: Hello, Ashley! I'm here to help you find the perfect gift. What are your nephew's interests or hobbies?\\ncaller: He is really into vehicles and action figures.\\nfrosty: Great! I have a couple of options for you: The Teenage Mutant Ninja Turtles: Mutant Mayhem Pizza Fire Delivery Van or the Bluey Convertible and Figures. Which one sounds more appealing to you?\\ncaller: The ninja turtles delivery van seems perfect! Let's add that to the list.\\nfrosty: Excellent choice! The Teenage Mutant Ninja Turtles: Mutant Mayhem Pizza Fire Delivery Van is now on your wish list. Can you tell me about one of your favorite pastimes or hobbies, Ashley?\\ncaller: Sure! I love spending time in nature, going for hikes and exploring new trails.\\nfrosty: That sounds like an excellent way to unwind and enjoy the world around you. I hope you have a fantastic holiday season, Ashley! Goodbye!\\ncaller: Thank you, Frosty! Happy holidays!</td>\n",
       "      <td>Ashley</td>\n",
       "      <td>Auckland</td>\n",
       "      <td>[\\n  \"Teenage Mutant Ninja Turtles: Mutant Mayhem Pizza Fire Delivery Van\"\\n]</td>\n",
       "      <td>4</td>\n",
       "    </tr>\n",
       "    <tr>\n",
       "      <th>3</th>\n",
       "      <td>EN</td>\n",
       "      <td>caller: Hey Frosty! I need some help finding a gift for my niece. My name is Karen, and I'm from Vancouver.\\nfrosty: Hello, Karen! I'd be happy to help you find the perfect gift. What are some of your niece's interests?\\ncaller: She loves dolls and plush toys. She's always playing pretend with them.\\nfrosty: That's lovely! How about the Orijin Bees Lovey Coiley Baby Bee or the Fisher-Price Little People Mickey and Friends Playset? Both are adorable and encourage imaginative play.\\ncaller: The baby bee doll sounds great. Let's go with that one.\\nfrosty: Wonderful choice! The Orijin Bees Lovey Coiley Baby Bee is now on your holiday wish list. Do you have any favorite holiday memories, Karen?\\ncaller: One of my favorites is when we visited a local winter festival with ice sculptures and live performances. It was truly magical!\\nfrosty: That sounds fantastic! I hope you and your family create more wonderful memories this holiday season. Enjoy your celebrations, and have a great day, Karen!\\ncaller: Thanks, Frosty! You too, and happy holidays!</td>\n",
       "      <td>Karen</td>\n",
       "      <td>Vancouver</td>\n",
       "      <td>[\\n  \"Orijin Bees Lovey Coiley Baby Bee\"\\n]</td>\n",
       "      <td>5</td>\n",
       "    </tr>\n",
       "    <tr>\n",
       "      <th>4</th>\n",
       "      <td>EN</td>\n",
       "      <td>caller: Hi Frosty, I'm Sarah, calling from Brisbane. I'm looking for a gift for my daughter, but I'm not sure which one to choose.\\nfrosty: Hello, Sarah! I'd be glad to help. Can you tell me more about your daughter's interests or hobbies?\\ncaller: She loves playing with dolls and anything that has to do with animals.\\nfrosty: How lovely! I have a suggestion for you. The Gabbys Dollhouse Cruise Ship is a fantastic toy that combines both dolls and animals. Your daughter might enjoy it.\\ncaller: That sounds fantastic! Let's put that down on our wish list.\\nfrosty: Great! The Gabbys Dollhouse Cruise Ship is now on your wish list. What's something you enjoy the most about this time of the year, Sarah?\\ncaller: I love the festive atmosphere and spending quality time with family and friends.\\nfrosty: That's wonderful, Sarah! I hope you and your family have a fantastic holiday season. Have a great day!\\ncaller: Thank you so much, Frosty! Happy holidays!</td>\n",
       "      <td>Sarah</td>\n",
       "      <td>Brisbane</td>\n",
       "      <td>[\\n  \"Gabbys Dollhouse Cruise Ship\"\\n]</td>\n",
       "      <td>6</td>\n",
       "    </tr>\n",
       "  </tbody>\n",
       "</table>\n",
       "</div>"
      ],
      "text/plain": [
       "  LANGUAGE  \\\n",
       "0       EN   \n",
       "1       EN   \n",
       "2       EN   \n",
       "3       EN   \n",
       "4       EN   \n",
       "\n",
       "                                                                                                                                                                                                                                                                                                                                                                                                                                                                                                                                                                                                                                                                                                                                                                                                                                                                                                                                                                                                                                                                                                                                                                                                                                                                                                                                                                                                                           TRANSCRIPT  \\\n",
       "0  caller: Hi there, Frosty! I am excited to submit my holiday wish list.\\nfrosty: Hello! I'm happy to help you. Can I have your name, please?\\ncaller: I am Rachel, and I am calling from Sydney.\\nfrosty: Great, Rachel! Now, what's on your wish list?\\ncaller: We are thinking of getting the barbie science doll set. But, I'm not quite sure yet.\\nfrosty: That's a wonderful choice! May I ask why you're interested in this toy?\\ncaller: My daughter loves science and Barbie, so it will be a perfect combo for her.\\nfrosty: That sounds perfect indeed. How do you and your family plan to celebrate the holiday season?\\ncaller: We are planning a small gathering with close family and friends and lots of food and games.\\nfrosty: That sounds like a lovely time. Before we confirm your wish list, would you like to explore some other options for your daughter?\\ncaller: Maybe one more option?\\nfrosty: How about the Beast Lab: Shark Beast Creator? It's a fantastic creative and educational toy that your daughter might enjoy, especially if she loves science.\\ncaller: Oh, that sounds interesting. But I think we'll stick with the barbie science doll set.\\nfrosty: Alright, so the Barbie Science Lab Playset will be on the wish list. Thank you for sharing your holiday plans, and I hope your family has a fantastic time. Have a great day, Rachel!\\ncaller: Thank you, Frosty! Happy holidays!   \n",
       "1                                                                                                                                                 caller: Hi Frosty! My name is Jessica, and I live in Los Angeles. I need some help finding the perfect toy for my little one.\\nfrosty: Hello, Jessica! It's great to have you here. Let's find that perfect toy! What are some of your child's interests or hobbies?\\ncaller: She loves playing dress-up and pretend play. She's also quite artistic.\\nfrosty: That's delightful! I have a couple of suggestions: the Barbie Dreamhouse 2023 or the Calico Critters Pony's Stylish Hair Salon. Both encourage imaginative play and creativity.\\ncaller: Hmm, I like both options. Maybe the new Barbie Dreamhouse?\\nfrosty: The Barbie Dreamhouse 2023 is an excellent choice for hours of endless imaginative play. Before we confirm, is there any other toy you'd like to consider?\\ncaller: No, I think we are good with the Barbie Dreamhouse.\\nfrosty: Fantastic! The Barbie Dreamhouse 2023 is now on your holiday wish list. What's your favorite holiday memory, Jessica?\\ncaller: My favorite memory is when we all went to see the city's holiday lights display. It was magical!\\nfrosty: That sounds enchanting! I hope you and your family create more beautiful memories this holiday season. Have a great day, Jessica!\\ncaller: Thank you, Frosty! Happy holidays!   \n",
       "2                                                                                                                                                                                                                                                                                                                               caller: Hi, Frosty! My name is Ashley, and I'm calling from Auckland. I need to pick a gift for my nephew, but I'm a little unsure.\\nfrosty: Hello, Ashley! I'm here to help you find the perfect gift. What are your nephew's interests or hobbies?\\ncaller: He is really into vehicles and action figures.\\nfrosty: Great! I have a couple of options for you: The Teenage Mutant Ninja Turtles: Mutant Mayhem Pizza Fire Delivery Van or the Bluey Convertible and Figures. Which one sounds more appealing to you?\\ncaller: The ninja turtles delivery van seems perfect! Let's add that to the list.\\nfrosty: Excellent choice! The Teenage Mutant Ninja Turtles: Mutant Mayhem Pizza Fire Delivery Van is now on your wish list. Can you tell me about one of your favorite pastimes or hobbies, Ashley?\\ncaller: Sure! I love spending time in nature, going for hikes and exploring new trails.\\nfrosty: That sounds like an excellent way to unwind and enjoy the world around you. I hope you have a fantastic holiday season, Ashley! Goodbye!\\ncaller: Thank you, Frosty! Happy holidays!   \n",
       "3                                                                                                                                                                                                                                                                                                                                      caller: Hey Frosty! I need some help finding a gift for my niece. My name is Karen, and I'm from Vancouver.\\nfrosty: Hello, Karen! I'd be happy to help you find the perfect gift. What are some of your niece's interests?\\ncaller: She loves dolls and plush toys. She's always playing pretend with them.\\nfrosty: That's lovely! How about the Orijin Bees Lovey Coiley Baby Bee or the Fisher-Price Little People Mickey and Friends Playset? Both are adorable and encourage imaginative play.\\ncaller: The baby bee doll sounds great. Let's go with that one.\\nfrosty: Wonderful choice! The Orijin Bees Lovey Coiley Baby Bee is now on your holiday wish list. Do you have any favorite holiday memories, Karen?\\ncaller: One of my favorites is when we visited a local winter festival with ice sculptures and live performances. It was truly magical!\\nfrosty: That sounds fantastic! I hope you and your family create more wonderful memories this holiday season. Enjoy your celebrations, and have a great day, Karen!\\ncaller: Thanks, Frosty! You too, and happy holidays!   \n",
       "4                                                                                                                                                                                                                                                                                                                                                                                                                                    caller: Hi Frosty, I'm Sarah, calling from Brisbane. I'm looking for a gift for my daughter, but I'm not sure which one to choose.\\nfrosty: Hello, Sarah! I'd be glad to help. Can you tell me more about your daughter's interests or hobbies?\\ncaller: She loves playing with dolls and anything that has to do with animals.\\nfrosty: How lovely! I have a suggestion for you. The Gabbys Dollhouse Cruise Ship is a fantastic toy that combines both dolls and animals. Your daughter might enjoy it.\\ncaller: That sounds fantastic! Let's put that down on our wish list.\\nfrosty: Great! The Gabbys Dollhouse Cruise Ship is now on your wish list. What's something you enjoy the most about this time of the year, Sarah?\\ncaller: I love the festive atmosphere and spending quality time with family and friends.\\nfrosty: That's wonderful, Sarah! I hope you and your family have a fantastic holiday season. Have a great day!\\ncaller: Thank you so much, Frosty! Happy holidays!   \n",
       "\n",
       "      NAME     LOCATION  \\\n",
       "0   Rachel       Sydney   \n",
       "1  Jessica  Los Angeles   \n",
       "2   Ashley     Auckland   \n",
       "3    Karen    Vancouver   \n",
       "4    Sarah     Brisbane   \n",
       "\n",
       "                                                                        TOY_LIST  \\\n",
       "0                                           [\\n  \"Barbie Science Lab Playset\"\\n]   \n",
       "1                                               [\\n  \"Barbie Dreamhouse 2023\"\\n]   \n",
       "2  [\\n  \"Teenage Mutant Ninja Turtles: Mutant Mayhem Pizza Fire Delivery Van\"\\n]   \n",
       "3                                    [\\n  \"Orijin Bees Lovey Coiley Baby Bee\"\\n]   \n",
       "4                                         [\\n  \"Gabbys Dollhouse Cruise Ship\"\\n]   \n",
       "\n",
       "   ID  \n",
       "0   0  \n",
       "1   2  \n",
       "2   4  \n",
       "3   5  \n",
       "4   6  "
      ]
     },
     "execution_count": 12,
     "metadata": {},
     "output_type": "execute_result"
    }
   ],
   "source": [
    "df = pd.read_json(\"transcripts_base.json\",lines=True)\n",
    "sf_df = session.write_pandas(df,'transcripts',auto_create_table=True,quote_identifiers=False,overwrite=True)\n",
    "sf_df.to_pandas().head()"
   ]
  },
  {
   "cell_type": "markdown",
   "metadata": {},
   "source": [
    "### Simple Prompt Engineering Example\n",
    "\n",
    "For every transcript, define summarization instruction for the LLM"
   ]
  },
  {
   "cell_type": "code",
   "execution_count": 13,
   "metadata": {
    "tags": []
   },
   "outputs": [
    {
     "name": "stderr",
     "output_type": "stream",
     "text": [
      "INFO:snowflake.connector.cursor:query: [SELECT  *  FROM transcripts]\n",
      "INFO:snowflake.connector.cursor:query execution done\n",
      "INFO:snowflake.connector.cursor:Number of results in first chunk: 0\n",
      "INFO:snowflake.connector.cursor:query: [SELECT concat_ws(' ', '\\n[INST] Summarize this transcript in less than 200 words...]\n",
      "INFO:snowflake.connector.cursor:query execution done\n",
      "INFO:snowflake.connector.cursor:Number of results in first chunk: 69\n"
     ]
    },
    {
     "data": {
      "text/html": [
       "<div>\n",
       "<style scoped>\n",
       "    .dataframe tbody tr th:only-of-type {\n",
       "        vertical-align: middle;\n",
       "    }\n",
       "\n",
       "    .dataframe tbody tr th {\n",
       "        vertical-align: top;\n",
       "    }\n",
       "\n",
       "    .dataframe thead th {\n",
       "        text-align: right;\n",
       "    }\n",
       "</style>\n",
       "<table border=\"1\" class=\"dataframe\">\n",
       "  <thead>\n",
       "    <tr style=\"text-align: right;\">\n",
       "      <th></th>\n",
       "      <th>input</th>\n",
       "    </tr>\n",
       "  </thead>\n",
       "  <tbody>\n",
       "    <tr>\n",
       "      <th>0</th>\n",
       "      <td>\\n[INST] Summarize this transcript in less than 200 words: \\n caller: Hi there, Frosty! I am excited to submit my holiday wish list.\\nfrosty: Hello! I'm happy to help you. Can I have your name, please?\\ncaller: I am Rachel, and I am calling from Sydney.\\nfrosty: Great, Rachel! Now, what's on your wish list?\\ncaller: We are thinking of getting the barbie science doll set. But, I'm not quite sure yet.\\nfrosty: That's a wonderful choice! May I ask why you're interested in this toy?\\ncaller: My daughter loves science and Barbie, so it will be a perfect combo for her.\\nfrosty: That sounds perfect indeed. How do you and your family plan to celebrate the holiday season?\\ncaller: We are planning a small gathering with close family and friends and lots of food and games.\\nfrosty: That sounds like a lovely time. Before we confirm your wish list, would you like to explore some other options for your daughter?\\ncaller: Maybe one more option?\\nfrosty: How about the Beast Lab: Shark Beast Creator? It's a fantastic creative and educational toy that your daughter might enjoy, especially if she loves science.\\ncaller: Oh, that sounds interesting. But I think we'll stick with the barbie science doll set.\\nfrosty: Alright, so the Barbie Science Lab Playset will be on the wish list. Thank you for sharing your holiday plans, and I hope your family has a fantastic time. Have a great day, Rachel!\\ncaller: Thank you, Frosty! Happy holidays!  [/INST]</td>\n",
       "    </tr>\n",
       "    <tr>\n",
       "      <th>1</th>\n",
       "      <td>\\n[INST] Summarize this transcript in less than 200 words: \\n caller: Hi Frosty! My name is Jessica, and I live in Los Angeles. I need some help finding the perfect toy for my little one.\\nfrosty: Hello, Jessica! It's great to have you here. Let's find that perfect toy! What are some of your child's interests or hobbies?\\ncaller: She loves playing dress-up and pretend play. She's also quite artistic.\\nfrosty: That's delightful! I have a couple of suggestions: the Barbie Dreamhouse 2023 or the Calico Critters Pony's Stylish Hair Salon. Both encourage imaginative play and creativity.\\ncaller: Hmm, I like both options. Maybe the new Barbie Dreamhouse?\\nfrosty: The Barbie Dreamhouse 2023 is an excellent choice for hours of endless imaginative play. Before we confirm, is there any other toy you'd like to consider?\\ncaller: No, I think we are good with the Barbie Dreamhouse.\\nfrosty: Fantastic! The Barbie Dreamhouse 2023 is now on your holiday wish list. What's your favorite holiday memory, Jessica?\\ncaller: My favorite memory is when we all went to see the city's holiday lights display. It was magical!\\nfrosty: That sounds enchanting! I hope you and your family create more beautiful memories this holiday season. Have a great day, Jessica!\\ncaller: Thank you, Frosty! Happy holidays!  [/INST]</td>\n",
       "    </tr>\n",
       "    <tr>\n",
       "      <th>2</th>\n",
       "      <td>\\n[INST] Summarize this transcript in less than 200 words: \\n caller: Hi, Frosty! My name is Ashley, and I'm calling from Auckland. I need to pick a gift for my nephew, but I'm a little unsure.\\nfrosty: Hello, Ashley! I'm here to help you find the perfect gift. What are your nephew's interests or hobbies?\\ncaller: He is really into vehicles and action figures.\\nfrosty: Great! I have a couple of options for you: The Teenage Mutant Ninja Turtles: Mutant Mayhem Pizza Fire Delivery Van or the Bluey Convertible and Figures. Which one sounds more appealing to you?\\ncaller: The ninja turtles delivery van seems perfect! Let's add that to the list.\\nfrosty: Excellent choice! The Teenage Mutant Ninja Turtles: Mutant Mayhem Pizza Fire Delivery Van is now on your wish list. Can you tell me about one of your favorite pastimes or hobbies, Ashley?\\ncaller: Sure! I love spending time in nature, going for hikes and exploring new trails.\\nfrosty: That sounds like an excellent way to unwind and enjoy the world around you. I hope you have a fantastic holiday season, Ashley! Goodbye!\\ncaller: Thank you, Frosty! Happy holidays!  [/INST]</td>\n",
       "    </tr>\n",
       "    <tr>\n",
       "      <th>3</th>\n",
       "      <td>\\n[INST] Summarize this transcript in less than 200 words: \\n caller: Hey Frosty! I need some help finding a gift for my niece. My name is Karen, and I'm from Vancouver.\\nfrosty: Hello, Karen! I'd be happy to help you find the perfect gift. What are some of your niece's interests?\\ncaller: She loves dolls and plush toys. She's always playing pretend with them.\\nfrosty: That's lovely! How about the Orijin Bees Lovey Coiley Baby Bee or the Fisher-Price Little People Mickey and Friends Playset? Both are adorable and encourage imaginative play.\\ncaller: The baby bee doll sounds great. Let's go with that one.\\nfrosty: Wonderful choice! The Orijin Bees Lovey Coiley Baby Bee is now on your holiday wish list. Do you have any favorite holiday memories, Karen?\\ncaller: One of my favorites is when we visited a local winter festival with ice sculptures and live performances. It was truly magical!\\nfrosty: That sounds fantastic! I hope you and your family create more wonderful memories this holiday season. Enjoy your celebrations, and have a great day, Karen!\\ncaller: Thanks, Frosty! You too, and happy holidays!  [/INST]</td>\n",
       "    </tr>\n",
       "    <tr>\n",
       "      <th>4</th>\n",
       "      <td>\\n[INST] Summarize this transcript in less than 200 words: \\n caller: Hi Frosty, I'm Sarah, calling from Brisbane. I'm looking for a gift for my daughter, but I'm not sure which one to choose.\\nfrosty: Hello, Sarah! I'd be glad to help. Can you tell me more about your daughter's interests or hobbies?\\ncaller: She loves playing with dolls and anything that has to do with animals.\\nfrosty: How lovely! I have a suggestion for you. The Gabbys Dollhouse Cruise Ship is a fantastic toy that combines both dolls and animals. Your daughter might enjoy it.\\ncaller: That sounds fantastic! Let's put that down on our wish list.\\nfrosty: Great! The Gabbys Dollhouse Cruise Ship is now on your wish list. What's something you enjoy the most about this time of the year, Sarah?\\ncaller: I love the festive atmosphere and spending quality time with family and friends.\\nfrosty: That's wonderful, Sarah! I hope you and your family have a fantastic holiday season. Have a great day!\\ncaller: Thank you so much, Frosty! Happy holidays!  [/INST]</td>\n",
       "    </tr>\n",
       "  </tbody>\n",
       "</table>\n",
       "</div>"
      ],
      "text/plain": [
       "                                                                                                                                                                                                                                                                                                                                                                                                                                                                                                                                                                                                                                                                                                                                                                                                                                                                                                                                                                                                                                                                                                                                                                                                                                                                                                                                                                                                                                                                                                       input\n",
       "0  \\n[INST] Summarize this transcript in less than 200 words: \\n caller: Hi there, Frosty! I am excited to submit my holiday wish list.\\nfrosty: Hello! I'm happy to help you. Can I have your name, please?\\ncaller: I am Rachel, and I am calling from Sydney.\\nfrosty: Great, Rachel! Now, what's on your wish list?\\ncaller: We are thinking of getting the barbie science doll set. But, I'm not quite sure yet.\\nfrosty: That's a wonderful choice! May I ask why you're interested in this toy?\\ncaller: My daughter loves science and Barbie, so it will be a perfect combo for her.\\nfrosty: That sounds perfect indeed. How do you and your family plan to celebrate the holiday season?\\ncaller: We are planning a small gathering with close family and friends and lots of food and games.\\nfrosty: That sounds like a lovely time. Before we confirm your wish list, would you like to explore some other options for your daughter?\\ncaller: Maybe one more option?\\nfrosty: How about the Beast Lab: Shark Beast Creator? It's a fantastic creative and educational toy that your daughter might enjoy, especially if she loves science.\\ncaller: Oh, that sounds interesting. But I think we'll stick with the barbie science doll set.\\nfrosty: Alright, so the Barbie Science Lab Playset will be on the wish list. Thank you for sharing your holiday plans, and I hope your family has a fantastic time. Have a great day, Rachel!\\ncaller: Thank you, Frosty! Happy holidays!  [/INST]\n",
       "1                                                                                                                                                 \\n[INST] Summarize this transcript in less than 200 words: \\n caller: Hi Frosty! My name is Jessica, and I live in Los Angeles. I need some help finding the perfect toy for my little one.\\nfrosty: Hello, Jessica! It's great to have you here. Let's find that perfect toy! What are some of your child's interests or hobbies?\\ncaller: She loves playing dress-up and pretend play. She's also quite artistic.\\nfrosty: That's delightful! I have a couple of suggestions: the Barbie Dreamhouse 2023 or the Calico Critters Pony's Stylish Hair Salon. Both encourage imaginative play and creativity.\\ncaller: Hmm, I like both options. Maybe the new Barbie Dreamhouse?\\nfrosty: The Barbie Dreamhouse 2023 is an excellent choice for hours of endless imaginative play. Before we confirm, is there any other toy you'd like to consider?\\ncaller: No, I think we are good with the Barbie Dreamhouse.\\nfrosty: Fantastic! The Barbie Dreamhouse 2023 is now on your holiday wish list. What's your favorite holiday memory, Jessica?\\ncaller: My favorite memory is when we all went to see the city's holiday lights display. It was magical!\\nfrosty: That sounds enchanting! I hope you and your family create more beautiful memories this holiday season. Have a great day, Jessica!\\ncaller: Thank you, Frosty! Happy holidays!  [/INST]\n",
       "2                                                                                                                                                                                                                                                                                                                               \\n[INST] Summarize this transcript in less than 200 words: \\n caller: Hi, Frosty! My name is Ashley, and I'm calling from Auckland. I need to pick a gift for my nephew, but I'm a little unsure.\\nfrosty: Hello, Ashley! I'm here to help you find the perfect gift. What are your nephew's interests or hobbies?\\ncaller: He is really into vehicles and action figures.\\nfrosty: Great! I have a couple of options for you: The Teenage Mutant Ninja Turtles: Mutant Mayhem Pizza Fire Delivery Van or the Bluey Convertible and Figures. Which one sounds more appealing to you?\\ncaller: The ninja turtles delivery van seems perfect! Let's add that to the list.\\nfrosty: Excellent choice! The Teenage Mutant Ninja Turtles: Mutant Mayhem Pizza Fire Delivery Van is now on your wish list. Can you tell me about one of your favorite pastimes or hobbies, Ashley?\\ncaller: Sure! I love spending time in nature, going for hikes and exploring new trails.\\nfrosty: That sounds like an excellent way to unwind and enjoy the world around you. I hope you have a fantastic holiday season, Ashley! Goodbye!\\ncaller: Thank you, Frosty! Happy holidays!  [/INST]\n",
       "3                                                                                                                                                                                                                                                                                                                                      \\n[INST] Summarize this transcript in less than 200 words: \\n caller: Hey Frosty! I need some help finding a gift for my niece. My name is Karen, and I'm from Vancouver.\\nfrosty: Hello, Karen! I'd be happy to help you find the perfect gift. What are some of your niece's interests?\\ncaller: She loves dolls and plush toys. She's always playing pretend with them.\\nfrosty: That's lovely! How about the Orijin Bees Lovey Coiley Baby Bee or the Fisher-Price Little People Mickey and Friends Playset? Both are adorable and encourage imaginative play.\\ncaller: The baby bee doll sounds great. Let's go with that one.\\nfrosty: Wonderful choice! The Orijin Bees Lovey Coiley Baby Bee is now on your holiday wish list. Do you have any favorite holiday memories, Karen?\\ncaller: One of my favorites is when we visited a local winter festival with ice sculptures and live performances. It was truly magical!\\nfrosty: That sounds fantastic! I hope you and your family create more wonderful memories this holiday season. Enjoy your celebrations, and have a great day, Karen!\\ncaller: Thanks, Frosty! You too, and happy holidays!  [/INST]\n",
       "4                                                                                                                                                                                                                                                                                                                                                                                                                                    \\n[INST] Summarize this transcript in less than 200 words: \\n caller: Hi Frosty, I'm Sarah, calling from Brisbane. I'm looking for a gift for my daughter, but I'm not sure which one to choose.\\nfrosty: Hello, Sarah! I'd be glad to help. Can you tell me more about your daughter's interests or hobbies?\\ncaller: She loves playing with dolls and anything that has to do with animals.\\nfrosty: How lovely! I have a suggestion for you. The Gabbys Dollhouse Cruise Ship is a fantastic toy that combines both dolls and animals. Your daughter might enjoy it.\\ncaller: That sounds fantastic! Let's put that down on our wish list.\\nfrosty: Great! The Gabbys Dollhouse Cruise Ship is now on your wish list. What's something you enjoy the most about this time of the year, Sarah?\\ncaller: I love the festive atmosphere and spending quality time with family and friends.\\nfrosty: That's wonderful, Sarah! I hope you and your family have a fantastic holiday season. Have a great day!\\ncaller: Thank you so much, Frosty! Happy holidays!  [/INST]"
      ]
     },
     "execution_count": 13,
     "metadata": {},
     "output_type": "execute_result"
    }
   ],
   "source": [
    "begin_prompt = \\\n",
    "\"\"\"\n",
    "[INST] Summarize this transcript in less than 200 words: \n",
    "\"\"\"\n",
    "end_prompt = \" [/INST]\"\n",
    "\n",
    "df_inputs = sf_df.with_column('\"input\"',F.concat_ws(F.lit(\" \"),F.lit(begin_prompt),F.col('transcript'),F.lit(end_prompt))).select('\"input\"')\n",
    "df_inputs.to_pandas().head()"
   ]
  },
  {
   "cell_type": "markdown",
   "metadata": {},
   "source": [
    "### Inference using Simple Prompt\n",
    "\n",
    "Pass the summariation instruction to the LLM and examine results of 10 records"
   ]
  },
  {
   "cell_type": "code",
   "execution_count": 14,
   "metadata": {
    "tags": []
   },
   "outputs": [
    {
     "name": "stderr",
     "output_type": "stream",
     "text": [
      "WARNING:snowflake.snowpark:ModelReference.predict() is in private preview since 0.2.0. Do not use it in production. \n",
      "INFO:snowflake.connector.cursor:query: [SHOW TABLES LIKE '_SYSTEM_REGISTRY_SCHEMA_VERSION' IN DASH_DB.DASH_SCHEMA]\n",
      "INFO:snowflake.connector.cursor:query execution done\n",
      "INFO:snowflake.connector.cursor:Number of results in first chunk: 1\n",
      "INFO:snowflake.connector.cursor:query: [SELECT MAX(VERSION) AS MAX_VERSION FROM DASH_DB.DASH_SCHEMA._SYSTEM_REGISTRY_SCH...]\n",
      "INFO:snowflake.connector.cursor:query execution done\n",
      "INFO:snowflake.connector.cursor:Number of results in first chunk: 1\n",
      "WARNING:snowflake.snowpark:ModelRegistry.get_deployment() is in private preview since 1.0.1. Do not use it in production. \n",
      "WARNING:snowflake.snowpark:ModelRegistry.list_deployments() is in private preview since 1.0.1. Do not use it in production. \n",
      "INFO:snowflake.connector.cursor:query: [SELECT * FROM DASH_DB.DASH_SCHEMA._SYSTEM_REGISTRY_DEPLOYMENTS_VIEW]\n",
      "INFO:snowflake.connector.cursor:query execution done\n",
      "INFO:snowflake.connector.cursor:Number of results in first chunk: 0\n",
      "INFO:snowflake.connector.cursor:query: [SELECT count(1) AS \"COUNT(LITERAL())\" FROM ( SELECT \"MODEL_NAME\", \"MODEL_VERSION...]\n",
      "INFO:snowflake.connector.cursor:query execution done\n",
      "INFO:snowflake.connector.cursor:Number of results in first chunk: 1\n",
      "INFO:snowflake.connector.cursor:query: [SELECT \"MODEL_NAME\", \"MODEL_VERSION\", \"DEPLOYMENT_NAME\", \"CREATION_TIME\", \"TARGE...]\n",
      "INFO:snowflake.connector.cursor:query execution done\n",
      "INFO:snowflake.connector.cursor:Number of results in first chunk: 1\n",
      "INFO:snowflake.connector.cursor:query: [SELECT concat_ws(' ', '\\n[INST] Summarize this transcript in less than 200 words...]\n",
      "INFO:snowflake.connector.cursor:query execution done\n",
      "INFO:snowflake.connector.cursor:Number of results in first chunk: 0\n",
      "INFO:snowflake.connector.cursor:query: [SELECT \"input\",  CAST (\"TMP_RESULT\"['generated_text'] AS STRING) AS \"generated_t...]\n",
      "INFO:snowflake.connector.cursor:query execution done\n",
      "INFO:snowflake.connector.cursor:Number of results in first chunk: 5\n"
     ]
    },
    {
     "data": {
      "text/html": [
       "<div>\n",
       "<style scoped>\n",
       "    .dataframe tbody tr th:only-of-type {\n",
       "        vertical-align: middle;\n",
       "    }\n",
       "\n",
       "    .dataframe tbody tr th {\n",
       "        vertical-align: top;\n",
       "    }\n",
       "\n",
       "    .dataframe thead th {\n",
       "        text-align: right;\n",
       "    }\n",
       "</style>\n",
       "<table border=\"1\" class=\"dataframe\">\n",
       "  <thead>\n",
       "    <tr style=\"text-align: right;\">\n",
       "      <th></th>\n",
       "      <th>input</th>\n",
       "      <th>generated_text</th>\n",
       "    </tr>\n",
       "  </thead>\n",
       "  <tbody>\n",
       "    <tr>\n",
       "      <th>0</th>\n",
       "      <td>\\n[INST] Summarize this transcript in less than 200 words: \\n caller: Hi there, Frosty! I am excited to submit my holiday wish list.\\nfrosty: Hello! I'm happy to help you. Can I have your name, please?\\ncaller: I am Rachel, and I am calling from Sydney.\\nfrosty: Great, Rachel! Now, what's on your wish list?\\ncaller: We are thinking of getting the barbie science doll set. But, I'm not quite sure yet.\\nfrosty: That's a wonderful choice! May I ask why you're interested in this toy?\\ncaller: My daughter loves science and Barbie, so it will be a perfect combo for her.\\nfrosty: That sounds perfect indeed. How do you and your family plan to celebrate the holiday season?\\ncaller: We are planning a small gathering with close family and friends and lots of food and games.\\nfrosty: That sounds like a lovely time. Before we confirm your wish list, would you like to explore some other options for your daughter?\\ncaller: Maybe one more option?\\nfrosty: How about the Beast Lab: Shark Beast Creator? It's a fantastic creative and educational toy that your daughter might enjoy, especially if she loves science.\\ncaller: Oh, that sounds interesting. But I think we'll stick with the barbie science doll set.\\nfrosty: Alright, so the Barbie Science Lab Playset will be on the wish list. Thank you for sharing your holiday plans, and I hope your family has a fantastic time. Have a great day, Rachel!\\ncaller: Thank you, Frosty! Happy holidays!  [/INST]</td>\n",
       "      <td>Rachel from Sydney calls to submit her holiday wish list to Frosty. She is considering the Barbie Science Lab Playset for her daughter, who loves science and Barbie. Frosty suggests the Beast Lab: Shark Beast Creator as an alternative, but Rachel decides to stick with the original choice. Frosty thanks Rachel and wishes her a great day.</td>\n",
       "    </tr>\n",
       "    <tr>\n",
       "      <th>1</th>\n",
       "      <td>\\n[INST] Summarize this transcript in less than 200 words: \\n caller: Hi Frosty! My name is Jessica, and I live in Los Angeles. I need some help finding the perfect toy for my little one.\\nfrosty: Hello, Jessica! It's great to have you here. Let's find that perfect toy! What are some of your child's interests or hobbies?\\ncaller: She loves playing dress-up and pretend play. She's also quite artistic.\\nfrosty: That's delightful! I have a couple of suggestions: the Barbie Dreamhouse 2023 or the Calico Critters Pony's Stylish Hair Salon. Both encourage imaginative play and creativity.\\ncaller: Hmm, I like both options. Maybe the new Barbie Dreamhouse?\\nfrosty: The Barbie Dreamhouse 2023 is an excellent choice for hours of endless imaginative play. Before we confirm, is there any other toy you'd like to consider?\\ncaller: No, I think we are good with the Barbie Dreamhouse.\\nfrosty: Fantastic! The Barbie Dreamhouse 2023 is now on your holiday wish list. What's your favorite holiday memory, Jessica?\\ncaller: My favorite memory is when we all went to see the city's holiday lights display. It was magical!\\nfrosty: That sounds enchanting! I hope you and your family create more beautiful memories this holiday season. Have a great day, Jessica!\\ncaller: Thank you, Frosty! Happy holidays!  [/INST]</td>\n",
       "      <td>Jessica, a caller from Los Angeles, is looking for a toy for her child that promotes imaginative play and creativity. Frosty suggests the Barbie Dreamhouse 2023 or the Calico Critters Pony's Stylish Hair Salon. Jessica decides on the Barbie Dreamhouse, and Frosty asks about her favorite holiday memories. Jessica shares a memory of seeing the city's holiday lights</td>\n",
       "    </tr>\n",
       "    <tr>\n",
       "      <th>2</th>\n",
       "      <td>\\n[INST] Summarize this transcript in less than 200 words: \\n caller: Hi, Frosty! My name is Ashley, and I'm calling from Auckland. I need to pick a gift for my nephew, but I'm a little unsure.\\nfrosty: Hello, Ashley! I'm here to help you find the perfect gift. What are your nephew's interests or hobbies?\\ncaller: He is really into vehicles and action figures.\\nfrosty: Great! I have a couple of options for you: The Teenage Mutant Ninja Turtles: Mutant Mayhem Pizza Fire Delivery Van or the Bluey Convertible and Figures. Which one sounds more appealing to you?\\ncaller: The ninja turtles delivery van seems perfect! Let's add that to the list.\\nfrosty: Excellent choice! The Teenage Mutant Ninja Turtles: Mutant Mayhem Pizza Fire Delivery Van is now on your wish list. Can you tell me about one of your favorite pastimes or hobbies, Ashley?\\ncaller: Sure! I love spending time in nature, going for hikes and exploring new trails.\\nfrosty: That sounds like an excellent way to unwind and enjoy the world around you. I hope you have a fantastic holiday season, Ashley! Goodbye!\\ncaller: Thank you, Frosty! Happy holidays!  [/INST]</td>\n",
       "      <td>Ashley from Auckland called Frosty to find a gift for her nephew, who loves vehicles and action figures. Frosty suggested the Teenage Mutant Ninja Turtles: Mutant Mayhem Pizza Fire Delivery Van, which Ashley added to her wish list. Ashley also shared her own hobby of hiking and exploring nature, which Frosty appreciated. Frosty wished Ashley a happy holiday season and</td>\n",
       "    </tr>\n",
       "    <tr>\n",
       "      <th>3</th>\n",
       "      <td>\\n[INST] Summarize this transcript in less than 200 words: \\n caller: Hey Frosty! I need some help finding a gift for my niece. My name is Karen, and I'm from Vancouver.\\nfrosty: Hello, Karen! I'd be happy to help you find the perfect gift. What are some of your niece's interests?\\ncaller: She loves dolls and plush toys. She's always playing pretend with them.\\nfrosty: That's lovely! How about the Orijin Bees Lovey Coiley Baby Bee or the Fisher-Price Little People Mickey and Friends Playset? Both are adorable and encourage imaginative play.\\ncaller: The baby bee doll sounds great. Let's go with that one.\\nfrosty: Wonderful choice! The Orijin Bees Lovey Coiley Baby Bee is now on your holiday wish list. Do you have any favorite holiday memories, Karen?\\ncaller: One of my favorites is when we visited a local winter festival with ice sculptures and live performances. It was truly magical!\\nfrosty: That sounds fantastic! I hope you and your family create more wonderful memories this holiday season. Enjoy your celebrations, and have a great day, Karen!\\ncaller: Thanks, Frosty! You too, and happy holidays!  [/INST]</td>\n",
       "      <td>Karen from Vancouver called Frosty to find a gift for her 4-year-old niece, who loves dolls and plush toys. Frosty recommended the Orijin Bees Lovey Coiley Baby Bee or the Fisher-Price Little People Mickey and Friends Playset. Karen chose the baby bee doll, and Frosty shared a holiday memory of visiting a winter festival with ice sculptures and live performances</td>\n",
       "    </tr>\n",
       "    <tr>\n",
       "      <th>4</th>\n",
       "      <td>\\n[INST] Summarize this transcript in less than 200 words: \\n caller: Hi Frosty, I'm Sarah, calling from Brisbane. I'm looking for a gift for my daughter, but I'm not sure which one to choose.\\nfrosty: Hello, Sarah! I'd be glad to help. Can you tell me more about your daughter's interests or hobbies?\\ncaller: She loves playing with dolls and anything that has to do with animals.\\nfrosty: How lovely! I have a suggestion for you. The Gabbys Dollhouse Cruise Ship is a fantastic toy that combines both dolls and animals. Your daughter might enjoy it.\\ncaller: That sounds fantastic! Let's put that down on our wish list.\\nfrosty: Great! The Gabbys Dollhouse Cruise Ship is now on your wish list. What's something you enjoy the most about this time of the year, Sarah?\\ncaller: I love the festive atmosphere and spending quality time with family and friends.\\nfrosty: That's wonderful, Sarah! I hope you and your family have a fantastic holiday season. Have a great day!\\ncaller: Thank you so much, Frosty! Happy holidays!  [/INST]</td>\n",
       "      <td>A caller named Sarah from Brisbane is looking for a gift for her daughter who loves playing with dolls and animals. Frosty suggests the Gabbys Dollhouse Cruise Ship, which combines both. Sarah adds it to her wish list and Frosty wishes her a happy holiday season.</td>\n",
       "    </tr>\n",
       "  </tbody>\n",
       "</table>\n",
       "</div>"
      ],
      "text/plain": [
       "                                                                                                                                                                                                                                                                                                                                                                                                                                                                                                                                                                                                                                                                                                                                                                                                                                                                                                                                                                                                                                                                                                                                                                                                                                                                                                                                                                                                                                                                                                       input  \\\n",
       "0  \\n[INST] Summarize this transcript in less than 200 words: \\n caller: Hi there, Frosty! I am excited to submit my holiday wish list.\\nfrosty: Hello! I'm happy to help you. Can I have your name, please?\\ncaller: I am Rachel, and I am calling from Sydney.\\nfrosty: Great, Rachel! Now, what's on your wish list?\\ncaller: We are thinking of getting the barbie science doll set. But, I'm not quite sure yet.\\nfrosty: That's a wonderful choice! May I ask why you're interested in this toy?\\ncaller: My daughter loves science and Barbie, so it will be a perfect combo for her.\\nfrosty: That sounds perfect indeed. How do you and your family plan to celebrate the holiday season?\\ncaller: We are planning a small gathering with close family and friends and lots of food and games.\\nfrosty: That sounds like a lovely time. Before we confirm your wish list, would you like to explore some other options for your daughter?\\ncaller: Maybe one more option?\\nfrosty: How about the Beast Lab: Shark Beast Creator? It's a fantastic creative and educational toy that your daughter might enjoy, especially if she loves science.\\ncaller: Oh, that sounds interesting. But I think we'll stick with the barbie science doll set.\\nfrosty: Alright, so the Barbie Science Lab Playset will be on the wish list. Thank you for sharing your holiday plans, and I hope your family has a fantastic time. Have a great day, Rachel!\\ncaller: Thank you, Frosty! Happy holidays!  [/INST]   \n",
       "1                                                                                                                                                 \\n[INST] Summarize this transcript in less than 200 words: \\n caller: Hi Frosty! My name is Jessica, and I live in Los Angeles. I need some help finding the perfect toy for my little one.\\nfrosty: Hello, Jessica! It's great to have you here. Let's find that perfect toy! What are some of your child's interests or hobbies?\\ncaller: She loves playing dress-up and pretend play. She's also quite artistic.\\nfrosty: That's delightful! I have a couple of suggestions: the Barbie Dreamhouse 2023 or the Calico Critters Pony's Stylish Hair Salon. Both encourage imaginative play and creativity.\\ncaller: Hmm, I like both options. Maybe the new Barbie Dreamhouse?\\nfrosty: The Barbie Dreamhouse 2023 is an excellent choice for hours of endless imaginative play. Before we confirm, is there any other toy you'd like to consider?\\ncaller: No, I think we are good with the Barbie Dreamhouse.\\nfrosty: Fantastic! The Barbie Dreamhouse 2023 is now on your holiday wish list. What's your favorite holiday memory, Jessica?\\ncaller: My favorite memory is when we all went to see the city's holiday lights display. It was magical!\\nfrosty: That sounds enchanting! I hope you and your family create more beautiful memories this holiday season. Have a great day, Jessica!\\ncaller: Thank you, Frosty! Happy holidays!  [/INST]   \n",
       "2                                                                                                                                                                                                                                                                                                                               \\n[INST] Summarize this transcript in less than 200 words: \\n caller: Hi, Frosty! My name is Ashley, and I'm calling from Auckland. I need to pick a gift for my nephew, but I'm a little unsure.\\nfrosty: Hello, Ashley! I'm here to help you find the perfect gift. What are your nephew's interests or hobbies?\\ncaller: He is really into vehicles and action figures.\\nfrosty: Great! I have a couple of options for you: The Teenage Mutant Ninja Turtles: Mutant Mayhem Pizza Fire Delivery Van or the Bluey Convertible and Figures. Which one sounds more appealing to you?\\ncaller: The ninja turtles delivery van seems perfect! Let's add that to the list.\\nfrosty: Excellent choice! The Teenage Mutant Ninja Turtles: Mutant Mayhem Pizza Fire Delivery Van is now on your wish list. Can you tell me about one of your favorite pastimes or hobbies, Ashley?\\ncaller: Sure! I love spending time in nature, going for hikes and exploring new trails.\\nfrosty: That sounds like an excellent way to unwind and enjoy the world around you. I hope you have a fantastic holiday season, Ashley! Goodbye!\\ncaller: Thank you, Frosty! Happy holidays!  [/INST]   \n",
       "3                                                                                                                                                                                                                                                                                                                                      \\n[INST] Summarize this transcript in less than 200 words: \\n caller: Hey Frosty! I need some help finding a gift for my niece. My name is Karen, and I'm from Vancouver.\\nfrosty: Hello, Karen! I'd be happy to help you find the perfect gift. What are some of your niece's interests?\\ncaller: She loves dolls and plush toys. She's always playing pretend with them.\\nfrosty: That's lovely! How about the Orijin Bees Lovey Coiley Baby Bee or the Fisher-Price Little People Mickey and Friends Playset? Both are adorable and encourage imaginative play.\\ncaller: The baby bee doll sounds great. Let's go with that one.\\nfrosty: Wonderful choice! The Orijin Bees Lovey Coiley Baby Bee is now on your holiday wish list. Do you have any favorite holiday memories, Karen?\\ncaller: One of my favorites is when we visited a local winter festival with ice sculptures and live performances. It was truly magical!\\nfrosty: That sounds fantastic! I hope you and your family create more wonderful memories this holiday season. Enjoy your celebrations, and have a great day, Karen!\\ncaller: Thanks, Frosty! You too, and happy holidays!  [/INST]   \n",
       "4                                                                                                                                                                                                                                                                                                                                                                                                                                    \\n[INST] Summarize this transcript in less than 200 words: \\n caller: Hi Frosty, I'm Sarah, calling from Brisbane. I'm looking for a gift for my daughter, but I'm not sure which one to choose.\\nfrosty: Hello, Sarah! I'd be glad to help. Can you tell me more about your daughter's interests or hobbies?\\ncaller: She loves playing with dolls and anything that has to do with animals.\\nfrosty: How lovely! I have a suggestion for you. The Gabbys Dollhouse Cruise Ship is a fantastic toy that combines both dolls and animals. Your daughter might enjoy it.\\ncaller: That sounds fantastic! Let's put that down on our wish list.\\nfrosty: Great! The Gabbys Dollhouse Cruise Ship is now on your wish list. What's something you enjoy the most about this time of the year, Sarah?\\ncaller: I love the festive atmosphere and spending quality time with family and friends.\\nfrosty: That's wonderful, Sarah! I hope you and your family have a fantastic holiday season. Have a great day!\\ncaller: Thank you so much, Frosty! Happy holidays!  [/INST]   \n",
       "\n",
       "                                                                                                                                                                                                                                                                                                                                                                         generated_text  \n",
       "0                                    Rachel from Sydney calls to submit her holiday wish list to Frosty. She is considering the Barbie Science Lab Playset for her daughter, who loves science and Barbie. Frosty suggests the Beast Lab: Shark Beast Creator as an alternative, but Rachel decides to stick with the original choice. Frosty thanks Rachel and wishes her a great day.  \n",
       "1         Jessica, a caller from Los Angeles, is looking for a toy for her child that promotes imaginative play and creativity. Frosty suggests the Barbie Dreamhouse 2023 or the Calico Critters Pony's Stylish Hair Salon. Jessica decides on the Barbie Dreamhouse, and Frosty asks about her favorite holiday memories. Jessica shares a memory of seeing the city's holiday lights  \n",
       "2    Ashley from Auckland called Frosty to find a gift for her nephew, who loves vehicles and action figures. Frosty suggested the Teenage Mutant Ninja Turtles: Mutant Mayhem Pizza Fire Delivery Van, which Ashley added to her wish list. Ashley also shared her own hobby of hiking and exploring nature, which Frosty appreciated. Frosty wished Ashley a happy holiday season and  \n",
       "3          Karen from Vancouver called Frosty to find a gift for her 4-year-old niece, who loves dolls and plush toys. Frosty recommended the Orijin Bees Lovey Coiley Baby Bee or the Fisher-Price Little People Mickey and Friends Playset. Karen chose the baby bee doll, and Frosty shared a holiday memory of visiting a winter festival with ice sculptures and live performances  \n",
       "4                                                                                                               A caller named Sarah from Brisbane is looking for a gift for her daughter who loves playing with dolls and animals. Frosty suggests the Gabbys Dollhouse Cruise Ship, which combines both. Sarah adds it to her wish list and Frosty wishes her a happy holiday season.  "
      ]
     },
     "execution_count": 14,
     "metadata": {},
     "output_type": "execute_result"
    }
   ],
   "source": [
    "df_predict_results = llama_model_ref.predict(deployment_name=\"llama_predict\",data=df_inputs)\n",
    "df_predict_results.select('\"input\"','\"generated_text\"').limit(5).to_pandas()"
   ]
  },
  {
   "cell_type": "markdown",
   "metadata": {},
   "source": [
    "## Cleanup Resources\n",
    "\n",
    "Delete base model service"
   ]
  },
  {
   "cell_type": "code",
   "execution_count": 15,
   "metadata": {
    "tags": []
   },
   "outputs": [
    {
     "name": "stderr",
     "output_type": "stream",
     "text": [
      "INFO:snowflake.connector.cursor:query: [show services in compute pool DASH_GPU3]\n",
      "INFO:snowflake.connector.cursor:query execution done\n",
      "INFO:snowflake.connector.cursor:Number of results in first chunk: 2\n"
     ]
    },
    {
     "name": "stdout",
     "output_type": "stream",
     "text": [
      "-----------------------------------------------------------------------------------------------------------------------------------------------------------------------------------------------------------------------------------------------------------------------------------------------------------------------------------------------------------------------------------------------------------\n",
      "|\"name\"                                    |\"database_name\"  |\"schema_name\"  |\"owner\"    |\"compute_pool\"  |\"dns_name\"                                          |\"min_instances\"  |\"max_instances\"  |\"auto_resume\"  |\"external_access_integrations\"    |\"created_on\"                      |\"updated_on\"                      |\"resumed_on\"  |\"comment\"  |\"owner_role_type\"  |\"query_warehouse\"  |\"is_job\"  |\n",
      "-----------------------------------------------------------------------------------------------------------------------------------------------------------------------------------------------------------------------------------------------------------------------------------------------------------------------------------------------------------------------------------------------------------\n",
      "|LLM_SERVICE                               |DASH_DB          |DASH_SCHEMA    |DASH_SPCS  |DASH_GPU3       |llm-service.dash-schema.dash-db.snowflakecomput...  |1                |1                |true           |[\"ALLOW_ALL_ACCESS_INTEGRATION\"]  |2024-03-29 10:34:48.909000-07:00  |2024-03-29 10:34:50.236000-07:00  |NULL          |NULL       |ROLE               |NULL               |false     |\n",
      "|SERVICE_6C48FFE2EE0211EE940DEA79F9E088ED  |DASH_DB          |DASH_SCHEMA    |DASH_SPCS  |DASH_GPU3       |service-6c48ffe2ee0211ee940dea79f9e088ed.dash-s...  |1                |1                |true           |[\"ALLOW_ALL_ACCESS_INTEGRATION\"]  |2024-03-29 12:27:55.691000-07:00  |2024-03-29 12:27:56.711000-07:00  |NULL          |NULL       |ROLE               |NULL               |false     |\n",
      "-----------------------------------------------------------------------------------------------------------------------------------------------------------------------------------------------------------------------------------------------------------------------------------------------------------------------------------------------------------------------------------------------------------\n",
      "\n"
     ]
    }
   ],
   "source": [
    "session.sql(f\"show services in compute pool {SNOWFLAKE_COMPUTE_POOL}\").show();"
   ]
  },
  {
   "cell_type": "code",
   "execution_count": 16,
   "metadata": {
    "tags": []
   },
   "outputs": [
    {
     "name": "stderr",
     "output_type": "stream",
     "text": [
      "INFO:snowflake.connector.cursor:query: [drop service SERVICE_6C48FFE2EE0211EE940DEA79F9E088ED]\n",
      "INFO:snowflake.connector.cursor:query execution done\n",
      "INFO:snowflake.connector.cursor:Number of results in first chunk: 1\n"
     ]
    }
   ],
   "source": [
    "# Replace SERVICE_XXXXXXXXXXXXXXXXXXXXXX with the one from running the above cell\n",
    "service_id = 'SERVICE_6C48FFE2EE0211EE940DEA79F9E088ED'\n",
    "session.sql(f\"drop service {service_id}\").collect();"
   ]
  },
  {
   "cell_type": "code",
   "execution_count": 17,
   "metadata": {
    "tags": []
   },
   "outputs": [
    {
     "name": "stderr",
     "output_type": "stream",
     "text": [
      "INFO:snowflake.connector.cursor:query: [show services in compute pool DASH_GPU3]\n",
      "INFO:snowflake.connector.cursor:query execution done\n",
      "INFO:snowflake.connector.cursor:Number of results in first chunk: 1\n"
     ]
    },
    {
     "name": "stdout",
     "output_type": "stream",
     "text": [
      "------------------------------------------------------------------------------------------------------------------------------------------------------------------------------------------------------------------------------------------------------------------------------------------------------------------------------------------------------------------------------\n",
      "|\"name\"       |\"database_name\"  |\"schema_name\"  |\"owner\"    |\"compute_pool\"  |\"dns_name\"                                          |\"min_instances\"  |\"max_instances\"  |\"auto_resume\"  |\"external_access_integrations\"    |\"created_on\"                      |\"updated_on\"                      |\"resumed_on\"  |\"comment\"  |\"owner_role_type\"  |\"query_warehouse\"  |\"is_job\"  |\n",
      "------------------------------------------------------------------------------------------------------------------------------------------------------------------------------------------------------------------------------------------------------------------------------------------------------------------------------------------------------------------------------\n",
      "|LLM_SERVICE  |DASH_DB          |DASH_SCHEMA    |DASH_SPCS  |DASH_GPU3       |llm-service.dash-schema.dash-db.snowflakecomput...  |1                |1                |true           |[\"ALLOW_ALL_ACCESS_INTEGRATION\"]  |2024-03-29 10:34:48.909000-07:00  |2024-03-29 10:34:50.236000-07:00  |NULL          |NULL       |ROLE               |NULL               |false     |\n",
      "------------------------------------------------------------------------------------------------------------------------------------------------------------------------------------------------------------------------------------------------------------------------------------------------------------------------------------------------------------------------------\n",
      "\n"
     ]
    }
   ],
   "source": [
    "session.sql(f\"show services in compute pool {SNOWFLAKE_COMPUTE_POOL}\").show();"
   ]
  },
  {
   "cell_type": "markdown",
   "metadata": {},
   "source": [
    "# Fine-tune Llama 2 Model\n",
    "\n",
    "Fine-tuning is one form of model training. We start training from a pre-trained model and adjust a set of model parameters to better solve for a concrete task based on task specific data. Today we are going to fine-tune 7B Llama 2 model using LoRA (Low-Rank Adaptation)--which is a parameter efficient way of fine-tuning LLM."
   ]
  },
  {
   "cell_type": "markdown",
   "metadata": {},
   "source": [
    "### Import Libraries"
   ]
  },
  {
   "cell_type": "code",
   "execution_count": 18,
   "metadata": {
    "tags": []
   },
   "outputs": [],
   "source": [
    "from datasets import Dataset, ClassLabel\n",
    "from transformers import AutoTokenizer, AutoModelForCausalLM\n",
    "import sys\n",
    "from utils import Concatenator\n",
    "import pandas as pd\n",
    "pd.set_option('display.max_colwidth', None)\n",
    "\n",
    "import torch\n",
    "from transformers import LlamaForCausalLM, LlamaTokenizer\n",
    "import sentencepiece\n",
    "import os\n",
    "import json\n",
    "from transformers import TrainerCallback\n",
    "from contextlib import nullcontext\n",
    "from transformers import default_data_collator, Trainer, TrainingArguments\n",
    "\n",
    "from snowflake.snowpark.session import Session\n",
    "from snowflake.snowpark import VERSION\n",
    "import snowflake.snowpark.functions as F\n",
    "from snowflake.ml.registry import model_registry\n",
    "from snowflake.ml.model import deploy_platforms\n",
    "from snowflake.ml.model.models import llm\n",
    "\n",
    "import logging \n",
    "logger = logging.getLogger(\"snowflake.snowpark.session\")\n",
    "logger.setLevel(logging.ERROR)\n",
    "logger = logging.getLogger(\"snowflake.ml\")\n",
    "logger.setLevel(logging.ERROR)"
   ]
  },
  {
   "cell_type": "markdown",
   "metadata": {},
   "source": [
    "### Set Hugging Face Token"
   ]
  },
  {
   "cell_type": "code",
   "execution_count": 19,
   "metadata": {
    "tags": []
   },
   "outputs": [
    {
     "name": "stdout",
     "output_type": "stream",
     "text": [
      "Token will not been saved to git credential helper. Pass `add_to_git_credential=True` if you want to set the git credential as well.\n",
      "Token is valid (permission: read).\n",
      "Your token has been saved to /root/.cache/huggingface/token\n",
      "Login successful\n"
     ]
    }
   ],
   "source": [
    "!huggingface-cli login --token $HUGGING_FACE_TOKEN"
   ]
  },
  {
   "cell_type": "markdown",
   "metadata": {},
   "source": [
    "### Load Pre-trained Llama 2 Model From Hugging Face"
   ]
  },
  {
   "cell_type": "code",
   "execution_count": 20,
   "metadata": {
    "tags": []
   },
   "outputs": [
    {
     "name": "stdout",
     "output_type": "stream",
     "text": [
      "loading tokenizer\n"
     ]
    },
    {
     "data": {
      "application/vnd.jupyter.widget-view+json": {
       "model_id": "542e43513933497bbfab94561d528158",
       "version_major": 2,
       "version_minor": 0
      },
      "text/plain": [
       "Downloading tokenizer_config.json:   0%|          | 0.00/1.62k [00:00<?, ?B/s]"
      ]
     },
     "metadata": {},
     "output_type": "display_data"
    },
    {
     "data": {
      "application/vnd.jupyter.widget-view+json": {
       "model_id": "a962ca163bc74cdd9b51bac768ce763c",
       "version_major": 2,
       "version_minor": 0
      },
      "text/plain": [
       "Downloading tokenizer.model:   0%|          | 0.00/500k [00:00<?, ?B/s]"
      ]
     },
     "metadata": {},
     "output_type": "display_data"
    },
    {
     "data": {
      "application/vnd.jupyter.widget-view+json": {
       "model_id": "9fb6c459e384455fad8b88cd783a579b",
       "version_major": 2,
       "version_minor": 0
      },
      "text/plain": [
       "Downloading (…)cial_tokens_map.json:   0%|          | 0.00/414 [00:00<?, ?B/s]"
      ]
     },
     "metadata": {},
     "output_type": "display_data"
    },
    {
     "data": {
      "application/vnd.jupyter.widget-view+json": {
       "model_id": "9bad9a409d0a436ab9bce006f1afd30a",
       "version_major": 2,
       "version_minor": 0
      },
      "text/plain": [
       "Downloading tokenizer.json:   0%|          | 0.00/1.84M [00:00<?, ?B/s]"
      ]
     },
     "metadata": {},
     "output_type": "display_data"
    },
    {
     "name": "stdout",
     "output_type": "stream",
     "text": [
      "loading model\n"
     ]
    },
    {
     "data": {
      "application/vnd.jupyter.widget-view+json": {
       "model_id": "63ffd6a2ed3e4dd1bccd21aa96475385",
       "version_major": 2,
       "version_minor": 0
      },
      "text/plain": [
       "Downloading (…)fetensors.index.json:   0%|          | 0.00/26.8k [00:00<?, ?B/s]"
      ]
     },
     "metadata": {},
     "output_type": "display_data"
    },
    {
     "data": {
      "application/vnd.jupyter.widget-view+json": {
       "model_id": "7172cac7ceb94522b9099a5769f4d66c",
       "version_major": 2,
       "version_minor": 0
      },
      "text/plain": [
       "Downloading shards:   0%|          | 0/2 [00:00<?, ?it/s]"
      ]
     },
     "metadata": {},
     "output_type": "display_data"
    },
    {
     "data": {
      "application/vnd.jupyter.widget-view+json": {
       "model_id": "6334ec6bebb24a8db82e3a5d8c3979b0",
       "version_major": 2,
       "version_minor": 0
      },
      "text/plain": [
       "Downloading (…)of-00002.safetensors:   0%|          | 0.00/9.98G [00:00<?, ?B/s]"
      ]
     },
     "metadata": {},
     "output_type": "display_data"
    },
    {
     "data": {
      "application/vnd.jupyter.widget-view+json": {
       "model_id": "8556103a96a74ab2a50e531a0f2616df",
       "version_major": 2,
       "version_minor": 0
      },
      "text/plain": [
       "Downloading (…)of-00002.safetensors:   0%|          | 0.00/3.50G [00:00<?, ?B/s]"
      ]
     },
     "metadata": {},
     "output_type": "display_data"
    },
    {
     "name": "stderr",
     "output_type": "stream",
     "text": [
      "INFO:accelerate.utils.modeling:We will use 90% of the memory on device 0 for storing the model, and 10% for the buffer to avoid OOM. You can set `max_memory` in to a higher value to use more memory (at your own risk).\n"
     ]
    },
    {
     "data": {
      "application/vnd.jupyter.widget-view+json": {
       "model_id": "ee53b1ae75064facb7ded5c26b2da608",
       "version_major": 2,
       "version_minor": 0
      },
      "text/plain": [
       "Loading checkpoint shards:   0%|          | 0/2 [00:00<?, ?it/s]"
      ]
     },
     "metadata": {},
     "output_type": "display_data"
    },
    {
     "data": {
      "application/vnd.jupyter.widget-view+json": {
       "model_id": "c0e201a277a84180a34de7a8219bb811",
       "version_major": 2,
       "version_minor": 0
      },
      "text/plain": [
       "Downloading generation_config.json:   0%|          | 0.00/188 [00:00<?, ?B/s]"
      ]
     },
     "metadata": {},
     "output_type": "display_data"
    }
   ],
   "source": [
    "model_id=\"meta-llama/Llama-2-7b-chat-hf\"\n",
    "print('loading tokenizer')\n",
    "tokenizer = LlamaTokenizer.from_pretrained(model_id)\n",
    "print('loading model')\n",
    "model = LlamaForCausalLM.from_pretrained(model_id, load_in_8bit=True, device_map='auto', torch_dtype=torch.float16)"
   ]
  },
  {
   "cell_type": "markdown",
   "metadata": {},
   "source": [
    "### Load and Split Dataset"
   ]
  },
  {
   "cell_type": "code",
   "execution_count": 21,
   "metadata": {
    "tags": []
   },
   "outputs": [
    {
     "data": {
      "application/vnd.jupyter.widget-view+json": {
       "model_id": "6b31e06f3dff45f1a7b2d53155ffba7f",
       "version_major": 2,
       "version_minor": 0
      },
      "text/plain": [
       "Map:   0%|          | 0/1368 [00:00<?, ? examples/s]"
      ]
     },
     "metadata": {},
     "output_type": "display_data"
    }
   ],
   "source": [
    "def prepare_stratified_dataset(path, seed = 42):\n",
    "    raw_df = pd.read_json(path, lines=True)\n",
    "    raw_df['id'] = raw_df.index\n",
    "    ds = Dataset.from_pandas(raw_df, split='train')\n",
    "    cl = ClassLabel(num_classes=4, names=[\"EN\", \"FR\", \"DE\", \"ES\"])\n",
    "    new_features = ds.features.copy()\n",
    "    new_features['lang_label'] = cl\n",
    "    cl_d = {l : cl.str2int(l) for l in [\"EN\", \"FR\", \"DE\", \"ES\"]}\n",
    "    def convert_lang(sample):\n",
    "        sample['lang_label'] = cl_d[sample['language']]\n",
    "        return sample\n",
    "    ds = ds.map(convert_lang, features=new_features)\n",
    "    ds_split = ds.train_test_split(test_size=0.15, stratify_by_column='lang_label', seed=42)\n",
    "    test_ds_split = ds_split['test'].train_test_split(test_size=2/3, stratify_by_column='lang_label', seed=42)\n",
    "    return ds_split['train'].to_pandas(), test_ds_split['train'].to_pandas(), test_ds_split['test'].to_pandas()\n",
    "\n",
    "train_df, eval_df, test_df = prepare_stratified_dataset(\n",
    "    'transcripts_inst.json'\n",
    ")"
   ]
  },
  {
   "cell_type": "code",
   "execution_count": 22,
   "metadata": {
    "tags": []
   },
   "outputs": [],
   "source": [
    "# df = pd.read_json(\"transcripts_inst.json\", lines=True)\n",
    "# print(f\"Total records: {df.shape[0]}\")\n",
    "# train_df = df.head(100)\n",
    "# print(f\"Train        : {train_df.shape[0]}\")\n",
    "# eval_df = df[200:300]\n",
    "# print(f\"Eval         : {eval_df.shape[0]}\")\n",
    "# test_df = df.tail(100)\n",
    "# print(f\"Test         : {test_df.shape[0]}\")"
   ]
  },
  {
   "cell_type": "code",
   "execution_count": 23,
   "metadata": {
    "tags": []
   },
   "outputs": [
    {
     "data": {
      "text/html": [
       "<div>\n",
       "<style scoped>\n",
       "    .dataframe tbody tr th:only-of-type {\n",
       "        vertical-align: middle;\n",
       "    }\n",
       "\n",
       "    .dataframe tbody tr th {\n",
       "        vertical-align: top;\n",
       "    }\n",
       "\n",
       "    .dataframe thead th {\n",
       "        text-align: right;\n",
       "    }\n",
       "</style>\n",
       "<table border=\"1\" class=\"dataframe\">\n",
       "  <thead>\n",
       "    <tr style=\"text-align: right;\">\n",
       "      <th></th>\n",
       "      <th>instruction</th>\n",
       "      <th>input</th>\n",
       "      <th>output</th>\n",
       "      <th>language</th>\n",
       "      <th>id</th>\n",
       "      <th>lang_label</th>\n",
       "    </tr>\n",
       "  </thead>\n",
       "  <tbody>\n",
       "    <tr>\n",
       "      <th>0</th>\n",
       "      <td>Extract JSON response with 'location' and 'toy_list' as keys. 'location': Location of the caller. Include city only.'toy_list': List of toy names from the caller.</td>\n",
       "      <td>\"frosty: Greetings! I'm Frosty, your voice bot assistant for the holiday season. What's your name?\\ncaller: Hey Frosty, my name is James.\\nfrosty: Hi James! Where are you calling from?\\ncaller: I'm calling from Sydney.\\nfrosty: Nice to meet you, James from Sydney! Let's get started with your holiday wish list. What toy would you like to choose?\\ncaller: Hmm... I'm not sure yet. What do you recommend?\\nfrosty: I'm happy to help you explore our catalog! Does your child like plush toys?\\ncaller: Yes, my little one definitely loves plush toys.\\nfrosty: We have a sweet 2023 Holiday Fox 12-Inch Plush, or how about the Sesame Street Monster Meditation Elmo? Both are soft and cuddly.\\ncaller: Oh, Elmo for sure!\\nfrosty: The Sesame Street Monster Meditation Elmo is an excellent choice. Tell me, what do you enjoy the most about this time of the year?\\ncaller: I love seeing all the decorations and spending time with my family.\\nfrosty: That's wonderful! Do you have any favorite holiday memories?\\ncaller: One year, we had a fantastic snowball fight in the park with our friends. It was so much fun!\\nfrosty: That sounds like a terrific memory! So, are we adding Sesame Street Monster Meditation Elmo to your wish list?\\ncaller: Yes! And you know what? Add the fox plushie as well.\\nfrosty: You got it, adding the 2023 Holiday Fox 12-Inch Plush and Sesame Street Monster Meditation Elmo to your wish list. Have a great holiday season, James!\\ncaller: Thanks, Frosty! You too!\"</td>\n",
       "      <td>{\"toy_list\": [\"2023 Holiday Fox 12-Inch Plush\", \"Sesame Street Monster Meditation Elmo\"], \"location\": \"Sydney\"}</td>\n",
       "      <td>EN</td>\n",
       "      <td>245</td>\n",
       "      <td>0</td>\n",
       "    </tr>\n",
       "    <tr>\n",
       "      <th>1</th>\n",
       "      <td>Extract JSON response with 'location' and 'toy_list' as keys. 'location': Location of the caller. Include city only.'toy_list': List of toy names from the caller.</td>\n",
       "      <td>\"caller: Hi there!\\nfrosty: Hello! Welcome to our holiday hotline, I'm Frosty. How can I assist you today?\\ncaller: Hey, Frosty. My name is Mike, and I live in Los Angeles.\\nfrosty: Hi, Mike from Los Angeles! What can I help you with?\\ncaller: I want to submit my holiday wish list, but I'm not sure what toys my son would like.\\nfrosty: No problem! I'd be happy to help you explore our catalog. What are some of his interests?\\ncaller: He loves playing with new gadgets and is a fan of Star Wars.\\nfrosty: How about Star Wars LOLA animatronic droid? It's a fun gadget for any Star Wars fan.\\ncaller: That sounds interesting. What else do you have?\\nfrosty: Another option could be a Dog-E, the robot dog. It's a popular gadget for kids this holiday season.\\ncaller: Let's go with the lola droid. But I also need a second toy.\\nfrosty: Alright! Can you tell me more about what he enjoys during this time of the year?\\ncaller: He loves playing outdoors and making snow forts with his friends.\\nfrosty: In that case, he might be interested in the Tiny Land kids fort building kit. It allows him to create forts both indoors and outdoors, perfect for all seasons.\\ncaller: Great, add both the lola droid and fort building kit to our wish list, please.\\nfrosty: Excellent choices, Mike! I'll add the Star Wars LOLA animatronic droid and the Tiny Land kids fort building kit to your wish list. Have a fantastic holiday season!\\n\"</td>\n",
       "      <td>{\"toy_list\": [\"Star Wars LOLA animatronic droid\", \"Tiny Land kids fort building kit\"], \"location\": \"Los Angeles\"}</td>\n",
       "      <td>EN</td>\n",
       "      <td>968</td>\n",
       "      <td>0</td>\n",
       "    </tr>\n",
       "    <tr>\n",
       "      <th>2</th>\n",
       "      <td>Extract JSON response with 'location' and 'toy_list' as keys. 'location': Location of the caller. Include city only.'toy_list': List of toy names from the caller.</td>\n",
       "      <td>\"\\ncaller: Hello, I'm trying to submit a holiday wish list for my child but I'm not sure where to start.\\nfrosty: Hello and welcome! I'd be happy to help. May I have your name please, and where are you calling from?\\ncaller: My name is Laura, and I'm from Birmingham, England.\\nfrosty: Hi Laura! Nice to meet you. Let's start by discussing some toys that might interest your child. What type of toys do they usually enjoy playing with?\\ncaller: Hmm, I think my child loves playing with dolls and playsets.\\nfrosty: Great! We have a wide variety of dolls and playsets. The baby bee doll and barbie science doll set are popular choices. Why do you think your child might be interested in these types of toys?\\ncaller: My child loves role playing and has a great imagination. She also loves things associated with science and nature.\\nfrosty: I see! In that case, the barbie science doll set could be a great fit. Do you have any special plans to celebrate the holiday season with your family?\\ncaller: Yes, we're planning a family get-together. It's one of our favorite traditions during this time of year.\\nfrosty: That sounds lovely! I also wanted to ask what your favorite holiday memory is?\\ncaller: Back when I was a child, I remember a holiday celebration at my grandparents\\u2019 house. It was a beautiful and magical time.\\nfrosty: What a wonderful memory! Let's narrow down your options. Would you prefer the baby bee doll or the barbie science doll set for your child?\\ncaller: I think my child would enjoy the barbie science doll set more.\\nfrosty: Excellent choice, Laura! So, just to confirm, you\\u2019d like the barbie science doll set for your child's holiday wish list?\\ncaller: Yes, that's right.\\nfrosty: Wonderful! I have noted that down. Thank you for sharing your holiday plans and memories with me, Laura. I hope you and your family have a fantastic time together this holiday season!\\ncaller: Thank you so much, Frosty! I appreciate your help. Have a great day!\\n\"</td>\n",
       "      <td>{\"toy_list\": [\"Barbie Science Lab Playset\"], \"location\": \"Birmingham\"}</td>\n",
       "      <td>EN</td>\n",
       "      <td>527</td>\n",
       "      <td>0</td>\n",
       "    </tr>\n",
       "    <tr>\n",
       "      <th>3</th>\n",
       "      <td>Extract JSON response with 'location' and 'toy_list' as keys. 'location': Location of the caller. Include city only.'toy_list': List of toy names from the caller.</td>\n",
       "      <td>\"frosty: Hi there! I'm Frosty, your cheerful voice bot assistant, and I'm here to help you submit your holiday wish list. What's your name and where are you calling from?\\ncaller: Hey Frosty, I'm Jake and I'm calling from Toronto.\\nfrosty: Nice to meet you, Jake from Toronto! What toys would you like to include in your holiday wish list?\\ncaller: Hmm, I'm not sure yet. I was thinking about getting the Jurassic World dinosaur for my son.\\nfrosty: The Jurassic World Dominion Super Colossal Giganotosaurus is an excellent choice! Would you like some more suggestions based on your son's interests?\\ncaller: Yeah, sure!\\nfrosty: How about the Transformers Rise of the Beasts Beast-Mode Bumblebee? It's perfect for kids who love action and adventure.\\ncaller: Hmm, that sounds interesting. I think he'd love that. Let's add that to the list.\\nfrosty: Alright! What do you enjoy most about this time of the year, Jake?\\ncaller: I love spending time with my family, exchanging gifts, and enjoying nice meals together.\\nfrosty: That's the best part about the holidays! Do you have a favorite pastime or hobby?\\ncaller: I'm a big fan of snowboarding during the winter months. Love hitting the slopes on weekends.\\nfrosty: Sounds like a thrilling adventure! So, I have the Transformers Rise of the Beasts Beast-Mode Bumblebee on your wish list. Is there anything else you'd like to add?\\ncaller: Actually, let's add that Jurassic World dinosaur too. He likes both dinosaurs and Transformers, so I'm sure he'll be happy with either one.\\nfrosty: Perfect! So the Jurassic World Dominion Super Colossal Giganotosaurus will also be added to your list. Have a fantastic holiday season, Jake! Goodbye!\\ncaller: Thanks, Frosty! You too! Goodbye!\"</td>\n",
       "      <td>{\"toy_list\": [\"Transformers Rise of the Beasts Beast-Mode Bumblebee\", \"Jurassic World Dominion Super Colossal Giganotosaurus\"], \"location\": \"Toronto\"}</td>\n",
       "      <td>EN</td>\n",
       "      <td>105</td>\n",
       "      <td>0</td>\n",
       "    </tr>\n",
       "    <tr>\n",
       "      <th>4</th>\n",
       "      <td>Extract JSON response with 'location' and 'toy_list' as keys. 'location': Location of the caller. Include city only.'toy_list': List of toy names from the caller.</td>\n",
       "      <td>\"frosty: Welcome to our holiday hotline! My name is Frosty, your friendly voice bot. How can I assist you with your holiday wish list today?\\ncaller: Hello, Frosty! I'd like to submit a holiday wish list for my grandkids. My name is Linda.\\nfrosty: Nice to meet you, Linda! Where are you calling from?\\ncaller: I'm calling from Wellington, New Zealand.\\nfrosty: Wonderful! Now, let's talk about your grandkids' holiday wish list. What items are you considering?\\ncaller: I was thinking about getting them the bluey playhouse and the fingerlings monkey, but I'm open to other suggestions.\\nfrosty: The Bluey Ultimate Lights and Sounds playhouse and the Fingerlings are both popular choices for kids! If you're looking for an interactive pet, how about the Little Live Pets Mama Surprise or the Bitzee interactive pet?\\ncaller: Oh, those sound interesting! Can you tell me more about the Little Live Pets Mama Surprise?\\nfrosty: Absolutely! The Little Live Pets Mama Surprise is an adorable interactive pet with baby surprises concealed inside. Kids will love discovering the baby animals and caring for them, encouraging nurturing play.\\ncaller: That's perfect! Let's add that to the list instead of the fingerlings monkey.\\nfrosty: Great! So, we have the Bluey Ultimate Lights and Sounds playhouse and the Little Live Pets Mama Surprise on your holiday wish list. Is that correct?\\ncaller: Yes, that's correct. Thank you, Frosty!\\nfrosty: You're welcome, Linda! I hope your grandkids enjoy their gifts, and you all have a fantastic holiday season. Goodbye!\\ncaller: Goodbye!\"</td>\n",
       "      <td>{\"toy_list\": [\"Bluey Ultimate Lights and Sounds playhouse\", \"Little Live Pets Mama Surprise\"], \"location\": \"Wellington\"}</td>\n",
       "      <td>EN</td>\n",
       "      <td>999</td>\n",
       "      <td>0</td>\n",
       "    </tr>\n",
       "  </tbody>\n",
       "</table>\n",
       "</div>"
      ],
      "text/plain": [
       "                                                                                                                                                          instruction  \\\n",
       "0  Extract JSON response with 'location' and 'toy_list' as keys. 'location': Location of the caller. Include city only.'toy_list': List of toy names from the caller.   \n",
       "1  Extract JSON response with 'location' and 'toy_list' as keys. 'location': Location of the caller. Include city only.'toy_list': List of toy names from the caller.   \n",
       "2  Extract JSON response with 'location' and 'toy_list' as keys. 'location': Location of the caller. Include city only.'toy_list': List of toy names from the caller.   \n",
       "3  Extract JSON response with 'location' and 'toy_list' as keys. 'location': Location of the caller. Include city only.'toy_list': List of toy names from the caller.   \n",
       "4  Extract JSON response with 'location' and 'toy_list' as keys. 'location': Location of the caller. Include city only.'toy_list': List of toy names from the caller.   \n",
       "\n",
       "                                                                                                                                                                                                                                                                                                                                                                                                                                                                                                                                                                                                                                                                                                                                                                                                                                                                                                                                                                                                                                                                                                                                                                                                                                                                                                                                                                                                                                                                                                                                                                                                                                                                                                                                                                                                                                                                                                                                                                                                                                                               input  \\\n",
       "0                                                                                                                                                                                                                                                                                                                                                                                                                                                                                                                            \"frosty: Greetings! I'm Frosty, your voice bot assistant for the holiday season. What's your name?\\ncaller: Hey Frosty, my name is James.\\nfrosty: Hi James! Where are you calling from?\\ncaller: I'm calling from Sydney.\\nfrosty: Nice to meet you, James from Sydney! Let's get started with your holiday wish list. What toy would you like to choose?\\ncaller: Hmm... I'm not sure yet. What do you recommend?\\nfrosty: I'm happy to help you explore our catalog! Does your child like plush toys?\\ncaller: Yes, my little one definitely loves plush toys.\\nfrosty: We have a sweet 2023 Holiday Fox 12-Inch Plush, or how about the Sesame Street Monster Meditation Elmo? Both are soft and cuddly.\\ncaller: Oh, Elmo for sure!\\nfrosty: The Sesame Street Monster Meditation Elmo is an excellent choice. Tell me, what do you enjoy the most about this time of the year?\\ncaller: I love seeing all the decorations and spending time with my family.\\nfrosty: That's wonderful! Do you have any favorite holiday memories?\\ncaller: One year, we had a fantastic snowball fight in the park with our friends. It was so much fun!\\nfrosty: That sounds like a terrific memory! So, are we adding Sesame Street Monster Meditation Elmo to your wish list?\\ncaller: Yes! And you know what? Add the fox plushie as well.\\nfrosty: You got it, adding the 2023 Holiday Fox 12-Inch Plush and Sesame Street Monster Meditation Elmo to your wish list. Have a great holiday season, James!\\ncaller: Thanks, Frosty! You too!\"   \n",
       "1                                                                                                                                                                                                                                                                                                                                                                                                                                                                                                                                                                                   \"caller: Hi there!\\nfrosty: Hello! Welcome to our holiday hotline, I'm Frosty. How can I assist you today?\\ncaller: Hey, Frosty. My name is Mike, and I live in Los Angeles.\\nfrosty: Hi, Mike from Los Angeles! What can I help you with?\\ncaller: I want to submit my holiday wish list, but I'm not sure what toys my son would like.\\nfrosty: No problem! I'd be happy to help you explore our catalog. What are some of his interests?\\ncaller: He loves playing with new gadgets and is a fan of Star Wars.\\nfrosty: How about Star Wars LOLA animatronic droid? It's a fun gadget for any Star Wars fan.\\ncaller: That sounds interesting. What else do you have?\\nfrosty: Another option could be a Dog-E, the robot dog. It's a popular gadget for kids this holiday season.\\ncaller: Let's go with the lola droid. But I also need a second toy.\\nfrosty: Alright! Can you tell me more about what he enjoys during this time of the year?\\ncaller: He loves playing outdoors and making snow forts with his friends.\\nfrosty: In that case, he might be interested in the Tiny Land kids fort building kit. It allows him to create forts both indoors and outdoors, perfect for all seasons.\\ncaller: Great, add both the lola droid and fort building kit to our wish list, please.\\nfrosty: Excellent choices, Mike! I'll add the Star Wars LOLA animatronic droid and the Tiny Land kids fort building kit to your wish list. Have a fantastic holiday season!\\n\"   \n",
       "2  \"\\ncaller: Hello, I'm trying to submit a holiday wish list for my child but I'm not sure where to start.\\nfrosty: Hello and welcome! I'd be happy to help. May I have your name please, and where are you calling from?\\ncaller: My name is Laura, and I'm from Birmingham, England.\\nfrosty: Hi Laura! Nice to meet you. Let's start by discussing some toys that might interest your child. What type of toys do they usually enjoy playing with?\\ncaller: Hmm, I think my child loves playing with dolls and playsets.\\nfrosty: Great! We have a wide variety of dolls and playsets. The baby bee doll and barbie science doll set are popular choices. Why do you think your child might be interested in these types of toys?\\ncaller: My child loves role playing and has a great imagination. She also loves things associated with science and nature.\\nfrosty: I see! In that case, the barbie science doll set could be a great fit. Do you have any special plans to celebrate the holiday season with your family?\\ncaller: Yes, we're planning a family get-together. It's one of our favorite traditions during this time of year.\\nfrosty: That sounds lovely! I also wanted to ask what your favorite holiday memory is?\\ncaller: Back when I was a child, I remember a holiday celebration at my grandparents\\u2019 house. It was a beautiful and magical time.\\nfrosty: What a wonderful memory! Let's narrow down your options. Would you prefer the baby bee doll or the barbie science doll set for your child?\\ncaller: I think my child would enjoy the barbie science doll set more.\\nfrosty: Excellent choice, Laura! So, just to confirm, you\\u2019d like the barbie science doll set for your child's holiday wish list?\\ncaller: Yes, that's right.\\nfrosty: Wonderful! I have noted that down. Thank you for sharing your holiday plans and memories with me, Laura. I hope you and your family have a fantastic time together this holiday season!\\ncaller: Thank you so much, Frosty! I appreciate your help. Have a great day!\\n\"   \n",
       "3                                                                                                                                                                                                                                                             \"frosty: Hi there! I'm Frosty, your cheerful voice bot assistant, and I'm here to help you submit your holiday wish list. What's your name and where are you calling from?\\ncaller: Hey Frosty, I'm Jake and I'm calling from Toronto.\\nfrosty: Nice to meet you, Jake from Toronto! What toys would you like to include in your holiday wish list?\\ncaller: Hmm, I'm not sure yet. I was thinking about getting the Jurassic World dinosaur for my son.\\nfrosty: The Jurassic World Dominion Super Colossal Giganotosaurus is an excellent choice! Would you like some more suggestions based on your son's interests?\\ncaller: Yeah, sure!\\nfrosty: How about the Transformers Rise of the Beasts Beast-Mode Bumblebee? It's perfect for kids who love action and adventure.\\ncaller: Hmm, that sounds interesting. I think he'd love that. Let's add that to the list.\\nfrosty: Alright! What do you enjoy most about this time of the year, Jake?\\ncaller: I love spending time with my family, exchanging gifts, and enjoying nice meals together.\\nfrosty: That's the best part about the holidays! Do you have a favorite pastime or hobby?\\ncaller: I'm a big fan of snowboarding during the winter months. Love hitting the slopes on weekends.\\nfrosty: Sounds like a thrilling adventure! So, I have the Transformers Rise of the Beasts Beast-Mode Bumblebee on your wish list. Is there anything else you'd like to add?\\ncaller: Actually, let's add that Jurassic World dinosaur too. He likes both dinosaurs and Transformers, so I'm sure he'll be happy with either one.\\nfrosty: Perfect! So the Jurassic World Dominion Super Colossal Giganotosaurus will also be added to your list. Have a fantastic holiday season, Jake! Goodbye!\\ncaller: Thanks, Frosty! You too! Goodbye!\"   \n",
       "4                                                                                                                                                                                                                                                                                                                                                                                                                            \"frosty: Welcome to our holiday hotline! My name is Frosty, your friendly voice bot. How can I assist you with your holiday wish list today?\\ncaller: Hello, Frosty! I'd like to submit a holiday wish list for my grandkids. My name is Linda.\\nfrosty: Nice to meet you, Linda! Where are you calling from?\\ncaller: I'm calling from Wellington, New Zealand.\\nfrosty: Wonderful! Now, let's talk about your grandkids' holiday wish list. What items are you considering?\\ncaller: I was thinking about getting them the bluey playhouse and the fingerlings monkey, but I'm open to other suggestions.\\nfrosty: The Bluey Ultimate Lights and Sounds playhouse and the Fingerlings are both popular choices for kids! If you're looking for an interactive pet, how about the Little Live Pets Mama Surprise or the Bitzee interactive pet?\\ncaller: Oh, those sound interesting! Can you tell me more about the Little Live Pets Mama Surprise?\\nfrosty: Absolutely! The Little Live Pets Mama Surprise is an adorable interactive pet with baby surprises concealed inside. Kids will love discovering the baby animals and caring for them, encouraging nurturing play.\\ncaller: That's perfect! Let's add that to the list instead of the fingerlings monkey.\\nfrosty: Great! So, we have the Bluey Ultimate Lights and Sounds playhouse and the Little Live Pets Mama Surprise on your holiday wish list. Is that correct?\\ncaller: Yes, that's correct. Thank you, Frosty!\\nfrosty: You're welcome, Linda! I hope your grandkids enjoy their gifts, and you all have a fantastic holiday season. Goodbye!\\ncaller: Goodbye!\"   \n",
       "\n",
       "                                                                                                                                                   output  \\\n",
       "0                                         {\"toy_list\": [\"2023 Holiday Fox 12-Inch Plush\", \"Sesame Street Monster Meditation Elmo\"], \"location\": \"Sydney\"}   \n",
       "1                                       {\"toy_list\": [\"Star Wars LOLA animatronic droid\", \"Tiny Land kids fort building kit\"], \"location\": \"Los Angeles\"}   \n",
       "2                                                                                  {\"toy_list\": [\"Barbie Science Lab Playset\"], \"location\": \"Birmingham\"}   \n",
       "3  {\"toy_list\": [\"Transformers Rise of the Beasts Beast-Mode Bumblebee\", \"Jurassic World Dominion Super Colossal Giganotosaurus\"], \"location\": \"Toronto\"}   \n",
       "4                                {\"toy_list\": [\"Bluey Ultimate Lights and Sounds playhouse\", \"Little Live Pets Mama Surprise\"], \"location\": \"Wellington\"}   \n",
       "\n",
       "  language   id  lang_label  \n",
       "0       EN  245           0  \n",
       "1       EN  968           0  \n",
       "2       EN  527           0  \n",
       "3       EN  105           0  \n",
       "4       EN  999           0  "
      ]
     },
     "execution_count": 23,
     "metadata": {},
     "output_type": "execute_result"
    }
   ],
   "source": [
    "train_df.head()"
   ]
  },
  {
   "cell_type": "code",
   "execution_count": 24,
   "metadata": {
    "tags": []
   },
   "outputs": [],
   "source": [
    "datasets = {\n",
    "    'train': Dataset.from_pandas(train_df),\n",
    "    'eval': Dataset.from_pandas(eval_df),\n",
    "    'test': Dataset.from_pandas(test_df)\n",
    "}"
   ]
  },
  {
   "cell_type": "markdown",
   "metadata": {},
   "source": [
    "### Apply Prompt to Datasets"
   ]
  },
  {
   "cell_type": "code",
   "execution_count": 25,
   "metadata": {
    "tags": []
   },
   "outputs": [
    {
     "data": {
      "application/vnd.jupyter.widget-view+json": {
       "model_id": "ad1904efacae48edbf2c987edf1247f0",
       "version_major": 2,
       "version_minor": 0
      },
      "text/plain": [
       "Map:   0%|          | 0/1162 [00:00<?, ? examples/s]"
      ]
     },
     "metadata": {},
     "output_type": "display_data"
    },
    {
     "data": {
      "application/vnd.jupyter.widget-view+json": {
       "model_id": "37b84c67349c4970a5f8c03c4f371fc4",
       "version_major": 2,
       "version_minor": 0
      },
      "text/plain": [
       "Map:   0%|          | 0/68 [00:00<?, ? examples/s]"
      ]
     },
     "metadata": {},
     "output_type": "display_data"
    },
    {
     "data": {
      "application/vnd.jupyter.widget-view+json": {
       "model_id": "72235cc33c4e451d9d6507a960a9be5b",
       "version_major": 2,
       "version_minor": 0
      },
      "text/plain": [
       "Map:   0%|          | 0/138 [00:00<?, ? examples/s]"
      ]
     },
     "metadata": {},
     "output_type": "display_data"
    }
   ],
   "source": [
    "train_prompt = f\"\"\"\n",
    "[INST] <<SYS>>\n",
    "Below is an instruction that describes a task, paired with an input that provides further context. Write a response that appropriately completes the request.\n",
    "<</SYS>>\n",
    "### Instruction:\n",
    "{{instruction}}\n",
    "### Input:\n",
    "{{input_}}\n",
    "### Output:\n",
    "{{output}}\n",
    "{{eos_token}}\n",
    "\"\"\"\n",
    "\n",
    "eval_prompt = f\"\"\"\n",
    "[INST] <<SYS>>\n",
    "Below is an instruction that describes a task, paired with an input that provides further context. Write a response that appropriately completes the request.\n",
    "<</SYS>>\n",
    "### Instruction:\n",
    "{{instruction}}\n",
    "### Input:\n",
    "{{input_}}\n",
    "### Output:\n",
    "\"\"\"\n",
    "\n",
    "def apply_train_template(sample):\n",
    "    return {\n",
    "        \"text\": train_prompt.format(\n",
    "            instruction=sample[\"instruction\"],\n",
    "            input_=sample[\"input\"].replace('\\\\n', '\\n'),\n",
    "            output=sample[\"output\"],\n",
    "            eos_token=tokenizer.eos_token,\n",
    "        )\n",
    "    }\n",
    "\n",
    "def apply_eval_template(sample):\n",
    "    return {\n",
    "        \"text\": eval_prompt.format(\n",
    "            instruction=sample[\"instruction\"],\n",
    "            input_=sample[\"input\"].replace('\\\\n', '\\n')\n",
    "        )\n",
    "    }\n",
    "\n",
    "#applying template\n",
    "\n",
    "datasets['train'] = datasets['train'].map(apply_train_template, remove_columns=list(datasets['train'].features))\n",
    "for k in ['eval', 'test']:\n",
    "    datasets[k] = datasets[k].map(apply_eval_template, remove_columns=list(datasets[k].features))"
   ]
  },
  {
   "cell_type": "markdown",
   "metadata": {
    "tags": []
   },
   "source": [
    "### Tokenize Datasets"
   ]
  },
  {
   "cell_type": "code",
   "execution_count": 26,
   "metadata": {
    "tags": []
   },
   "outputs": [
    {
     "data": {
      "application/vnd.jupyter.widget-view+json": {
       "model_id": "2035f1f95c5d4f968878748d9212a4d7",
       "version_major": 2,
       "version_minor": 0
      },
      "text/plain": [
       "Map:   0%|          | 0/1162 [00:00<?, ? examples/s]"
      ]
     },
     "metadata": {},
     "output_type": "display_data"
    },
    {
     "data": {
      "application/vnd.jupyter.widget-view+json": {
       "model_id": "02cafd3bad794abf999fc48b3e9ff260",
       "version_major": 2,
       "version_minor": 0
      },
      "text/plain": [
       "Map:   0%|          | 0/1162 [00:00<?, ? examples/s]"
      ]
     },
     "metadata": {},
     "output_type": "display_data"
    },
    {
     "data": {
      "application/vnd.jupyter.widget-view+json": {
       "model_id": "448473cc35c54dca867c5c5a1bb5f1d4",
       "version_major": 2,
       "version_minor": 0
      },
      "text/plain": [
       "Map:   0%|          | 0/68 [00:00<?, ? examples/s]"
      ]
     },
     "metadata": {},
     "output_type": "display_data"
    },
    {
     "data": {
      "application/vnd.jupyter.widget-view+json": {
       "model_id": "026ab02b0d2241f5846cc934b7d96ec7",
       "version_major": 2,
       "version_minor": 0
      },
      "text/plain": [
       "Map:   0%|          | 0/68 [00:00<?, ? examples/s]"
      ]
     },
     "metadata": {},
     "output_type": "display_data"
    },
    {
     "data": {
      "application/vnd.jupyter.widget-view+json": {
       "model_id": "7aa5e1a9647d4f3389d8270bd92d3969",
       "version_major": 2,
       "version_minor": 0
      },
      "text/plain": [
       "Map:   0%|          | 0/138 [00:00<?, ? examples/s]"
      ]
     },
     "metadata": {},
     "output_type": "display_data"
    },
    {
     "data": {
      "application/vnd.jupyter.widget-view+json": {
       "model_id": "79e4c3890fd748ec8f361242c281a300",
       "version_major": 2,
       "version_minor": 0
      },
      "text/plain": [
       "Map:   0%|          | 0/138 [00:00<?, ? examples/s]"
      ]
     },
     "metadata": {},
     "output_type": "display_data"
    }
   ],
   "source": [
    "for k, v in datasets.items():\n",
    "    datasets[k] = v.map(\n",
    "        lambda sample: tokenizer(sample[\"text\"]),\n",
    "        batched=True,\n",
    "        \n",
    "        remove_columns=list(v.features),\n",
    "    ).map(Concatenator(), batched=True)"
   ]
  },
  {
   "cell_type": "markdown",
   "metadata": {},
   "source": [
    "### Fine-tune Configuration\n",
    "\n",
    "Instead of adjusting all the ~7B parameters, LoRA allows us to adjust only a percent of model weights--which can save compute and memory resources dramatically. For this lab, we will fine-tune our model using LoRA on a single A10 GPU. This will demostrate how good the inference can be on fine-tuned models even with limited compute."
   ]
  },
  {
   "cell_type": "code",
   "execution_count": 27,
   "metadata": {
    "tags": []
   },
   "outputs": [
    {
     "name": "stdout",
     "output_type": "stream",
     "text": [
      "trainable params: 4,194,304 || all params: 6,742,609,920 || trainable%: 0.06220594176090199\n"
     ]
    }
   ],
   "source": [
    "#setting the model into training mode\n",
    "model.train()\n",
    "\n",
    "#setting up training\n",
    "def create_peft_config(model):\n",
    "    from peft import (\n",
    "        get_peft_model,\n",
    "        LoraConfig,\n",
    "        TaskType,\n",
    "        prepare_model_for_kbit_training,\n",
    "    )\n",
    "\n",
    "    peft_config = LoraConfig(\n",
    "        task_type=TaskType.CAUSAL_LM,\n",
    "        inference_mode=False,\n",
    "        r=8,\n",
    "        lora_alpha=32,\n",
    "        lora_dropout=0.05,\n",
    "        target_modules = [\"q_proj\", \"v_proj\"]\n",
    "    )\n",
    "\n",
    "    # prepare int-8 model for training\n",
    "    model = prepare_model_for_kbit_training(model)\n",
    "    model = get_peft_model(model, peft_config)\n",
    "    model.print_trainable_parameters()\n",
    "    return model, peft_config\n",
    "\n",
    "# create peft config\n",
    "model, lora_config = create_peft_config(model)"
   ]
  },
  {
   "cell_type": "code",
   "execution_count": 28,
   "metadata": {
    "tags": []
   },
   "outputs": [],
   "source": [
    "# !rm -r output_weights_dir # deletes prior fine tuning weights\n",
    "!mkdir output_weights_dir"
   ]
  },
  {
   "cell_type": "markdown",
   "metadata": {},
   "source": [
    "We're passing train_dataset and eval_dataset that are used to generate loss calculation during fine-tuning process and we've set output_weights_dir as the directory where the fine-tuned weights will be stored after fine-tuning job completes.\n",
    "\n",
    "To achieve good performance for the task, you will need at least 1 num_epochs."
   ]
  },
  {
   "cell_type": "code",
   "execution_count": 29,
   "metadata": {
    "tags": []
   },
   "outputs": [],
   "source": [
    "output_dir = \"output_weights_dir\"\n",
    "enable_profiler = False\n",
    "\n",
    "config = {\n",
    "    'lora_config': lora_config,\n",
    "    'learning_rate': 1e-4,\n",
    "    'num_train_epochs': 1,\n",
    "    'gradient_accumulation_steps': 2,\n",
    "    'per_device_train_batch_size': 2,\n",
    "    'gradient_checkpointing': False,\n",
    "}\n",
    "\n",
    "# Define training args\n",
    "training_args = TrainingArguments(\n",
    "    output_dir=output_dir,\n",
    "    overwrite_output_dir=True,\n",
    "    bf16=True,  # Use BF16 if available\n",
    "    # logging strategies\n",
    "    logging_dir=f\"{output_dir}/logs\",\n",
    "    logging_strategy=\"steps\",\n",
    "    logging_steps=10,\n",
    "    save_strategy=\"no\",\n",
    "    optim=\"adamw_torch_fused\",\n",
    "    max_steps=total_steps if enable_profiler else -1,\n",
    "    **{k:v for k,v in config.items() if k != 'lora_config'}\n",
    ")"
   ]
  },
  {
   "cell_type": "code",
   "execution_count": 30,
   "metadata": {
    "tags": []
   },
   "outputs": [
    {
     "name": "stderr",
     "output_type": "stream",
     "text": [
      "/opt/conda/envs/rapids/lib/python3.10/site-packages/accelerate/accelerator.py:432: FutureWarning: Passing the following arguments to `Accelerator` is deprecated and will be removed in version 1.0 of Accelerate: dict_keys(['dispatch_batches']). Please pass an `accelerate.DataLoaderConfiguration` instead: \n",
      "dataloader_config = DataLoaderConfiguration(dispatch_batches=None)\n",
      "  warnings.warn(\n",
      "WARNING:accelerate.utils.other:Detected kernel version 5.4.181, which is below the recommended minimum of 5.5.0; this can cause the process to hang. It is recommended to upgrade the kernel to the minimum version or higher.\n",
      "`use_cache=True` is incompatible with gradient checkpointing. Setting `use_cache=False`...\n",
      "/opt/conda/envs/rapids/lib/python3.10/site-packages/bitsandbytes/autograd/_functions.py:322: UserWarning: MatMul8bitLt: inputs will be cast from torch.float32 to float16 during quantization\n",
      "  warnings.warn(f\"MatMul8bitLt: inputs will be cast from {A.dtype} to float16 during quantization\")\n",
      "/opt/conda/envs/rapids/lib/python3.10/site-packages/bitsandbytes/autograd/_functions.py:322: UserWarning: MatMul8bitLt: inputs will be cast from torch.bfloat16 to float16 during quantization\n",
      "  warnings.warn(f\"MatMul8bitLt: inputs will be cast from {A.dtype} to float16 during quantization\")\n"
     ]
    },
    {
     "data": {
      "text/html": [
       "\n",
       "    <div>\n",
       "      \n",
       "      <progress value='83' max='83' style='width:300px; height:20px; vertical-align: middle;'></progress>\n",
       "      [83/83 22:50, Epoch 1/1]\n",
       "    </div>\n",
       "    <table border=\"1\" class=\"dataframe\">\n",
       "  <thead>\n",
       " <tr style=\"text-align: left;\">\n",
       "      <th>Step</th>\n",
       "      <th>Training Loss</th>\n",
       "    </tr>\n",
       "  </thead>\n",
       "  <tbody>\n",
       "    <tr>\n",
       "      <td>10</td>\n",
       "      <td>1.373300</td>\n",
       "    </tr>\n",
       "    <tr>\n",
       "      <td>20</td>\n",
       "      <td>1.093200</td>\n",
       "    </tr>\n",
       "    <tr>\n",
       "      <td>30</td>\n",
       "      <td>0.990000</td>\n",
       "    </tr>\n",
       "    <tr>\n",
       "      <td>40</td>\n",
       "      <td>0.947700</td>\n",
       "    </tr>\n",
       "    <tr>\n",
       "      <td>50</td>\n",
       "      <td>0.890700</td>\n",
       "    </tr>\n",
       "    <tr>\n",
       "      <td>60</td>\n",
       "      <td>0.840900</td>\n",
       "    </tr>\n",
       "    <tr>\n",
       "      <td>70</td>\n",
       "      <td>0.800000</td>\n",
       "    </tr>\n",
       "    <tr>\n",
       "      <td>80</td>\n",
       "      <td>0.790300</td>\n",
       "    </tr>\n",
       "  </tbody>\n",
       "</table><p>"
      ],
      "text/plain": [
       "<IPython.core.display.HTML object>"
      ]
     },
     "metadata": {},
     "output_type": "display_data"
    }
   ],
   "source": [
    "profiler = nullcontext() \n",
    "\n",
    "with profiler:\n",
    "    # Create Trainer instance\n",
    "    trainer = Trainer(\n",
    "        model=model,\n",
    "        args=training_args,\n",
    "        train_dataset=datasets['train'],\n",
    "        eval_dataset=datasets['eval'],\n",
    "        data_collator=default_data_collator,\n",
    "        callbacks=[profiler_callback] if enable_profiler else [],\n",
    "    )\n",
    "\n",
    "    # Start training\n",
    "    trainer.train()\n",
    "    \n",
    "model.save_pretrained(output_dir)"
   ]
  },
  {
   "cell_type": "markdown",
   "metadata": {},
   "source": [
    "### Log and Deploy Fine-tuned Llama 2"
   ]
  },
  {
   "cell_type": "code",
   "execution_count": 31,
   "metadata": {
    "tags": []
   },
   "outputs": [
    {
     "name": "stderr",
     "output_type": "stream",
     "text": [
      "/tmp/ipykernel_98/41704961.py:5: DeprecationWarning: \n",
      "The `snowflake.ml.registry.model_registry.ModelRegistry` has been deprecated starting from version 1.2.0.\n",
      "It will stay in the Private Preview phase. For future implementations, kindly utilize `snowflake.ml.registry.Registry`,\n",
      "except when specifically required. The old model registry will be removed once all its primary functionalities are\n",
      "fully integrated into the new registry.\n",
      "        \n",
      "  registry = model_registry.ModelRegistry(\n",
      "INFO:snowflake.connector.cursor:query: [SHOW DATABASES LIKE 'DASH_DB']\n",
      "INFO:snowflake.connector.cursor:query execution done\n",
      "INFO:snowflake.connector.cursor:Number of results in first chunk: 1\n",
      "WARNING:absl:The database DASH_DB already exists. Skipping creation.\n",
      "INFO:snowflake.connector.cursor:query: [SHOW SCHEMAS LIKE 'DASH_SCHEMA' IN DATABASE DASH_DB]\n",
      "INFO:snowflake.connector.cursor:query execution done\n",
      "INFO:snowflake.connector.cursor:Number of results in first chunk: 1\n",
      "WARNING:absl:The schema DASH_DB.DASH_SCHEMA already exists. Skipping creation.\n",
      "INFO:snowflake.connector.cursor:query: [SHOW TABLES LIKE '_SYSTEM_REGISTRY_SCHEMA_VERSION' IN DASH_DB.DASH_SCHEMA]\n",
      "INFO:snowflake.connector.cursor:query execution done\n",
      "INFO:snowflake.connector.cursor:Number of results in first chunk: 1\n",
      "INFO:snowflake.connector.cursor:query: [SELECT MAX(VERSION) AS MAX_VERSION FROM DASH_DB.DASH_SCHEMA._SYSTEM_REGISTRY_SCH...]\n",
      "INFO:snowflake.connector.cursor:query execution done\n",
      "INFO:snowflake.connector.cursor:Number of results in first chunk: 1\n",
      "INFO:snowflake.connector.cursor:query: [SHOW TABLES LIKE '_SYSTEM_REGISTRY_SCHEMA_VERSION' IN DASH_DB.DASH_SCHEMA]\n",
      "INFO:snowflake.connector.cursor:query execution done\n",
      "INFO:snowflake.connector.cursor:Number of results in first chunk: 1\n",
      "INFO:snowflake.connector.cursor:query: [SELECT MAX(VERSION) AS MAX_VERSION FROM DASH_DB.DASH_SCHEMA._SYSTEM_REGISTRY_SCH...]\n",
      "INFO:snowflake.connector.cursor:query execution done\n",
      "INFO:snowflake.connector.cursor:Number of results in first chunk: 1\n",
      "INFO:snowflake.connector.cursor:query: [DESC TABLE DASH_DB.DASH_SCHEMA._SYSTEM_REGISTRY_MODELS]\n",
      "INFO:snowflake.connector.cursor:query execution done\n",
      "INFO:snowflake.connector.cursor:Number of results in first chunk: 13\n",
      "INFO:snowflake.connector.cursor:query: [DESC TABLE DASH_DB.DASH_SCHEMA._SYSTEM_REGISTRY_METADATA]\n",
      "INFO:snowflake.connector.cursor:query execution done\n",
      "INFO:snowflake.connector.cursor:Number of results in first chunk: 8\n",
      "INFO:snowflake.connector.cursor:query: [DESC TABLE DASH_DB.DASH_SCHEMA._SYSTEM_REGISTRY_DEPLOYMENTS]\n",
      "INFO:snowflake.connector.cursor:query execution done\n",
      "INFO:snowflake.connector.cursor:Number of results in first chunk: 9\n",
      "INFO:snowflake.connector.cursor:query: [DESC TABLE DASH_DB.DASH_SCHEMA._SYSTEM_REGISTRY_ARTIFACTS]\n",
      "INFO:snowflake.connector.cursor:query execution done\n",
      "INFO:snowflake.connector.cursor:Number of results in first chunk: 7\n",
      "INFO:snowflake.connector.cursor:query: [SHOW DATABASES LIKE 'DASH_DB']\n",
      "INFO:snowflake.connector.cursor:query execution done\n",
      "INFO:snowflake.connector.cursor:Number of results in first chunk: 1\n",
      "INFO:snowflake.connector.cursor:query: [SHOW SCHEMAS LIKE 'DASH_SCHEMA' IN DATABASE DASH_DB]\n",
      "INFO:snowflake.connector.cursor:query execution done\n",
      "INFO:snowflake.connector.cursor:Number of results in first chunk: 1\n",
      "INFO:snowflake.connector.cursor:query: [SHOW TABLES LIKE '_SYSTEM_REGISTRY_MODELS' IN DASH_DB.DASH_SCHEMA]\n",
      "INFO:snowflake.connector.cursor:query execution done\n",
      "INFO:snowflake.connector.cursor:Number of results in first chunk: 1\n",
      "INFO:snowflake.connector.cursor:query: [SHOW TABLES LIKE '_SYSTEM_REGISTRY_METADATA' IN DASH_DB.DASH_SCHEMA]\n",
      "INFO:snowflake.connector.cursor:query execution done\n",
      "INFO:snowflake.connector.cursor:Number of results in first chunk: 1\n",
      "INFO:snowflake.connector.cursor:query: [SHOW TABLES LIKE '_SYSTEM_REGISTRY_DEPLOYMENTS' IN DASH_DB.DASH_SCHEMA]\n",
      "INFO:snowflake.connector.cursor:query execution done\n",
      "INFO:snowflake.connector.cursor:Number of results in first chunk: 1\n",
      "INFO:snowflake.connector.cursor:query: [SHOW TABLES LIKE '_SYSTEM_REGISTRY_SCHEMA_VERSION' IN DASH_DB.DASH_SCHEMA]\n",
      "INFO:snowflake.connector.cursor:query execution done\n",
      "INFO:snowflake.connector.cursor:Number of results in first chunk: 1\n",
      "INFO:snowflake.connector.cursor:query: [SELECT MAX(VERSION) AS MAX_VERSION FROM DASH_DB.DASH_SCHEMA._SYSTEM_REGISTRY_SCH...]\n",
      "INFO:snowflake.connector.cursor:query execution done\n",
      "INFO:snowflake.connector.cursor:Number of results in first chunk: 1\n",
      "INFO:snowflake.connector.cursor:query: [CREATE OR REPLACE TEMPORARY VIEW DASH_DB.DASH_SCHEMA._SYSTEM_REGISTRY_DEPLOYMENT...]\n",
      "INFO:snowflake.connector.cursor:query execution done\n",
      "INFO:snowflake.connector.cursor:Number of results in first chunk: 1\n",
      "INFO:snowflake.connector.cursor:query: [CREATE OR REPLACE TEMPORARY VIEW DASH_DB.DASH_SCHEMA._SYSTEM_REGISTRY_METADATA_L...]\n",
      "INFO:snowflake.connector.cursor:query execution done\n",
      "INFO:snowflake.connector.cursor:Number of results in first chunk: 1\n",
      "INFO:snowflake.connector.cursor:query: [CREATE OR REPLACE TEMPORARY VIEW DASH_DB.DASH_SCHEMA._SYSTEM_REGISTRY_METADATA_L...]\n",
      "INFO:snowflake.connector.cursor:query execution done\n",
      "INFO:snowflake.connector.cursor:Number of results in first chunk: 1\n",
      "INFO:snowflake.connector.cursor:query: [CREATE OR REPLACE TEMPORARY VIEW DASH_DB.DASH_SCHEMA._SYSTEM_REGISTRY_METADATA_L...]\n",
      "INFO:snowflake.connector.cursor:query execution done\n",
      "INFO:snowflake.connector.cursor:Number of results in first chunk: 1\n",
      "INFO:snowflake.connector.cursor:query: [CREATE OR REPLACE TEMPORARY VIEW DASH_DB.DASH_SCHEMA._SYSTEM_REGISTRY_METADATA_L...]\n",
      "INFO:snowflake.connector.cursor:query execution done\n",
      "INFO:snowflake.connector.cursor:Number of results in first chunk: 1\n",
      "INFO:snowflake.connector.cursor:query: [CREATE OR REPLACE TEMPORARY VIEW DASH_DB.DASH_SCHEMA._SYSTEM_REGISTRY_MODELS_VIE...]\n",
      "INFO:snowflake.connector.cursor:query execution done\n",
      "INFO:snowflake.connector.cursor:Number of results in first chunk: 1\n",
      "INFO:snowflake.connector.cursor:query: [CREATE OR REPLACE TEMPORARY VIEW DASH_DB.DASH_SCHEMA._SYSTEM_REGISTRY_ARTIFACTS_...]\n",
      "INFO:snowflake.connector.cursor:query execution done\n",
      "INFO:snowflake.connector.cursor:Number of results in first chunk: 1\n"
     ]
    }
   ],
   "source": [
    "MODEL_NAME = \"LLAMA2_7b_CHAT\"\n",
    "MODEL_VERSION = \"FineTunedV1.1\"\n",
    "DEPLOYMENT_NAME = \"FINETUNED_LLAMA2\"\n",
    "\n",
    "registry = model_registry.ModelRegistry(\n",
    "    session=session, \n",
    "    database_name=SNOWFLAKE_DATABASE, \n",
    "    schema_name=SNOWFLAKE_SCHEMA, \n",
    "    create_if_not_exists=True)"
   ]
  },
  {
   "cell_type": "code",
   "execution_count": 32,
   "metadata": {
    "tags": []
   },
   "outputs": [
    {
     "name": "stderr",
     "output_type": "stream",
     "text": [
      "INFO:snowflake.connector.cursor:query: [SELECT * FROM DASH_DB.DASH_SCHEMA._SYSTEM_REGISTRY_DEPLOYMENTS_VIEW]\n",
      "INFO:snowflake.connector.cursor:query execution done\n",
      "INFO:snowflake.connector.cursor:Number of results in first chunk: 0\n",
      "INFO:snowflake.connector.cursor:query: [SELECT \"MODEL_NAME\", \"MODEL_VERSION\", \"DEPLOYMENT_NAME\", \"CREATION_TIME\", \"TARGE...]\n",
      "INFO:snowflake.connector.cursor:query execution done\n",
      "INFO:snowflake.connector.cursor:Number of results in first chunk: 1\n"
     ]
    },
    {
     "data": {
      "text/html": [
       "<div>\n",
       "<style scoped>\n",
       "    .dataframe tbody tr th:only-of-type {\n",
       "        vertical-align: middle;\n",
       "    }\n",
       "\n",
       "    .dataframe tbody tr th {\n",
       "        vertical-align: top;\n",
       "    }\n",
       "\n",
       "    .dataframe thead th {\n",
       "        text-align: right;\n",
       "    }\n",
       "</style>\n",
       "<table border=\"1\" class=\"dataframe\">\n",
       "  <thead>\n",
       "    <tr style=\"text-align: right;\">\n",
       "      <th></th>\n",
       "      <th>MODEL_NAME</th>\n",
       "      <th>MODEL_VERSION</th>\n",
       "      <th>DEPLOYMENT_NAME</th>\n",
       "      <th>CREATION_TIME</th>\n",
       "      <th>TARGET_METHOD</th>\n",
       "      <th>TARGET_PLATFORM</th>\n",
       "      <th>SIGNATURE</th>\n",
       "      <th>OPTIONS</th>\n",
       "      <th>STAGE_PATH</th>\n",
       "      <th>ROLE</th>\n",
       "    </tr>\n",
       "  </thead>\n",
       "  <tbody>\n",
       "    <tr>\n",
       "      <th>0</th>\n",
       "      <td>LLAMA2_7b_CHAT</td>\n",
       "      <td>FineTunedV1.1</td>\n",
       "      <td>FINETUNED_LLAMA2</td>\n",
       "      <td>2024-03-29 11:36:59.478000-07:00</td>\n",
       "      <td>infer</td>\n",
       "      <td>SNOWPARK_CONTAINER_SERVICES</td>\n",
       "      <td>{\\n  \"inputs\": [\\n    {\\n      \"name\": \"input\",\\n      \"type\": \"STRING\"\\n    }\\n  ],\\n  \"outputs\": [\\n    {\\n      \"name\": \"generated_text\",\\n      \"type\": \"STRING\"\\n    }\\n  ]\\n}</td>\n",
       "      <td>{\\n  \"compute_pool\": \"DASH_GPU3\",\\n  \"external_access_integrations\": [\\n    \"ALLOW_ALL_ACCESS_INTEGRATION\"\\n  ],\\n  \"num_gpus\": 1\\n}</td>\n",
       "      <td>@DASH_DB.DASH_SCHEMA._SYSTEM_REGISTRY_DEPLOYMENTS_STAGE/FINETUNED_LLAMA2/</td>\n",
       "      <td>\"DASH_SPCS\"</td>\n",
       "    </tr>\n",
       "  </tbody>\n",
       "</table>\n",
       "</div>"
      ],
      "text/plain": [
       "       MODEL_NAME  MODEL_VERSION   DEPLOYMENT_NAME  \\\n",
       "0  LLAMA2_7b_CHAT  FineTunedV1.1  FINETUNED_LLAMA2   \n",
       "\n",
       "                     CREATION_TIME TARGET_METHOD              TARGET_PLATFORM  \\\n",
       "0 2024-03-29 11:36:59.478000-07:00         infer  SNOWPARK_CONTAINER_SERVICES   \n",
       "\n",
       "                                                                                                                                                                             SIGNATURE  \\\n",
       "0  {\\n  \"inputs\": [\\n    {\\n      \"name\": \"input\",\\n      \"type\": \"STRING\"\\n    }\\n  ],\\n  \"outputs\": [\\n    {\\n      \"name\": \"generated_text\",\\n      \"type\": \"STRING\"\\n    }\\n  ]\\n}   \n",
       "\n",
       "                                                                                                                                OPTIONS  \\\n",
       "0  {\\n  \"compute_pool\": \"DASH_GPU3\",\\n  \"external_access_integrations\": [\\n    \"ALLOW_ALL_ACCESS_INTEGRATION\"\\n  ],\\n  \"num_gpus\": 1\\n}   \n",
       "\n",
       "                                                                  STAGE_PATH  \\\n",
       "0  @DASH_DB.DASH_SCHEMA._SYSTEM_REGISTRY_DEPLOYMENTS_STAGE/FINETUNED_LLAMA2/   \n",
       "\n",
       "          ROLE  \n",
       "0  \"DASH_SPCS\"  "
      ]
     },
     "execution_count": 32,
     "metadata": {},
     "output_type": "execute_result"
    }
   ],
   "source": [
    "registry.list_deployments(model_name=MODEL_NAME,model_version=MODEL_VERSION).to_pandas()"
   ]
  },
  {
   "cell_type": "code",
   "execution_count": 33,
   "metadata": {
    "tags": []
   },
   "outputs": [],
   "source": [
    "# registry.delete_deployment(model_name=MODEL_NAME,model_version=MODEL_VERSION,deployment_name=DEPLOYMENT_NAME)"
   ]
  },
  {
   "cell_type": "code",
   "execution_count": 34,
   "metadata": {
    "tags": []
   },
   "outputs": [
    {
     "name": "stderr",
     "output_type": "stream",
     "text": [
      "INFO:snowflake.connector.cursor:query: [SELECT * FROM DASH_DB.DASH_SCHEMA._SYSTEM_REGISTRY_MODELS_VIEW]\n",
      "INFO:snowflake.connector.cursor:query execution done\n",
      "INFO:snowflake.connector.cursor:Number of results in first chunk: 7\n"
     ]
    },
    {
     "data": {
      "text/html": [
       "<div>\n",
       "<style scoped>\n",
       "    .dataframe tbody tr th:only-of-type {\n",
       "        vertical-align: middle;\n",
       "    }\n",
       "\n",
       "    .dataframe tbody tr th {\n",
       "        vertical-align: top;\n",
       "    }\n",
       "\n",
       "    .dataframe thead th {\n",
       "        text-align: right;\n",
       "    }\n",
       "</style>\n",
       "<table border=\"1\" class=\"dataframe\">\n",
       "  <thead>\n",
       "    <tr style=\"text-align: right;\">\n",
       "      <th></th>\n",
       "      <th>CREATION_CONTEXT</th>\n",
       "      <th>CREATION_ENVIRONMENT_SPEC</th>\n",
       "      <th>CREATION_ROLE</th>\n",
       "      <th>CREATION_TIME</th>\n",
       "      <th>ID</th>\n",
       "      <th>INPUT_SPEC</th>\n",
       "      <th>NAME</th>\n",
       "      <th>OUTPUT_SPEC</th>\n",
       "      <th>RUNTIME_ENVIRONMENT_SPEC</th>\n",
       "      <th>TYPE</th>\n",
       "      <th>URI</th>\n",
       "      <th>VERSION</th>\n",
       "      <th>ARTIFACT_IDS</th>\n",
       "      <th>DESCRIPTION</th>\n",
       "      <th>METRICS</th>\n",
       "      <th>TAGS</th>\n",
       "      <th>REGISTRATION_TIMESTAMP</th>\n",
       "    </tr>\n",
       "  </thead>\n",
       "  <tbody>\n",
       "    <tr>\n",
       "      <th>0</th>\n",
       "      <td>None</td>\n",
       "      <td>{\\n  \"python\": \"3.10.11\"\\n}</td>\n",
       "      <td>\"DASH_SPCS\"</td>\n",
       "      <td>2024-03-29 12:27:50.860000-07:00</td>\n",
       "      <td>6c48ffe2ee0211ee940dea79f9e088ed</td>\n",
       "      <td>None</td>\n",
       "      <td>LLAMA2_7b_CHAT</td>\n",
       "      <td>None</td>\n",
       "      <td>None</td>\n",
       "      <td>llm</td>\n",
       "      <td>sfc://DASH_DB.DASH_SCHEMA.SNOWML_MODEL_6C48FFE2EE0211EE940DEA79F9E088ED</td>\n",
       "      <td>BaseV1.1</td>\n",
       "      <td>None</td>\n",
       "      <td>None</td>\n",
       "      <td>None</td>\n",
       "      <td>None</td>\n",
       "      <td>2024-03-29 12:27:51.985000-07:00</td>\n",
       "    </tr>\n",
       "    <tr>\n",
       "      <th>1</th>\n",
       "      <td>None</td>\n",
       "      <td>{\\n  \"python\": \"3.8.16\"\\n}</td>\n",
       "      <td>\"DASH_SPCS\"</td>\n",
       "      <td>2023-11-15 11:04:42.250000-08:00</td>\n",
       "      <td>d26762d883e911ee8f5ace7db0e7935f</td>\n",
       "      <td>None</td>\n",
       "      <td>LLAMA2_7b_CHAT</td>\n",
       "      <td>None</td>\n",
       "      <td>None</td>\n",
       "      <td>llm</td>\n",
       "      <td>sfc://DASH_DB.DASH_SCHEMA.SNOWML_MODEL_D26762D883E911EE8F5ACE7DB0E7935F</td>\n",
       "      <td>BestTunedV1.0</td>\n",
       "      <td>None</td>\n",
       "      <td>None</td>\n",
       "      <td>None</td>\n",
       "      <td>None</td>\n",
       "      <td>2023-11-15 11:04:44.853000-08:00</td>\n",
       "    </tr>\n",
       "    <tr>\n",
       "      <th>2</th>\n",
       "      <td>None</td>\n",
       "      <td>{\\n  \"python\": \"3.9.18\"\\n}</td>\n",
       "      <td>\"DASH_SPCS\"</td>\n",
       "      <td>2023-11-14 16:49:14.883000-08:00</td>\n",
       "      <td>c6ca82aa835011eeac5d1204c7b8f46d</td>\n",
       "      <td>None</td>\n",
       "      <td>LLAMA2_7b_CHAT</td>\n",
       "      <td>None</td>\n",
       "      <td>None</td>\n",
       "      <td>llm</td>\n",
       "      <td>sfc://DASH_DB.DASH_SCHEMA.SNOWML_MODEL_C6CA82AA835011EEAC5D1204C7B8F46D</td>\n",
       "      <td>BaseV2.0</td>\n",
       "      <td>None</td>\n",
       "      <td>None</td>\n",
       "      <td>None</td>\n",
       "      <td>None</td>\n",
       "      <td>2023-11-14 16:49:16.186000-08:00</td>\n",
       "    </tr>\n",
       "    <tr>\n",
       "      <th>3</th>\n",
       "      <td>None</td>\n",
       "      <td>{\\n  \"python\": \"3.10.13\"\\n}</td>\n",
       "      <td>\"DASH_SPCS\"</td>\n",
       "      <td>2023-11-14 15:29:38.425000-08:00</td>\n",
       "      <td>a9b776ce834511ee9c921204c7b8f46d</td>\n",
       "      <td>None</td>\n",
       "      <td>LLAMA2_7b_CHAT</td>\n",
       "      <td>None</td>\n",
       "      <td>None</td>\n",
       "      <td>llm</td>\n",
       "      <td>sfc://DASH_DB.DASH_SCHEMA.SNOWML_MODEL_A9B776CE834511EE9C921204C7B8F46D</td>\n",
       "      <td>BaseV1.0</td>\n",
       "      <td>None</td>\n",
       "      <td>None</td>\n",
       "      <td>None</td>\n",
       "      <td>None</td>\n",
       "      <td>2023-11-14 15:29:39.837000-08:00</td>\n",
       "    </tr>\n",
       "    <tr>\n",
       "      <th>4</th>\n",
       "      <td>None</td>\n",
       "      <td>{\\n  \"python\": \"3.9.18\"\\n}</td>\n",
       "      <td>\"DASH_SPCS\"</td>\n",
       "      <td>2023-11-16 09:23:06.204000-08:00</td>\n",
       "      <td>c70d0bf284a411eebb681204c7b8f46d</td>\n",
       "      <td>None</td>\n",
       "      <td>LLAMA2_7b_CHAT</td>\n",
       "      <td>None</td>\n",
       "      <td>None</td>\n",
       "      <td>llm</td>\n",
       "      <td>sfc://DASH_DB.DASH_SCHEMA.SNOWML_MODEL_C70D0BF284A411EEBB681204C7B8F46D</td>\n",
       "      <td>NewBaseV1.0</td>\n",
       "      <td>None</td>\n",
       "      <td>None</td>\n",
       "      <td>None</td>\n",
       "      <td>None</td>\n",
       "      <td>2023-11-16 09:23:07.145000-08:00</td>\n",
       "    </tr>\n",
       "    <tr>\n",
       "      <th>5</th>\n",
       "      <td>None</td>\n",
       "      <td>{\\n  \"python\": \"3.9.18\"\\n}</td>\n",
       "      <td>\"DASH_SPCS\"</td>\n",
       "      <td>2023-11-27 06:38:13.856000-08:00</td>\n",
       "      <td>934a1d828d3211ee9d301204c7b8f46e</td>\n",
       "      <td>None</td>\n",
       "      <td>LLAMA2_7b_CHAT</td>\n",
       "      <td>None</td>\n",
       "      <td>None</td>\n",
       "      <td>llm</td>\n",
       "      <td>sfc://DASH_DB.DASH_SCHEMA.SNOWML_MODEL_934A1D828D3211EE9D301204C7B8F46E</td>\n",
       "      <td>NewBaseV2.0</td>\n",
       "      <td>None</td>\n",
       "      <td>None</td>\n",
       "      <td>None</td>\n",
       "      <td>None</td>\n",
       "      <td>2023-11-27 06:38:15.860000-08:00</td>\n",
       "    </tr>\n",
       "    <tr>\n",
       "      <th>6</th>\n",
       "      <td>None</td>\n",
       "      <td>{\\n  \"python\": \"3.10.11\"\\n}</td>\n",
       "      <td>\"DASH_SPCS\"</td>\n",
       "      <td>2024-03-29 11:32:46.792000-07:00</td>\n",
       "      <td>bc1011e4edfa11ee95890a5d91196949</td>\n",
       "      <td>None</td>\n",
       "      <td>LLAMA2_7b_CHAT</td>\n",
       "      <td>None</td>\n",
       "      <td>None</td>\n",
       "      <td>llm</td>\n",
       "      <td>sfc://DASH_DB.DASH_SCHEMA.SNOWML_MODEL_BC1011E4EDFA11EE95890A5D91196949</td>\n",
       "      <td>FineTunedV1.1</td>\n",
       "      <td>None</td>\n",
       "      <td>None</td>\n",
       "      <td>None</td>\n",
       "      <td>None</td>\n",
       "      <td>2024-03-29 11:32:48.006000-07:00</td>\n",
       "    </tr>\n",
       "  </tbody>\n",
       "</table>\n",
       "</div>"
      ],
      "text/plain": [
       "  CREATION_CONTEXT    CREATION_ENVIRONMENT_SPEC CREATION_ROLE  \\\n",
       "0             None  {\\n  \"python\": \"3.10.11\"\\n}   \"DASH_SPCS\"   \n",
       "1             None   {\\n  \"python\": \"3.8.16\"\\n}   \"DASH_SPCS\"   \n",
       "2             None   {\\n  \"python\": \"3.9.18\"\\n}   \"DASH_SPCS\"   \n",
       "3             None  {\\n  \"python\": \"3.10.13\"\\n}   \"DASH_SPCS\"   \n",
       "4             None   {\\n  \"python\": \"3.9.18\"\\n}   \"DASH_SPCS\"   \n",
       "5             None   {\\n  \"python\": \"3.9.18\"\\n}   \"DASH_SPCS\"   \n",
       "6             None  {\\n  \"python\": \"3.10.11\"\\n}   \"DASH_SPCS\"   \n",
       "\n",
       "                     CREATION_TIME                                ID  \\\n",
       "0 2024-03-29 12:27:50.860000-07:00  6c48ffe2ee0211ee940dea79f9e088ed   \n",
       "1 2023-11-15 11:04:42.250000-08:00  d26762d883e911ee8f5ace7db0e7935f   \n",
       "2 2023-11-14 16:49:14.883000-08:00  c6ca82aa835011eeac5d1204c7b8f46d   \n",
       "3 2023-11-14 15:29:38.425000-08:00  a9b776ce834511ee9c921204c7b8f46d   \n",
       "4 2023-11-16 09:23:06.204000-08:00  c70d0bf284a411eebb681204c7b8f46d   \n",
       "5 2023-11-27 06:38:13.856000-08:00  934a1d828d3211ee9d301204c7b8f46e   \n",
       "6 2024-03-29 11:32:46.792000-07:00  bc1011e4edfa11ee95890a5d91196949   \n",
       "\n",
       "  INPUT_SPEC            NAME OUTPUT_SPEC RUNTIME_ENVIRONMENT_SPEC TYPE  \\\n",
       "0       None  LLAMA2_7b_CHAT        None                     None  llm   \n",
       "1       None  LLAMA2_7b_CHAT        None                     None  llm   \n",
       "2       None  LLAMA2_7b_CHAT        None                     None  llm   \n",
       "3       None  LLAMA2_7b_CHAT        None                     None  llm   \n",
       "4       None  LLAMA2_7b_CHAT        None                     None  llm   \n",
       "5       None  LLAMA2_7b_CHAT        None                     None  llm   \n",
       "6       None  LLAMA2_7b_CHAT        None                     None  llm   \n",
       "\n",
       "                                                                       URI  \\\n",
       "0  sfc://DASH_DB.DASH_SCHEMA.SNOWML_MODEL_6C48FFE2EE0211EE940DEA79F9E088ED   \n",
       "1  sfc://DASH_DB.DASH_SCHEMA.SNOWML_MODEL_D26762D883E911EE8F5ACE7DB0E7935F   \n",
       "2  sfc://DASH_DB.DASH_SCHEMA.SNOWML_MODEL_C6CA82AA835011EEAC5D1204C7B8F46D   \n",
       "3  sfc://DASH_DB.DASH_SCHEMA.SNOWML_MODEL_A9B776CE834511EE9C921204C7B8F46D   \n",
       "4  sfc://DASH_DB.DASH_SCHEMA.SNOWML_MODEL_C70D0BF284A411EEBB681204C7B8F46D   \n",
       "5  sfc://DASH_DB.DASH_SCHEMA.SNOWML_MODEL_934A1D828D3211EE9D301204C7B8F46E   \n",
       "6  sfc://DASH_DB.DASH_SCHEMA.SNOWML_MODEL_BC1011E4EDFA11EE95890A5D91196949   \n",
       "\n",
       "         VERSION ARTIFACT_IDS DESCRIPTION METRICS  TAGS  \\\n",
       "0       BaseV1.1         None        None    None  None   \n",
       "1  BestTunedV1.0         None        None    None  None   \n",
       "2       BaseV2.0         None        None    None  None   \n",
       "3       BaseV1.0         None        None    None  None   \n",
       "4    NewBaseV1.0         None        None    None  None   \n",
       "5    NewBaseV2.0         None        None    None  None   \n",
       "6  FineTunedV1.1         None        None    None  None   \n",
       "\n",
       "            REGISTRATION_TIMESTAMP  \n",
       "0 2024-03-29 12:27:51.985000-07:00  \n",
       "1 2023-11-15 11:04:44.853000-08:00  \n",
       "2 2023-11-14 16:49:16.186000-08:00  \n",
       "3 2023-11-14 15:29:39.837000-08:00  \n",
       "4 2023-11-16 09:23:07.145000-08:00  \n",
       "5 2023-11-27 06:38:15.860000-08:00  \n",
       "6 2024-03-29 11:32:48.006000-07:00  "
      ]
     },
     "execution_count": 34,
     "metadata": {},
     "output_type": "execute_result"
    }
   ],
   "source": [
    "registry.list_models().to_pandas()"
   ]
  },
  {
   "cell_type": "code",
   "execution_count": 35,
   "metadata": {
    "tags": []
   },
   "outputs": [
    {
     "name": "stderr",
     "output_type": "stream",
     "text": [
      "INFO:snowflake.connector.cursor:query: [SELECT * FROM DASH_DB.DASH_SCHEMA._SYSTEM_REGISTRY_MODELS_VIEW]\n",
      "INFO:snowflake.connector.cursor:query execution done\n",
      "INFO:snowflake.connector.cursor:Number of results in first chunk: 0\n",
      "INFO:snowflake.connector.cursor:query: [SELECT  *  FROM (SELECT * FROM DASH_DB.DASH_SCHEMA._SYSTEM_REGISTRY_MODELS_VIEW)...]\n",
      "INFO:snowflake.connector.cursor:query execution done\n",
      "INFO:snowflake.connector.cursor:Number of results in first chunk: 1\n",
      "INFO:snowflake.connector.cursor:query: [DELETE FROM DASH_DB.DASH_SCHEMA._SYSTEM_REGISTRY_MODELS WHERE ID='bc1011e4edfa11...]\n",
      "INFO:snowflake.connector.cursor:query execution done\n",
      "INFO:snowflake.connector.cursor:query: [DROP STAGE DASH_DB.DASH_SCHEMA.SNOWML_MODEL_BC1011E4EDFA11EE95890A5D91196949]\n",
      "INFO:snowflake.connector.cursor:query execution done\n",
      "INFO:snowflake.connector.cursor:Number of results in first chunk: 1\n",
      "INFO:snowflake.connector.cursor:query: [SELECT * FROM DASH_DB.DASH_SCHEMA._SYSTEM_REGISTRY_MODELS_VIEW]\n",
      "INFO:snowflake.connector.cursor:query execution done\n",
      "INFO:snowflake.connector.cursor:Number of results in first chunk: 0\n",
      "INFO:snowflake.connector.cursor:query: [SELECT  *  FROM (SELECT * FROM DASH_DB.DASH_SCHEMA._SYSTEM_REGISTRY_MODELS_VIEW)...]\n",
      "INFO:snowflake.connector.cursor:query execution done\n",
      "INFO:snowflake.connector.cursor:Number of results in first chunk: 0\n",
      "INFO:snowflake.connector.cursor:query: [INSERT INTO DASH_DB.DASH_SCHEMA._SYSTEM_REGISTRY_METADATA ( ATTRIBUTE_NAME,EVENT...]\n",
      "INFO:snowflake.connector.cursor:query execution done\n"
     ]
    }
   ],
   "source": [
    "registry.delete_model(model_name=MODEL_NAME,model_version='FineTunedV1.1',delete_artifact=True)"
   ]
  },
  {
   "cell_type": "markdown",
   "metadata": {},
   "source": [
    "#### Reference Llama 2 from Fine-tuning"
   ]
  },
  {
   "cell_type": "code",
   "execution_count": 36,
   "metadata": {
    "tags": []
   },
   "outputs": [],
   "source": [
    "# Referencing our fine-tuned weights and using the Hugging Face token to merge them with base Llama 2 model\n",
    "\n",
    "options = llm.LLMOptions(\n",
    "    token=HUGGING_FACE_TOKEN,\n",
    "    max_batch_size=100,\n",
    ")\n",
    "\n",
    "llama_model = llm.LLM(\n",
    "    model_id_or_path='output_weights_dir',\n",
    "    options=options\n",
    ")"
   ]
  },
  {
   "cell_type": "markdown",
   "metadata": {},
   "source": [
    "#### Log and Deploy fine-tuned Llama 2 model using Model Registry\n",
    "\n",
    "Logging and deploying fine-tuned model with our setup may take ~15mins."
   ]
  },
  {
   "cell_type": "code",
   "execution_count": 37,
   "metadata": {
    "tags": []
   },
   "outputs": [
    {
     "name": "stderr",
     "output_type": "stream",
     "text": [
      "INFO:snowflake.connector.cursor:query: [SHOW TABLES LIKE '_SYSTEM_REGISTRY_SCHEMA_VERSION' IN DASH_DB.DASH_SCHEMA]\n",
      "INFO:snowflake.connector.cursor:query execution done\n",
      "INFO:snowflake.connector.cursor:Number of results in first chunk: 1\n",
      "INFO:snowflake.connector.cursor:query: [SELECT MAX(VERSION) AS MAX_VERSION FROM DASH_DB.DASH_SCHEMA._SYSTEM_REGISTRY_SCH...]\n",
      "INFO:snowflake.connector.cursor:query execution done\n",
      "INFO:snowflake.connector.cursor:Number of results in first chunk: 1\n",
      "INFO:snowflake.connector.cursor:query: [SELECT * FROM DASH_DB.DASH_SCHEMA._SYSTEM_REGISTRY_MODELS_VIEW]\n",
      "INFO:snowflake.connector.cursor:query execution done\n",
      "INFO:snowflake.connector.cursor:Number of results in first chunk: 0\n",
      "INFO:snowflake.connector.cursor:query: [SELECT count(1) AS \"COUNT(LITERAL())\" FROM ( SELECT  *  FROM (SELECT * FROM DASH...]\n",
      "INFO:snowflake.connector.cursor:query execution done\n",
      "INFO:snowflake.connector.cursor:Number of results in first chunk: 1\n",
      "INFO:snowflake.connector.cursor:query: [CREATE OR REPLACE STAGE DASH_DB.DASH_SCHEMA.SNOWML_MODEL_BFD7839EEE0811EE940DEA7...]\n",
      "INFO:snowflake.connector.cursor:query execution done\n",
      "INFO:snowflake.connector.cursor:Number of results in first chunk: 1\n",
      "INFO:absl:Model signatures are auto inferred as:\n",
      "\n",
      "{'infer': ModelSignature(\n",
      "                    inputs=[\n",
      "                        FeatureSpec(dtype=DataType.STRING, name='input')\n",
      "                    ],\n",
      "                    outputs=[\n",
      "                        FeatureSpec(dtype=DataType.STRING, name='generated_text')\n",
      "                    ]\n",
      "                )}\n",
      "INFO:snowflake.connector.cursor:query: [PUT 'file:///tmp/tmpuaz_8a2w/model.zip' '@DASH_DB.DASH_SCHEMA.SNOWML_MODEL_BFD78...]\n",
      "INFO:snowflake.connector.cursor:query execution done\n",
      "INFO:snowflake.connector.cursor:query: [PUT 'file:///tmp/tmpuaz_8a2w/MANIFEST.yml' '@DASH_DB.DASH_SCHEMA.SNOWML_MODEL_BF...]\n",
      "INFO:snowflake.connector.cursor:query execution done\n",
      "INFO:snowflake.connector.cursor:query: [PUT 'file:///tmp/tmpuaz_8a2w/runtimes/python_runtime/env/conda.yml' '@DASH_DB.DA...]\n",
      "INFO:snowflake.connector.cursor:query execution done\n",
      "INFO:snowflake.connector.cursor:query: [PUT 'file:///tmp/tmpuaz_8a2w/runtimes/python_runtime/env/requirements.txt' '@DAS...]\n",
      "INFO:snowflake.connector.cursor:query execution done\n",
      "INFO:snowflake.connector.cursor:query: [PUT 'file:///tmp/tmpuaz_8a2w/functions/infer.py' '@DASH_DB.DASH_SCHEMA.SNOWML_MO...]\n",
      "INFO:snowflake.connector.cursor:query execution done\n",
      "INFO:snowflake.connector.cursor:query: [SELECT * FROM DASH_DB.DASH_SCHEMA._SYSTEM_REGISTRY_MODELS_VIEW]\n",
      "INFO:snowflake.connector.cursor:query execution done\n",
      "INFO:snowflake.connector.cursor:Number of results in first chunk: 0\n",
      "INFO:snowflake.connector.cursor:query: [SELECT count(1) AS \"COUNT(LITERAL())\" FROM ( SELECT  *  FROM (SELECT * FROM DASH...]\n",
      "INFO:snowflake.connector.cursor:query execution done\n",
      "INFO:snowflake.connector.cursor:Number of results in first chunk: 1\n",
      "INFO:snowflake.connector.cursor:query: [INSERT INTO DASH_DB.DASH_SCHEMA._SYSTEM_REGISTRY_MODELS ( CREATION_ENVIRONMENT_S...]\n",
      "INFO:snowflake.connector.cursor:query execution done\n",
      "INFO:snowflake.connector.cursor:query: [SELECT * FROM DASH_DB.DASH_SCHEMA._SYSTEM_REGISTRY_MODELS_VIEW]\n",
      "INFO:snowflake.connector.cursor:query execution done\n",
      "INFO:snowflake.connector.cursor:Number of results in first chunk: 0\n",
      "INFO:snowflake.connector.cursor:query: [SELECT  *  FROM (SELECT * FROM DASH_DB.DASH_SCHEMA._SYSTEM_REGISTRY_MODELS_VIEW)...]\n",
      "INFO:snowflake.connector.cursor:query execution done\n",
      "INFO:snowflake.connector.cursor:Number of results in first chunk: 1\n",
      "INFO:snowflake.connector.cursor:query: [INSERT INTO DASH_DB.DASH_SCHEMA._SYSTEM_REGISTRY_METADATA ( ATTRIBUTE_NAME,EVENT...]\n",
      "INFO:snowflake.connector.cursor:query execution done\n",
      "INFO:snowflake.connector.cursor:query: [SELECT * FROM DASH_DB.DASH_SCHEMA._SYSTEM_REGISTRY_MODELS_VIEW]\n",
      "INFO:snowflake.connector.cursor:query execution done\n",
      "INFO:snowflake.connector.cursor:Number of results in first chunk: 0\n",
      "INFO:snowflake.connector.cursor:query: [SELECT  *  FROM (SELECT * FROM DASH_DB.DASH_SCHEMA._SYSTEM_REGISTRY_MODELS_VIEW)...]\n",
      "INFO:snowflake.connector.cursor:query execution done\n",
      "INFO:snowflake.connector.cursor:Number of results in first chunk: 1\n",
      "INFO:snowflake.connector.cursor:query: [SHOW TABLES LIKE '_SYSTEM_REGISTRY_SCHEMA_VERSION' IN DASH_DB.DASH_SCHEMA]\n",
      "INFO:snowflake.connector.cursor:query execution done\n",
      "INFO:snowflake.connector.cursor:Number of results in first chunk: 1\n",
      "INFO:snowflake.connector.cursor:query: [SELECT MAX(VERSION) AS MAX_VERSION FROM DASH_DB.DASH_SCHEMA._SYSTEM_REGISTRY_SCH...]\n",
      "INFO:snowflake.connector.cursor:query execution done\n",
      "INFO:snowflake.connector.cursor:Number of results in first chunk: 1\n",
      "INFO:snowflake.connector.cursor:query: [CREATE STAGE IF NOT EXISTS DASH_DB.DASH_SCHEMA._SYSTEM_REGISTRY_DEPLOYMENTS_STAG...]\n",
      "INFO:snowflake.connector.cursor:query execution done\n",
      "INFO:snowflake.connector.cursor:Number of results in first chunk: 1\n",
      "INFO:snowflake.connector.cursor:query: [SELECT * FROM DASH_DB.DASH_SCHEMA._SYSTEM_REGISTRY_MODELS_VIEW]\n",
      "INFO:snowflake.connector.cursor:query execution done\n",
      "INFO:snowflake.connector.cursor:Number of results in first chunk: 0\n",
      "INFO:snowflake.connector.cursor:query: [SELECT  *  FROM (SELECT * FROM DASH_DB.DASH_SCHEMA._SYSTEM_REGISTRY_MODELS_VIEW)...]\n",
      "INFO:snowflake.connector.cursor:query execution done\n",
      "INFO:snowflake.connector.cursor:Number of results in first chunk: 1\n",
      "INFO:snowflake.connector.cursor:query: [LIST @DASH_DB.DASH_SCHEMA.SNOWML_MODEL_BFD7839EEE0811EE940DEA79F9E088ED]\n",
      "INFO:snowflake.connector.cursor:query execution done\n",
      "INFO:snowflake.connector.cursor:Number of results in first chunk: 5\n",
      "INFO:snowflake.connector.cursor:query: [SELECT * FROM DASH_DB.DASH_SCHEMA._SYSTEM_REGISTRY_MODELS_VIEW]\n",
      "INFO:snowflake.connector.cursor:query execution done\n",
      "INFO:snowflake.connector.cursor:Number of results in first chunk: 0\n",
      "INFO:snowflake.connector.cursor:query: [SELECT  *  FROM (SELECT * FROM DASH_DB.DASH_SCHEMA._SYSTEM_REGISTRY_MODELS_VIEW)...]\n",
      "INFO:snowflake.connector.cursor:query execution done\n",
      "INFO:snowflake.connector.cursor:Number of results in first chunk: 1\n",
      "INFO:snowflake.connector.cursor:query: [ls @DASH_DB.DASH_SCHEMA.SNOWML_MODEL_BFD7839EEE0811EE940DEA79F9E088ED]\n",
      "INFO:snowflake.connector.cursor:query execution done\n",
      "INFO:snowflake.connector.cursor:Number of results in first chunk: 5\n",
      "INFO:snowflake.connector.cursor:query: [GET '@DASH_DB.DASH_SCHEMA.SNOWML_MODEL_BFD7839EEE0811EE940DEA79F9E088ED/MANIFEST...]\n",
      "INFO:snowflake.connector.cursor:query execution done\n",
      "INFO:snowflake.connector.cursor:query: [GET '@DASH_DB.DASH_SCHEMA.SNOWML_MODEL_BFD7839EEE0811EE940DEA79F9E088ED/function...]\n",
      "INFO:snowflake.connector.cursor:query execution done\n",
      "INFO:snowflake.connector.cursor:query: [GET '@DASH_DB.DASH_SCHEMA.SNOWML_MODEL_BFD7839EEE0811EE940DEA79F9E088ED/model.zi...]\n",
      "INFO:snowflake.connector.cursor:query execution done\n",
      "INFO:snowflake.connector.cursor:query: [GET '@DASH_DB.DASH_SCHEMA.SNOWML_MODEL_BFD7839EEE0811EE940DEA79F9E088ED/runtimes...]\n",
      "INFO:snowflake.connector.cursor:query execution done\n",
      "INFO:snowflake.connector.cursor:query: [GET '@DASH_DB.DASH_SCHEMA.SNOWML_MODEL_BFD7839EEE0811EE940DEA79F9E088ED/runtimes...]\n",
      "INFO:snowflake.connector.cursor:query execution done\n",
      "/opt/conda/envs/rapids/lib/python3.10/site-packages/snowflake/ml/model/_packager/model_env/model_env.py:335: UserWarning: Found dependencies specified as pip requirements. This may prevent model deploying to Snowflake Warehouse.\n",
      "  warnings.warn(\n",
      "INFO:snowflake.connector.cursor:query: [SHOW PARAMETERS LIKE 'PYTHON_CONNECTOR_QUERY_RESULT_FORMAT' IN SESSION]\n",
      "INFO:snowflake.connector.cursor:query execution done\n",
      "INFO:snowflake.connector.cursor:Number of results in first chunk: 1\n",
      "INFO:snowflake.connector.cursor:query: [INSERT INTO DASH_DB.DASH_SCHEMA._SYSTEM_REGISTRY_DEPLOYMENTS ( CREATION_TIME,DEP...]\n",
      "INFO:snowflake.connector.cursor:query execution done\n",
      "INFO:snowflake.connector.cursor:query: [SELECT * FROM DASH_DB.DASH_SCHEMA._SYSTEM_REGISTRY_MODELS_VIEW]\n",
      "INFO:snowflake.connector.cursor:query execution done\n",
      "INFO:snowflake.connector.cursor:Number of results in first chunk: 0\n",
      "INFO:snowflake.connector.cursor:query: [SELECT  *  FROM (SELECT * FROM DASH_DB.DASH_SCHEMA._SYSTEM_REGISTRY_MODELS_VIEW)...]\n",
      "INFO:snowflake.connector.cursor:query execution done\n",
      "INFO:snowflake.connector.cursor:Number of results in first chunk: 1\n",
      "INFO:snowflake.connector.cursor:query: [INSERT INTO DASH_DB.DASH_SCHEMA._SYSTEM_REGISTRY_METADATA ( ATTRIBUTE_NAME,EVENT...]\n",
      "INFO:snowflake.connector.cursor:query execution done\n"
     ]
    },
    {
     "name": "stdout",
     "output_type": "stream",
     "text": [
      "CPU times: user 1.84 s, sys: 0 ns, total: 1.84 s\n",
      "Wall time: 10min 35s\n"
     ]
    },
    {
     "data": {
      "text/plain": [
       "{'name': 'DASH_DB.DASH_SCHEMA.FINETUNED_LLAMA2',\n",
       " 'platform': <TargetPlatform.SNOWPARK_CONTAINER_SERVICES: 'SNOWPARK_CONTAINER_SERVICES'>,\n",
       " 'target_method': 'infer',\n",
       " 'signature': ModelSignature(\n",
       "                     inputs=[\n",
       "                         FeatureSpec(dtype=DataType.STRING, name='input')\n",
       "                     ],\n",
       "                     outputs=[\n",
       "                         FeatureSpec(dtype=DataType.STRING, name='generated_text')\n",
       "                     ]\n",
       "                 ),\n",
       " 'options': {'compute_pool': 'DASH_GPU3',\n",
       "  'num_gpus': 1,\n",
       "  'external_access_integrations': ['ALLOW_ALL_ACCESS_INTEGRATION']},\n",
       " 'details': {'service_info': {'name': 'SERVICE_BFD7839EEE0811EE940DEA79F9E088ED',\n",
       "   'database_name': 'DASH_DB',\n",
       "   'schema_name': 'DASH_SCHEMA',\n",
       "   'owner': 'DASH_SPCS',\n",
       "   'compute_pool': 'DASH_GPU3',\n",
       "   'spec': '---\\nspec:\\n  containers:\\n  - name: \"inference-server\"\\n    image: \"sfsenorthamerica-build-spcs.registry.snowflakecomputing.com/dash_db/dash_schema/snowml_repo/88f08c87a9c3d01c822fc6c4dd40b1d2c1224089:latest\"\\n    sha256: \"@sha256:02c1028adf3f092f1fe3ebaf179bc44890c0db746ea988cc867aa400ca5bc457\"\\n    env:\\n      MODEL_ZIP_STAGE_PATH: \"/DASH_DB.DASH_SCHEMA.SNOWML_MODEL_BFD7839EEE0811EE940DEA79F9E088ED/model.zip\"\\n      NUM_WORKERS: \"1\"\\n      SNOWML_USE_GPU: \"true\"\\n      TARGET_METHOD: \"infer\"\\n      _CONCURRENT_REQUESTS_MAX: \"1\"\\n    readinessProbe:\\n      port: 5000\\n      path: \"/health\"\\n    resources:\\n      limits:\\n        nvidia.com/gpu: \"1\"\\n      requests:\\n        nvidia.com/gpu: \"1\"\\n    volumeMounts:\\n    - name: \"vol1\"\\n      mountPath: \"/local/user/vol1\"\\n    - name: \"stage\"\\n      mountPath: \"DASH_DB.DASH_SCHEMA.SNOWML_MODEL_BFD7839EEE0811EE940DEA79F9E088ED\"\\n  volumes:\\n  - name: \"vol1\"\\n    source: \"local\"\\n  - name: \"stage\"\\n    source: \"@DASH_DB.DASH_SCHEMA.SNOWML_MODEL_BFD7839EEE0811EE940DEA79F9E088ED\"\\n    uid: 1000\\n    gid: 1000\\n  endpoints:\\n  - name: \"predict\"\\n    port: 5000\\n    public: false\\n',\n",
       "   'dns_name': 'service-bfd7839eee0811ee940dea79f9e088ed.dash-schema.dash-db.snowflakecomputing.internal',\n",
       "   'min_instances': 1,\n",
       "   'max_instances': 1,\n",
       "   'auto_resume': 'true',\n",
       "   'external_access_integrations': '[\"ALLOW_ALL_ACCESS_INTEGRATION\"]',\n",
       "   'created_on': datetime.datetime(2024, 3, 29, 13, 13, 10, 852000, tzinfo=<DstTzInfo 'America/Los_Angeles' PDT-1 day, 17:00:00 DST>),\n",
       "   'updated_on': datetime.datetime(2024, 3, 29, 13, 13, 11, 891000, tzinfo=<DstTzInfo 'America/Los_Angeles' PDT-1 day, 17:00:00 DST>),\n",
       "   'resumed_on': None,\n",
       "   'comment': None,\n",
       "   'owner_role_type': 'ROLE',\n",
       "   'query_warehouse': None,\n",
       "   'is_job': 'false'},\n",
       "  'service_function_sql': \"\\nCREATE OR REPLACE FUNCTION DASH_DB.DASH_SCHEMA.FINETUNED_LLAMA2(input OBJECT)\\n    RETURNS OBJECT\\n    SERVICE=DASH_DB.DASH_SCHEMA.service_bfd7839eee0811ee940dea79f9e088ed\\n    ENDPOINT=predict\\n    MAX_BATCH_ROWS = 100\\n    AS '/predict'\\n\"}}"
      ]
     },
     "execution_count": 37,
     "metadata": {},
     "output_type": "execute_result"
    }
   ],
   "source": [
    "%%time\n",
    "# log model in registry\n",
    "llama_model_ref = registry.log_model(\n",
    "    model_name=MODEL_NAME,\n",
    "    model_version=MODEL_VERSION,\n",
    "    model=llama_model,\n",
    "    conda_dependencies=['sentencepiece']\n",
    ")\n",
    "\n",
    "# deploy model\n",
    "llama_model_ref.deploy(\n",
    "    deployment_name=DEPLOYMENT_NAME, \n",
    "    platform=deploy_platforms.TargetPlatform.SNOWPARK_CONTAINER_SERVICES,\n",
    "    permanent=True, \n",
    "    options={\"compute_pool\": SNOWFLAKE_COMPUTE_POOL, \"num_gpus\": 1, \"external_access_integrations\": [\"ALLOW_ALL_ACCESS_INTEGRATION\"]})"
   ]
  },
  {
   "cell_type": "markdown",
   "metadata": {},
   "source": [
    "Alternatively, if the model is already deployed, you may reference it using Model Registry"
   ]
  },
  {
   "cell_type": "code",
   "execution_count": 38,
   "metadata": {
    "tags": []
   },
   "outputs": [],
   "source": [
    "# llama_model_ref = model_registry.ModelReference(\n",
    "#     registry=registry, \n",
    "#     model_name=MODEL_NAME, \n",
    "#     model_version=MODEL_VERSION)"
   ]
  },
  {
   "cell_type": "markdown",
   "metadata": {},
   "source": [
    "### Inference on Eval Dataset using fine-tuned Llama 2"
   ]
  },
  {
   "cell_type": "code",
   "execution_count": 39,
   "metadata": {
    "tags": []
   },
   "outputs": [
    {
     "data": {
      "text/html": [
       "<div>\n",
       "<style scoped>\n",
       "    .dataframe tbody tr th:only-of-type {\n",
       "        vertical-align: middle;\n",
       "    }\n",
       "\n",
       "    .dataframe tbody tr th {\n",
       "        vertical-align: top;\n",
       "    }\n",
       "\n",
       "    .dataframe thead th {\n",
       "        text-align: right;\n",
       "    }\n",
       "</style>\n",
       "<table border=\"1\" class=\"dataframe\">\n",
       "  <thead>\n",
       "    <tr style=\"text-align: right;\">\n",
       "      <th></th>\n",
       "      <th>instruction</th>\n",
       "      <th>input</th>\n",
       "      <th>output</th>\n",
       "      <th>language</th>\n",
       "      <th>id</th>\n",
       "      <th>lang_label</th>\n",
       "    </tr>\n",
       "  </thead>\n",
       "  <tbody>\n",
       "    <tr>\n",
       "      <th>0</th>\n",
       "      <td>Extract JSON response with 'location' and 'toy_list' as keys. 'location': Location of the caller. Include city only.'toy_list': List of toy names from the caller.</td>\n",
       "      <td>\\n[INST] &lt;&lt;SYS&gt;&gt;\\nBelow is an instruction that describes a task, paired with an input that provides further context. Write a response that appropriately completes the request.\\n&lt;&lt;/SYS&gt;&gt;\\n### Instruction:\\nExtract JSON response with 'location' and 'toy_list' as keys. 'location': Location of the caller. Include city only.'toy_list': List of toy names from the caller.\\n### Input:\\n\"caller: Hi there! \\nfrosty: Hello! Welcome to our Holiday Wish List line! How can I help you today? \\ncaller: My name is Sarah and I'm calling from London. I wanted to submit a wish list for my child. \\nfrosty: Wonderful, Sarah! It's great to have you on the line. What country do you live in? \\ncaller: I live in the United Kingdom. \\nfrosty: That's fantastic! What's on your wish list? \\ncaller: I think my child would like the transformers bumblebee. \\nfrosty: Great choice! Why are you interested in this toy? \\ncaller: My child loves action figures and Transformers. I think he'll have a lot of fun with this one. \\nfrosty: That sounds perfect! How do you and your family plan to celebrate the holiday season? \\ncaller: We usually have a big family gathering at our house with lots of food and games. \\nfrosty: That sounds lovely! Do you have a favorite holiday memory or pastime? \\ncaller: My favorite memory is baking holiday cookies with my mom when I was a child. \\nfrosty: That's a beautiful memory! So, just to confirm, you would like to add the Transformers Rise of the Beasts Beast-Mode Bumblebee to your wish list? \\ncaller: Yes, that's correct! \\nfrosty: Excellent! Thank you, Sarah, and I hope you and your family have a wonderful holiday season! \\ncaller: Thank you! Have a great day! \\nfrosty: You too! Goodbye!\"\\n### Output:\\n</td>\n",
       "      <td>{\"toy_list\": [\"Transformers Rise of the Beasts Beast-Mode Bumblebee\"], \"location\": \"London\"}</td>\n",
       "      <td>EN</td>\n",
       "      <td>39</td>\n",
       "      <td>0</td>\n",
       "    </tr>\n",
       "    <tr>\n",
       "      <th>1</th>\n",
       "      <td>Extract JSON response with 'location' and 'toy_list' as keys. 'location': Location of the caller. Include city only.'toy_list': List of toy names from the caller.</td>\n",
       "      <td>\\n[INST] &lt;&lt;SYS&gt;&gt;\\nBelow is an instruction that describes a task, paired with an input that provides further context. Write a response that appropriately completes the request.\\n&lt;&lt;/SYS&gt;&gt;\\n### Instruction:\\nExtract JSON response with 'location' and 'toy_list' as keys. 'location': Location of the caller. Include city only.'toy_list': List of toy names from the caller.\\n### Input:\\n\"caller: Hello, my name is Shawn, and I'm calling from Vancouver. I need to submit a holiday wish list for my kids but I could use some help picking out the perfect toys.\\nfrosty: Hi Shawn, from Vancouver! Let's find the best toys for your kids. Can you tell me a bit about their interests?\\ncaller: My daughter is 5 years old, and she loves Sesame Street, especially Elmo. As for my son, he's 9 and really into Pok\\u00e9mon.\\nfrosty: I have just the toys in mind! How about the Sesame Street Monster Meditation Elmo for your daughter and the Pok\\u00e9mon 8-inch Plush First Partner Three-Pack for your son?\\ncaller: Those sound perfect! Please add them to the wish list.\\nfrosty: I've added the Sesame Street Monster Meditation Elmo for your daughter and the Pok\\u00e9mon 8-inch Plush First Partner Three-Pack for your son to the wish list. I hope they enjoy their gifts, and I wish your family a fantastic holiday season in Vancouver!\"\\n### Output:\\n</td>\n",
       "      <td>{\"toy_list\": [\"Sesame Street Monster Meditation Elmo\", \"Pok\\u00e9mon 8-Inch Plush First Partner Three-Pack\"], \"location\": \"Vancouver\"}</td>\n",
       "      <td>EN</td>\n",
       "      <td>525</td>\n",
       "      <td>0</td>\n",
       "    </tr>\n",
       "    <tr>\n",
       "      <th>2</th>\n",
       "      <td>Extract JSON response with 'location' and 'toy_list' as keys. 'location': Location of the caller. Include city only.'toy_list': List of toy names from the caller.</td>\n",
       "      <td>\\n[INST] &lt;&lt;SYS&gt;&gt;\\nBelow is an instruction that describes a task, paired with an input that provides further context. Write a response that appropriately completes the request.\\n&lt;&lt;/SYS&gt;&gt;\\n### Instruction:\\nExtract JSON response with 'location' and 'toy_list' as keys. 'location': Location of the caller. Include city only.'toy_list': List of toy names from the caller.\\n### Input:\\n\"caller: Hi, can you help me with my holiday wish list?\\nfrosty: Of course! What's your name, and where are you calling from?\\ncaller: My name is James, and I'm in Melbourne.\\nfrosty: Hi James! Are you considering any specific toys from our catalog?\\ncaller: I can't decide between the ninja turtles delivery van and the spiderman playset.\\nfrosty: Both the Teenage Mutant Ninja Turtles: Mutant Mayhem Pizza Fire Delivery Van and Marvel's Spidey and His Amazing Friends Web Spinners playset are excellent choices! Why are you interested in these toys?\\ncaller: My child loves superhero and action toys.\\nfrosty: That makes sense! Can you tell me a little more about your holiday plans this season?\\ncaller: Our family is planning to stay home, watch movies, and just relax together.\\nfrosty: Sounds cozy and wonderful! Based on your child's love for superheroes, either toy would be great. Do you need help making a final decision?\\ncaller: Yes, please.\\nfrosty: The TMNT Pizza Fire Delivery Van offers an iconic vehicle for imaginative play. The Spiderman playset encourages interactive play with web-spinning action. Given this information, do you have a preference?\\ncaller: I think I'll go with the spiderman playset.\\nfrosty: Excellent choice! I have Marvel's Spidey and His Amazing Friends Web Spinners playset on your wish list. I hope your child has a blast with it, and you have a relaxing holiday season!\\ncaller: Thank you! Goodbye.\\nfrosty: Goodbye, James! Take care.\"\\n### Output:\\n</td>\n",
       "      <td>{\"toy_list\": [\"Marvel's Spidey and His Amazing Friends Web Spinners playset\"], \"location\": \"Melbourne\"}</td>\n",
       "      <td>EN</td>\n",
       "      <td>611</td>\n",
       "      <td>0</td>\n",
       "    </tr>\n",
       "    <tr>\n",
       "      <th>3</th>\n",
       "      <td>Extract JSON response with 'location' and 'toy_list' as keys. 'location': Location of the caller. Include city only.'toy_list': List of toy names from the caller.</td>\n",
       "      <td>\\n[INST] &lt;&lt;SYS&gt;&gt;\\nBelow is an instruction that describes a task, paired with an input that provides further context. Write a response that appropriately completes the request.\\n&lt;&lt;/SYS&gt;&gt;\\n### Instruction:\\nExtract JSON response with 'location' and 'toy_list' as keys. 'location': Location of the caller. Include city only.'toy_list': List of toy names from the caller.\\n### Input:\\n\"caller: Hi there, I need help picking a toy for my child's wish list.\\nfrosty: Hello! I'm Frosty the voice bot, and I'll be happy to help. What's your name and where are you calling from?\\ncaller: My name is Emily, and I'm from Chicago.\\nfrosty: Hi Emily! What type of toys is your child interested in?\\ncaller: Something educational, but also fun. We want them to learn while they play.\\nfrosty: How about the Snap Circuits: Junior or the LeapFrog Magic Adventures Microscope?\\ncaller: Hm, I've heard of Snap Circuits before. What's the Magic Adventures Microscope?\\nfrosty: The LeapFrog Magic Adventures Microscope is an interactive microscope with 20 slides, offering kids the chance to explore the world around them while learning about science and nature.\\ncaller: That sounds interesting. Let's go with the Magic Adventures Microscope!\\nfrosty: Excellent choice! How do you and your family plan to celebrate the holiday season?\\ncaller: We usually bake cookies together and enjoy a cozy movie night indoors.\\nfrosty: Sounds delightful! What is it about this time of the year that you enjoy the most?\\ncaller: I love seeing the excitement on my child's face as they experience all the festivities.\\nfrosty: That's precious! So I have the LeapFrog Magic Adventures Microscope on your child's wish list. Is there anything else you'd like to add?\\ncaller: No, that should be it for now. Thank you, Frosty!\\nfrosty: You're welcome, Emily! Have a wonderful holiday season!\\ncaller: You too!\"\\n### Output:\\n</td>\n",
       "      <td>{\"toy_list\": [\"LeapFrog Magic Adventures Microscope\"], \"location\": \"Chicago\"}</td>\n",
       "      <td>EN</td>\n",
       "      <td>687</td>\n",
       "      <td>0</td>\n",
       "    </tr>\n",
       "    <tr>\n",
       "      <th>4</th>\n",
       "      <td>Extract JSON response with 'location' and 'toy_list' as keys. 'location': Location of the caller. Include city only.'toy_list': List of toy names from the caller.</td>\n",
       "      <td>\\n[INST] &lt;&lt;SYS&gt;&gt;\\nBelow is an instruction that describes a task, paired with an input that provides further context. Write a response that appropriately completes the request.\\n&lt;&lt;/SYS&gt;&gt;\\n### Instruction:\\nExtract JSON response with 'location' and 'toy_list' as keys. 'location': Location of the caller. Include city only.'toy_list': List of toy names from the caller.\\n### Input:\\n\"caller: Hi, I am here to submit a holiday wish list for my child.\\nfrosty: Wonderful! I'd be happy to help. May I have your name, please?\\ncaller: Sure, I am Sarah from Wellington.\\nfrosty: Nice to meet you, Sarah! Let's get started on that wish list. Can you tell me the toy or toys your child is interested in?\\ncaller: My child really wants the furby, but I am also considering the trasformers bumblebee.\\nfrosty: Great choices! Why are you interested in these toys?\\ncaller: Well, my kid loves interactive plush toys and also enjoys action figures, so these seem like good options.\\nfrosty: I see. How do you and your family plan to celebrate the holiday season?\\ncaller: We usually have a big family gathering with lots of food and games. It's always so much fun!\\nfrosty: That sounds like a great time! What's your favorite holiday memory?\\ncaller: My favorite memory is when we all went caroling around the neighborhood. It was magical!\\nfrosty: What a lovely memory! Now, back to the toys, do you want to include both the furby and trasformers bumblebee in the wish list?\\ncaller: Hmm, let me think. I guess we can go with just the furby for now.\\nfrosty: Alright, I've noted the furby on the wish list. Can you confirm that this is the final toy choice?\\ncaller: Yes, that's correct.\\nfrosty: Fantastic! I've got the furby on your holiday wish list. Have a wonderful holiday season, Sarah!\\ncaller: Thank you, Frosty! You too!\"\\n### Output:\\n</td>\n",
       "      <td>{\"toy_list\": [\"Furby interactive plush toy\"], \"location\": \"Wellington\"}</td>\n",
       "      <td>EN</td>\n",
       "      <td>187</td>\n",
       "      <td>0</td>\n",
       "    </tr>\n",
       "  </tbody>\n",
       "</table>\n",
       "</div>"
      ],
      "text/plain": [
       "                                                                                                                                                          instruction  \\\n",
       "0  Extract JSON response with 'location' and 'toy_list' as keys. 'location': Location of the caller. Include city only.'toy_list': List of toy names from the caller.   \n",
       "1  Extract JSON response with 'location' and 'toy_list' as keys. 'location': Location of the caller. Include city only.'toy_list': List of toy names from the caller.   \n",
       "2  Extract JSON response with 'location' and 'toy_list' as keys. 'location': Location of the caller. Include city only.'toy_list': List of toy names from the caller.   \n",
       "3  Extract JSON response with 'location' and 'toy_list' as keys. 'location': Location of the caller. Include city only.'toy_list': List of toy names from the caller.   \n",
       "4  Extract JSON response with 'location' and 'toy_list' as keys. 'location': Location of the caller. Include city only.'toy_list': List of toy names from the caller.   \n",
       "\n",
       "                                                                                                                                                                                                                                                                                                                                                                                                                                                                                                                                                                                                                                                                                                                                                                                                                                                                                                                                                                                                                                                                                                                                                                                                                                                                                                                                                                                                                                                                                                                                                                                                                                                                                                                                                                                                                                                                                                                                                              input  \\\n",
       "0                                                                                                                                                                   \\n[INST] <<SYS>>\\nBelow is an instruction that describes a task, paired with an input that provides further context. Write a response that appropriately completes the request.\\n<</SYS>>\\n### Instruction:\\nExtract JSON response with 'location' and 'toy_list' as keys. 'location': Location of the caller. Include city only.'toy_list': List of toy names from the caller.\\n### Input:\\n\"caller: Hi there! \\nfrosty: Hello! Welcome to our Holiday Wish List line! How can I help you today? \\ncaller: My name is Sarah and I'm calling from London. I wanted to submit a wish list for my child. \\nfrosty: Wonderful, Sarah! It's great to have you on the line. What country do you live in? \\ncaller: I live in the United Kingdom. \\nfrosty: That's fantastic! What's on your wish list? \\ncaller: I think my child would like the transformers bumblebee. \\nfrosty: Great choice! Why are you interested in this toy? \\ncaller: My child loves action figures and Transformers. I think he'll have a lot of fun with this one. \\nfrosty: That sounds perfect! How do you and your family plan to celebrate the holiday season? \\ncaller: We usually have a big family gathering at our house with lots of food and games. \\nfrosty: That sounds lovely! Do you have a favorite holiday memory or pastime? \\ncaller: My favorite memory is baking holiday cookies with my mom when I was a child. \\nfrosty: That's a beautiful memory! So, just to confirm, you would like to add the Transformers Rise of the Beasts Beast-Mode Bumblebee to your wish list? \\ncaller: Yes, that's correct! \\nfrosty: Excellent! Thank you, Sarah, and I hope you and your family have a wonderful holiday season! \\ncaller: Thank you! Have a great day! \\nfrosty: You too! Goodbye!\"\\n### Output:\\n   \n",
       "1                                                                                                                                                                                                                                                                                                                                                                                                                                                                                                                                                                             \\n[INST] <<SYS>>\\nBelow is an instruction that describes a task, paired with an input that provides further context. Write a response that appropriately completes the request.\\n<</SYS>>\\n### Instruction:\\nExtract JSON response with 'location' and 'toy_list' as keys. 'location': Location of the caller. Include city only.'toy_list': List of toy names from the caller.\\n### Input:\\n\"caller: Hello, my name is Shawn, and I'm calling from Vancouver. I need to submit a holiday wish list for my kids but I could use some help picking out the perfect toys.\\nfrosty: Hi Shawn, from Vancouver! Let's find the best toys for your kids. Can you tell me a bit about their interests?\\ncaller: My daughter is 5 years old, and she loves Sesame Street, especially Elmo. As for my son, he's 9 and really into Pok\\u00e9mon.\\nfrosty: I have just the toys in mind! How about the Sesame Street Monster Meditation Elmo for your daughter and the Pok\\u00e9mon 8-inch Plush First Partner Three-Pack for your son?\\ncaller: Those sound perfect! Please add them to the wish list.\\nfrosty: I've added the Sesame Street Monster Meditation Elmo for your daughter and the Pok\\u00e9mon 8-inch Plush First Partner Three-Pack for your son to the wish list. I hope they enjoy their gifts, and I wish your family a fantastic holiday season in Vancouver!\"\\n### Output:\\n   \n",
       "2              \\n[INST] <<SYS>>\\nBelow is an instruction that describes a task, paired with an input that provides further context. Write a response that appropriately completes the request.\\n<</SYS>>\\n### Instruction:\\nExtract JSON response with 'location' and 'toy_list' as keys. 'location': Location of the caller. Include city only.'toy_list': List of toy names from the caller.\\n### Input:\\n\"caller: Hi, can you help me with my holiday wish list?\\nfrosty: Of course! What's your name, and where are you calling from?\\ncaller: My name is James, and I'm in Melbourne.\\nfrosty: Hi James! Are you considering any specific toys from our catalog?\\ncaller: I can't decide between the ninja turtles delivery van and the spiderman playset.\\nfrosty: Both the Teenage Mutant Ninja Turtles: Mutant Mayhem Pizza Fire Delivery Van and Marvel's Spidey and His Amazing Friends Web Spinners playset are excellent choices! Why are you interested in these toys?\\ncaller: My child loves superhero and action toys.\\nfrosty: That makes sense! Can you tell me a little more about your holiday plans this season?\\ncaller: Our family is planning to stay home, watch movies, and just relax together.\\nfrosty: Sounds cozy and wonderful! Based on your child's love for superheroes, either toy would be great. Do you need help making a final decision?\\ncaller: Yes, please.\\nfrosty: The TMNT Pizza Fire Delivery Van offers an iconic vehicle for imaginative play. The Spiderman playset encourages interactive play with web-spinning action. Given this information, do you have a preference?\\ncaller: I think I'll go with the spiderman playset.\\nfrosty: Excellent choice! I have Marvel's Spidey and His Amazing Friends Web Spinners playset on your wish list. I hope your child has a blast with it, and you have a relaxing holiday season!\\ncaller: Thank you! Goodbye.\\nfrosty: Goodbye, James! Take care.\"\\n### Output:\\n   \n",
       "3  \\n[INST] <<SYS>>\\nBelow is an instruction that describes a task, paired with an input that provides further context. Write a response that appropriately completes the request.\\n<</SYS>>\\n### Instruction:\\nExtract JSON response with 'location' and 'toy_list' as keys. 'location': Location of the caller. Include city only.'toy_list': List of toy names from the caller.\\n### Input:\\n\"caller: Hi there, I need help picking a toy for my child's wish list.\\nfrosty: Hello! I'm Frosty the voice bot, and I'll be happy to help. What's your name and where are you calling from?\\ncaller: My name is Emily, and I'm from Chicago.\\nfrosty: Hi Emily! What type of toys is your child interested in?\\ncaller: Something educational, but also fun. We want them to learn while they play.\\nfrosty: How about the Snap Circuits: Junior or the LeapFrog Magic Adventures Microscope?\\ncaller: Hm, I've heard of Snap Circuits before. What's the Magic Adventures Microscope?\\nfrosty: The LeapFrog Magic Adventures Microscope is an interactive microscope with 20 slides, offering kids the chance to explore the world around them while learning about science and nature.\\ncaller: That sounds interesting. Let's go with the Magic Adventures Microscope!\\nfrosty: Excellent choice! How do you and your family plan to celebrate the holiday season?\\ncaller: We usually bake cookies together and enjoy a cozy movie night indoors.\\nfrosty: Sounds delightful! What is it about this time of the year that you enjoy the most?\\ncaller: I love seeing the excitement on my child's face as they experience all the festivities.\\nfrosty: That's precious! So I have the LeapFrog Magic Adventures Microscope on your child's wish list. Is there anything else you'd like to add?\\ncaller: No, that should be it for now. Thank you, Frosty!\\nfrosty: You're welcome, Emily! Have a wonderful holiday season!\\ncaller: You too!\"\\n### Output:\\n   \n",
       "4                                                         \\n[INST] <<SYS>>\\nBelow is an instruction that describes a task, paired with an input that provides further context. Write a response that appropriately completes the request.\\n<</SYS>>\\n### Instruction:\\nExtract JSON response with 'location' and 'toy_list' as keys. 'location': Location of the caller. Include city only.'toy_list': List of toy names from the caller.\\n### Input:\\n\"caller: Hi, I am here to submit a holiday wish list for my child.\\nfrosty: Wonderful! I'd be happy to help. May I have your name, please?\\ncaller: Sure, I am Sarah from Wellington.\\nfrosty: Nice to meet you, Sarah! Let's get started on that wish list. Can you tell me the toy or toys your child is interested in?\\ncaller: My child really wants the furby, but I am also considering the trasformers bumblebee.\\nfrosty: Great choices! Why are you interested in these toys?\\ncaller: Well, my kid loves interactive plush toys and also enjoys action figures, so these seem like good options.\\nfrosty: I see. How do you and your family plan to celebrate the holiday season?\\ncaller: We usually have a big family gathering with lots of food and games. It's always so much fun!\\nfrosty: That sounds like a great time! What's your favorite holiday memory?\\ncaller: My favorite memory is when we all went caroling around the neighborhood. It was magical!\\nfrosty: What a lovely memory! Now, back to the toys, do you want to include both the furby and trasformers bumblebee in the wish list?\\ncaller: Hmm, let me think. I guess we can go with just the furby for now.\\nfrosty: Alright, I've noted the furby on the wish list. Can you confirm that this is the final toy choice?\\ncaller: Yes, that's correct.\\nfrosty: Fantastic! I've got the furby on your holiday wish list. Have a wonderful holiday season, Sarah!\\ncaller: Thank you, Frosty! You too!\"\\n### Output:\\n   \n",
       "\n",
       "                                                                                                                                   output  \\\n",
       "0                                            {\"toy_list\": [\"Transformers Rise of the Beasts Beast-Mode Bumblebee\"], \"location\": \"London\"}   \n",
       "1  {\"toy_list\": [\"Sesame Street Monster Meditation Elmo\", \"Pok\\u00e9mon 8-Inch Plush First Partner Three-Pack\"], \"location\": \"Vancouver\"}   \n",
       "2                                 {\"toy_list\": [\"Marvel's Spidey and His Amazing Friends Web Spinners playset\"], \"location\": \"Melbourne\"}   \n",
       "3                                                           {\"toy_list\": [\"LeapFrog Magic Adventures Microscope\"], \"location\": \"Chicago\"}   \n",
       "4                                                                 {\"toy_list\": [\"Furby interactive plush toy\"], \"location\": \"Wellington\"}   \n",
       "\n",
       "  language   id  lang_label  \n",
       "0       EN   39           0  \n",
       "1       EN  525           0  \n",
       "2       EN  611           0  \n",
       "3       EN  687           0  \n",
       "4       EN  187           0  "
      ]
     },
     "execution_count": 39,
     "metadata": {},
     "output_type": "execute_result"
    }
   ],
   "source": [
    "eval_df['input'] = eval_df.apply(\n",
    "    lambda x: eval_prompt.format(\n",
    "        instruction=x[\"instruction\"],\n",
    "        input_=x[\"input\"].replace('\\\\n', '\\n')\n",
    "    ), axis=1\n",
    ")\n",
    "eval_df.reset_index(drop=True, inplace=True)\n",
    "eval_df.head()"
   ]
  },
  {
   "cell_type": "code",
   "execution_count": 40,
   "metadata": {
    "tags": []
   },
   "outputs": [
    {
     "name": "stderr",
     "output_type": "stream",
     "text": [
      "INFO:snowflake.connector.cursor:query: [SHOW TABLES LIKE '_SYSTEM_REGISTRY_SCHEMA_VERSION' IN DASH_DB.DASH_SCHEMA]\n",
      "INFO:snowflake.connector.cursor:query execution done\n",
      "INFO:snowflake.connector.cursor:Number of results in first chunk: 1\n",
      "INFO:snowflake.connector.cursor:query: [SELECT MAX(VERSION) AS MAX_VERSION FROM DASH_DB.DASH_SCHEMA._SYSTEM_REGISTRY_SCH...]\n",
      "INFO:snowflake.connector.cursor:query execution done\n",
      "INFO:snowflake.connector.cursor:Number of results in first chunk: 1\n",
      "INFO:snowflake.connector.cursor:query: [SELECT * FROM DASH_DB.DASH_SCHEMA._SYSTEM_REGISTRY_DEPLOYMENTS_VIEW]\n",
      "INFO:snowflake.connector.cursor:query execution done\n",
      "INFO:snowflake.connector.cursor:Number of results in first chunk: 0\n",
      "INFO:snowflake.connector.cursor:query: [SELECT count(1) AS \"COUNT(LITERAL())\" FROM ( SELECT \"MODEL_NAME\", \"MODEL_VERSION...]\n",
      "INFO:snowflake.connector.cursor:query execution done\n",
      "INFO:snowflake.connector.cursor:Number of results in first chunk: 1\n",
      "INFO:snowflake.connector.cursor:query: [SELECT \"MODEL_NAME\", \"MODEL_VERSION\", \"DEPLOYMENT_NAME\", \"CREATION_TIME\", \"TARGE...]\n",
      "INFO:snowflake.connector.cursor:query execution done\n",
      "INFO:snowflake.connector.cursor:Number of results in first chunk: 1\n",
      "INFO:snowflake.connector.cursor:query: [CREATE TEMP STAGE /* Python:snowflake.connector.pandas_tools.write_pandas() */ \"...]\n",
      "INFO:snowflake.connector.cursor:query execution done\n",
      "INFO:snowflake.connector.cursor:Number of results in first chunk: 1\n",
      "INFO:snowflake.connector.cursor:query: [PUT /* Python:snowflake.connector.pandas_tools.write_pandas() */ 'file:///tmp/tm...]\n",
      "INFO:snowflake.connector.cursor:query execution done\n",
      "INFO:snowflake.connector.cursor:query: [CREATE TEMP FILE FORMAT \"DASH_DB\".\"DASH_SCHEMA\".\"svbfkagsey\" /* Python:snowflake...]\n",
      "INFO:snowflake.connector.cursor:query execution done\n",
      "INFO:snowflake.connector.cursor:Number of results in first chunk: 1\n",
      "INFO:snowflake.connector.cursor:query: [SELECT COLUMN_NAME, TYPE FROM table(infer_schema(location=>'@\"DASH_DB\".\"DASH_SCH...]\n",
      "INFO:snowflake.connector.cursor:query execution done\n",
      "INFO:snowflake.connector.cursor:Number of results in first chunk: 6\n",
      "INFO:snowflake.connector.cursor:query: [CREATE TEMPORARY TABLE IF NOT EXISTS \"DASH_DB\".\"DASH_SCHEMA\".\"SNOWPARK_TEMP_TABL...]\n",
      "INFO:snowflake.connector.cursor:query execution done\n",
      "INFO:snowflake.connector.cursor:Number of results in first chunk: 1\n",
      "INFO:snowflake.connector.cursor:query: [COPY INTO \"DASH_DB\".\"DASH_SCHEMA\".\"SNOWPARK_TEMP_TABLE_0A5VRL6X2E\" /* Python:sno...]\n",
      "INFO:snowflake.connector.cursor:query execution done\n",
      "INFO:snowflake.connector.cursor:Number of results in first chunk: 1\n",
      "INFO:snowflake.connector.cursor:query: [SELECT  *  FROM \"DASH_DB\".\"DASH_SCHEMA\".\"SNOWPARK_TEMP_TABLE_0A5VRL6X2E\"]\n",
      "INFO:snowflake.connector.cursor:query execution done\n",
      "INFO:snowflake.connector.cursor:Number of results in first chunk: 0\n",
      "INFO:snowflake.connector.cursor:query: [SELECT  CAST (\"instruction\" AS STRING) AS \"instruction\",  CAST (\"input\" AS STRIN...]\n",
      "INFO:snowflake.connector.cursor:query execution done\n",
      "INFO:snowflake.connector.cursor:Number of results in first chunk: 0\n",
      "INFO:snowflake.connector.cursor:query: [SELECT  CAST (\"TMP_RESULT\"['generated_text'] AS STRING) AS \"generated_text\" FROM...]\n",
      "INFO:snowflake.connector.cursor:query execution done\n",
      "INFO:snowflake.connector.cursor:Number of results in first chunk: 68\n",
      "INFO:snowflake.connector.cursor:query: [SELECT  CAST (\"TMP_RESULT\"['generated_text'] AS STRING) AS \"generated_text\" FROM...]\n",
      "INFO:snowflake.connector.cursor:query execution done\n",
      "INFO:snowflake.connector.cursor:Number of results in first chunk: 0\n"
     ]
    },
    {
     "data": {
      "text/html": [
       "<div>\n",
       "<style scoped>\n",
       "    .dataframe tbody tr th:only-of-type {\n",
       "        vertical-align: middle;\n",
       "    }\n",
       "\n",
       "    .dataframe tbody tr th {\n",
       "        vertical-align: top;\n",
       "    }\n",
       "\n",
       "    .dataframe thead th {\n",
       "        text-align: right;\n",
       "    }\n",
       "</style>\n",
       "<table border=\"1\" class=\"dataframe\">\n",
       "  <thead>\n",
       "    <tr style=\"text-align: right;\">\n",
       "      <th></th>\n",
       "      <th>output</th>\n",
       "      <th>predicted</th>\n",
       "    </tr>\n",
       "  </thead>\n",
       "  <tbody>\n",
       "    <tr>\n",
       "      <th>0</th>\n",
       "      <td>{\"toy_list\": [\"Transformers Rise of the Beasts Beast-Mode Bumblebee\"], \"location\": \"London\"}</td>\n",
       "      <td>{\"location\": \"London\", \"toy_list\": [\"Transformers Rise of the Beasts Beast-Mode Bumblebee\"]}\\n</td>\n",
       "    </tr>\n",
       "    <tr>\n",
       "      <th>1</th>\n",
       "      <td>{\"toy_list\": [\"Sesame Street Monster Meditation Elmo\", \"Pok\\u00e9mon 8-Inch Plush First Partner Three-Pack\"], \"location\": \"Vancouver\"}</td>\n",
       "      <td>{\"location\": \"Vancouver\", \"toy_list\": [\"Sesame Street Monster Meditation Elmo\", \"Pok\\u00e9mon 8-inch Plush First Partner Three-Pack\"]}\\n</td>\n",
       "    </tr>\n",
       "    <tr>\n",
       "      <th>2</th>\n",
       "      <td>{\"toy_list\": [\"Marvel's Spidey and His Amazing Friends Web Spinners playset\"], \"location\": \"Melbourne\"}</td>\n",
       "      <td>{\"location\": \"Melbourne\", \"toy_list\": [\"Marvel's Spidey and His Amazing Friends Web Spinners playset\"]}\\n</td>\n",
       "    </tr>\n",
       "    <tr>\n",
       "      <th>3</th>\n",
       "      <td>{\"toy_list\": [\"LeapFrog Magic Adventures Microscope\"], \"location\": \"Chicago\"}</td>\n",
       "      <td>{\\n\"location\": \"Chicago\",\\n\"toy_list\": [\"LeapFrog Magic Adventures Microscope\"]\\n}\\n</td>\n",
       "    </tr>\n",
       "    <tr>\n",
       "      <th>4</th>\n",
       "      <td>{\"toy_list\": [\"Furby interactive plush toy\"], \"location\": \"Wellington\"}</td>\n",
       "      <td>{\"location\": \"Wellington\", \"toy_list\": [\"furby\"]}\\n</td>\n",
       "    </tr>\n",
       "  </tbody>\n",
       "</table>\n",
       "</div>"
      ],
      "text/plain": [
       "                                                                                                                                   output  \\\n",
       "0                                            {\"toy_list\": [\"Transformers Rise of the Beasts Beast-Mode Bumblebee\"], \"location\": \"London\"}   \n",
       "1  {\"toy_list\": [\"Sesame Street Monster Meditation Elmo\", \"Pok\\u00e9mon 8-Inch Plush First Partner Three-Pack\"], \"location\": \"Vancouver\"}   \n",
       "2                                 {\"toy_list\": [\"Marvel's Spidey and His Amazing Friends Web Spinners playset\"], \"location\": \"Melbourne\"}   \n",
       "3                                                           {\"toy_list\": [\"LeapFrog Magic Adventures Microscope\"], \"location\": \"Chicago\"}   \n",
       "4                                                                 {\"toy_list\": [\"Furby interactive plush toy\"], \"location\": \"Wellington\"}   \n",
       "\n",
       "                                                                                                                                  predicted  \n",
       "0                                            {\"location\": \"London\", \"toy_list\": [\"Transformers Rise of the Beasts Beast-Mode Bumblebee\"]}\\n  \n",
       "1  {\"location\": \"Vancouver\", \"toy_list\": [\"Sesame Street Monster Meditation Elmo\", \"Pok\\u00e9mon 8-inch Plush First Partner Three-Pack\"]}\\n  \n",
       "2                                 {\"location\": \"Melbourne\", \"toy_list\": [\"Marvel's Spidey and His Amazing Friends Web Spinners playset\"]}\\n  \n",
       "3                                                      {\\n\"location\": \"Chicago\",\\n\"toy_list\": [\"LeapFrog Magic Adventures Microscope\"]\\n}\\n  \n",
       "4                                                                                       {\"location\": \"Wellington\", \"toy_list\": [\"furby\"]}\\n  "
      ]
     },
     "execution_count": 40,
     "metadata": {},
     "output_type": "execute_result"
    }
   ],
   "source": [
    "eval_df['predicted'] = llama_model_ref.predict(deployment_name=DEPLOYMENT_NAME,data=eval_df)\n",
    "eval_df[['output', 'predicted']].head()"
   ]
  },
  {
   "cell_type": "code",
   "execution_count": null,
   "metadata": {},
   "outputs": [],
   "source": []
  }
 ],
 "metadata": {
  "kernelspec": {
   "display_name": "Python 3 (ipykernel)",
   "language": "python",
   "name": "python3"
  },
  "language_info": {
   "codemirror_mode": {
    "name": "ipython",
    "version": 3
   },
   "file_extension": ".py",
   "mimetype": "text/x-python",
   "name": "python",
   "nbconvert_exporter": "python",
   "pygments_lexer": "ipython3",
   "version": "3.10.11"
  }
 },
 "nbformat": 4,
 "nbformat_minor": 4
}
